{
 "cells": [
  {
   "cell_type": "markdown",
   "id": "d4a4521d-802e-4a72-9afc-7b39eb7e5fdb",
   "metadata": {
    "tags": []
   },
   "source": [
    "# Bird Type Classification Using the Bird Bones"
   ]
  },
  {
   "cell_type": "markdown",
   "id": "92e522ea-35b2-42f8-84ba-0bc8f1a49bc1",
   "metadata": {},
   "source": [
    "# List of Contents\n",
    "## 1 - Exploratory Data Analysis & Pre-processing\n",
    "## 2 - Training the models\n",
    "## 3 - Evaluating and selecting one model"
   ]
  },
  {
   "cell_type": "markdown",
   "id": "b3e07b78-c093-4107-a73a-3c4ebc26f531",
   "metadata": {},
   "source": [
    "the first step is to call all the libraries we require to execute this project"
   ]
  },
  {
   "cell_type": "code",
   "execution_count": 1,
   "id": "240ab111-d9f0-4f3a-aeb9-26d9a58fd817",
   "metadata": {},
   "outputs": [],
   "source": [
    "# import necessary libraries\n",
    "import pandas as pd # pandas is a library for data manipulation and analysis\n",
    "import numpy as np # numpy is a library for numerical operations\n",
    "import matplotlib.pyplot as plt # matplotlib are libraries for data visualization\n",
    "import seaborn as sns # seaborn are libraries for data visualization\n",
    "from sklearn.model_selection import train_test_split # import functions for splitting data into training and testing sets\n",
    "from sklearn.model_selection import GridSearchCV # import functions and for performing grid search\n",
    "from sklearn.preprocessing import QuantileTransformer # import function for quantile transformation\n",
    "from sklearn.tree import DecisionTreeClassifier # DecisionTreeClassifier is a class for building a decision tree model\n",
    "from sklearn.ensemble import RandomForestClassifier # RandomForestClassifier is a class for building a random forest model\n",
    "from sklearn.preprocessing import StandardScaler # library for standardization\n",
    "from sklearn.neighbors import KNeighborsClassifier # KNeighborsClassifier is a class for building a k-nearest neighbors model\n",
    "from imblearn.over_sampling import SMOTE # SMOTE stands for Synthetic Minority Oversampling Technique and is a method for oversampling minority classes in imbalanced datasets\n",
    "import sklearn.metrics as metrics # import the sklearn library as \"metrics\" for shorter reference in the code\n",
    "from sklearn import preprocessing # import preprocessing functions from sklearn\n",
    "import warnings # suppress warnings from being printed\n",
    "%matplotlib inline\n",
    "\n",
    "warnings.filterwarnings('ignore') # suppress warnings from being printed"
   ]
  },
  {
   "cell_type": "markdown",
   "id": "533cbe53-d7ff-4fd3-8bfb-082bf9dab11d",
   "metadata": {},
   "source": [
    "## 1- Exploratory Data Analysis and Pre-processing"
   ]
  },
  {
   "cell_type": "markdown",
   "id": "40433e8d-5195-4e11-8397-0c2b091650d4",
   "metadata": {},
   "source": [
    "The first step of training any model is to initialise by doing the Exploratory Data Analysis(EDA) which consists of multiple steps to visualise the data and enable us to manipulate data to perform training on the pre-processed data to create a model. EDA and pre-processing might be a connected processes as they happen simoultaneously as we visualise the data which is a part of EDA and then we manipulate the data as we visualize the data for a better performance of the model. "
   ]
  },
  {
   "cell_type": "markdown",
   "id": "35f88368-7fae-4610-ac18-e4c95c9fdf87",
   "metadata": {},
   "source": [
    "### a- loading the data is the first step of EDA"
   ]
  },
  {
   "cell_type": "code",
   "execution_count": 2,
   "id": "55b841c7-aebe-4b1e-a582-0007f8e7df2f",
   "metadata": {},
   "outputs": [],
   "source": [
    "data = pd.read_csv('./bird.csv') # lodaing the file from the directory"
   ]
  },
  {
   "cell_type": "code",
   "execution_count": 3,
   "id": "e0e6b888-3090-4994-b0db-991930d55290",
   "metadata": {},
   "outputs": [
    {
     "data": {
      "text/plain": [
       "(420, 12)"
      ]
     },
     "execution_count": 3,
     "metadata": {},
     "output_type": "execute_result"
    }
   ],
   "source": [
    "data.shape"
   ]
  },
  {
   "cell_type": "code",
   "execution_count": 4,
   "id": "6c13b766-daa9-4f3d-9522-951496fd30e0",
   "metadata": {},
   "outputs": [
    {
     "data": {
      "text/html": [
       "<div>\n",
       "<style scoped>\n",
       "    .dataframe tbody tr th:only-of-type {\n",
       "        vertical-align: middle;\n",
       "    }\n",
       "\n",
       "    .dataframe tbody tr th {\n",
       "        vertical-align: top;\n",
       "    }\n",
       "\n",
       "    .dataframe thead th {\n",
       "        text-align: right;\n",
       "    }\n",
       "</style>\n",
       "<table border=\"1\" class=\"dataframe\">\n",
       "  <thead>\n",
       "    <tr style=\"text-align: right;\">\n",
       "      <th></th>\n",
       "      <th>id</th>\n",
       "      <th>huml</th>\n",
       "      <th>humw</th>\n",
       "      <th>ulnal</th>\n",
       "      <th>ulnaw</th>\n",
       "      <th>feml</th>\n",
       "      <th>femw</th>\n",
       "      <th>tibl</th>\n",
       "      <th>tibw</th>\n",
       "      <th>tarl</th>\n",
       "      <th>tarw</th>\n",
       "      <th>type</th>\n",
       "    </tr>\n",
       "  </thead>\n",
       "  <tbody>\n",
       "    <tr>\n",
       "      <th>0</th>\n",
       "      <td>0</td>\n",
       "      <td>80.78</td>\n",
       "      <td>6.68</td>\n",
       "      <td>72.01</td>\n",
       "      <td>4.88</td>\n",
       "      <td>41.81</td>\n",
       "      <td>3.70</td>\n",
       "      <td>5.50</td>\n",
       "      <td>4.03</td>\n",
       "      <td>38.70</td>\n",
       "      <td>3.84</td>\n",
       "      <td>SW</td>\n",
       "    </tr>\n",
       "    <tr>\n",
       "      <th>1</th>\n",
       "      <td>1</td>\n",
       "      <td>88.91</td>\n",
       "      <td>6.63</td>\n",
       "      <td>80.53</td>\n",
       "      <td>5.59</td>\n",
       "      <td>47.04</td>\n",
       "      <td>4.30</td>\n",
       "      <td>80.22</td>\n",
       "      <td>4.51</td>\n",
       "      <td>41.50</td>\n",
       "      <td>4.01</td>\n",
       "      <td>SW</td>\n",
       "    </tr>\n",
       "    <tr>\n",
       "      <th>2</th>\n",
       "      <td>2</td>\n",
       "      <td>79.97</td>\n",
       "      <td>6.37</td>\n",
       "      <td>69.26</td>\n",
       "      <td>5.28</td>\n",
       "      <td>43.07</td>\n",
       "      <td>3.90</td>\n",
       "      <td>75.35</td>\n",
       "      <td>4.04</td>\n",
       "      <td>38.31</td>\n",
       "      <td>3.34</td>\n",
       "      <td>SW</td>\n",
       "    </tr>\n",
       "    <tr>\n",
       "      <th>3</th>\n",
       "      <td>3</td>\n",
       "      <td>77.65</td>\n",
       "      <td>5.70</td>\n",
       "      <td>65.76</td>\n",
       "      <td>4.77</td>\n",
       "      <td>40.04</td>\n",
       "      <td>3.52</td>\n",
       "      <td>69.17</td>\n",
       "      <td>3.40</td>\n",
       "      <td>35.78</td>\n",
       "      <td>3.41</td>\n",
       "      <td>SW</td>\n",
       "    </tr>\n",
       "    <tr>\n",
       "      <th>4</th>\n",
       "      <td>4</td>\n",
       "      <td>62.80</td>\n",
       "      <td>4.84</td>\n",
       "      <td>52.09</td>\n",
       "      <td>3.73</td>\n",
       "      <td>33.95</td>\n",
       "      <td>2.72</td>\n",
       "      <td>56.27</td>\n",
       "      <td>2.96</td>\n",
       "      <td>31.88</td>\n",
       "      <td>3.13</td>\n",
       "      <td>SW</td>\n",
       "    </tr>\n",
       "  </tbody>\n",
       "</table>\n",
       "</div>"
      ],
      "text/plain": [
       "   id   huml  humw  ulnal  ulnaw   feml  femw   tibl  tibw   tarl  tarw type\n",
       "0   0  80.78  6.68  72.01   4.88  41.81  3.70   5.50  4.03  38.70  3.84   SW\n",
       "1   1  88.91  6.63  80.53   5.59  47.04  4.30  80.22  4.51  41.50  4.01   SW\n",
       "2   2  79.97  6.37  69.26   5.28  43.07  3.90  75.35  4.04  38.31  3.34   SW\n",
       "3   3  77.65  5.70  65.76   4.77  40.04  3.52  69.17  3.40  35.78  3.41   SW\n",
       "4   4  62.80  4.84  52.09   3.73  33.95  2.72  56.27  2.96  31.88  3.13   SW"
      ]
     },
     "execution_count": 4,
     "metadata": {},
     "output_type": "execute_result"
    }
   ],
   "source": [
    "data.head() # reading the data columns and rows to know the dimensions of the data"
   ]
  },
  {
   "cell_type": "code",
   "execution_count": 5,
   "id": "49e781a7-d136-4a5e-a47e-4260a2d6210f",
   "metadata": {},
   "outputs": [
    {
     "data": {
      "text/html": [
       "<div>\n",
       "<style scoped>\n",
       "    .dataframe tbody tr th:only-of-type {\n",
       "        vertical-align: middle;\n",
       "    }\n",
       "\n",
       "    .dataframe tbody tr th {\n",
       "        vertical-align: top;\n",
       "    }\n",
       "\n",
       "    .dataframe thead th {\n",
       "        text-align: right;\n",
       "    }\n",
       "</style>\n",
       "<table border=\"1\" class=\"dataframe\">\n",
       "  <thead>\n",
       "    <tr style=\"text-align: right;\">\n",
       "      <th></th>\n",
       "      <th>count</th>\n",
       "      <th>mean</th>\n",
       "      <th>std</th>\n",
       "      <th>min</th>\n",
       "      <th>25%</th>\n",
       "      <th>50%</th>\n",
       "      <th>75%</th>\n",
       "      <th>max</th>\n",
       "    </tr>\n",
       "  </thead>\n",
       "  <tbody>\n",
       "    <tr>\n",
       "      <th>id</th>\n",
       "      <td>420.0</td>\n",
       "      <td>209.500000</td>\n",
       "      <td>121.387808</td>\n",
       "      <td>0.00</td>\n",
       "      <td>104.7500</td>\n",
       "      <td>209.500</td>\n",
       "      <td>314.250</td>\n",
       "      <td>419.00</td>\n",
       "    </tr>\n",
       "    <tr>\n",
       "      <th>huml</th>\n",
       "      <td>419.0</td>\n",
       "      <td>64.650501</td>\n",
       "      <td>53.834549</td>\n",
       "      <td>9.85</td>\n",
       "      <td>25.1700</td>\n",
       "      <td>44.180</td>\n",
       "      <td>90.310</td>\n",
       "      <td>420.00</td>\n",
       "    </tr>\n",
       "    <tr>\n",
       "      <th>humw</th>\n",
       "      <td>419.0</td>\n",
       "      <td>4.370573</td>\n",
       "      <td>2.854617</td>\n",
       "      <td>1.14</td>\n",
       "      <td>2.1900</td>\n",
       "      <td>3.500</td>\n",
       "      <td>5.810</td>\n",
       "      <td>17.84</td>\n",
       "    </tr>\n",
       "    <tr>\n",
       "      <th>ulnal</th>\n",
       "      <td>417.0</td>\n",
       "      <td>69.115372</td>\n",
       "      <td>58.784775</td>\n",
       "      <td>14.09</td>\n",
       "      <td>28.0500</td>\n",
       "      <td>43.710</td>\n",
       "      <td>97.520</td>\n",
       "      <td>422.00</td>\n",
       "    </tr>\n",
       "    <tr>\n",
       "      <th>ulnaw</th>\n",
       "      <td>418.0</td>\n",
       "      <td>3.597249</td>\n",
       "      <td>2.186747</td>\n",
       "      <td>1.00</td>\n",
       "      <td>1.8700</td>\n",
       "      <td>2.945</td>\n",
       "      <td>4.770</td>\n",
       "      <td>12.00</td>\n",
       "    </tr>\n",
       "    <tr>\n",
       "      <th>feml</th>\n",
       "      <td>418.0</td>\n",
       "      <td>36.872416</td>\n",
       "      <td>19.979082</td>\n",
       "      <td>11.83</td>\n",
       "      <td>21.2975</td>\n",
       "      <td>31.130</td>\n",
       "      <td>47.120</td>\n",
       "      <td>117.07</td>\n",
       "    </tr>\n",
       "    <tr>\n",
       "      <th>femw</th>\n",
       "      <td>419.0</td>\n",
       "      <td>3.220883</td>\n",
       "      <td>2.023581</td>\n",
       "      <td>0.93</td>\n",
       "      <td>1.7150</td>\n",
       "      <td>2.520</td>\n",
       "      <td>4.135</td>\n",
       "      <td>11.64</td>\n",
       "    </tr>\n",
       "    <tr>\n",
       "      <th>tibl</th>\n",
       "      <td>418.0</td>\n",
       "      <td>64.662823</td>\n",
       "      <td>37.838145</td>\n",
       "      <td>5.50</td>\n",
       "      <td>36.4175</td>\n",
       "      <td>52.120</td>\n",
       "      <td>82.870</td>\n",
       "      <td>240.00</td>\n",
       "    </tr>\n",
       "    <tr>\n",
       "      <th>tibw</th>\n",
       "      <td>419.0</td>\n",
       "      <td>3.182339</td>\n",
       "      <td>2.080827</td>\n",
       "      <td>0.87</td>\n",
       "      <td>1.5650</td>\n",
       "      <td>2.490</td>\n",
       "      <td>4.255</td>\n",
       "      <td>11.03</td>\n",
       "    </tr>\n",
       "    <tr>\n",
       "      <th>tarl</th>\n",
       "      <td>419.0</td>\n",
       "      <td>39.229976</td>\n",
       "      <td>23.184313</td>\n",
       "      <td>7.77</td>\n",
       "      <td>23.0350</td>\n",
       "      <td>31.740</td>\n",
       "      <td>50.250</td>\n",
       "      <td>175.00</td>\n",
       "    </tr>\n",
       "    <tr>\n",
       "      <th>tarw</th>\n",
       "      <td>419.0</td>\n",
       "      <td>2.930024</td>\n",
       "      <td>2.185673</td>\n",
       "      <td>0.66</td>\n",
       "      <td>1.4250</td>\n",
       "      <td>2.230</td>\n",
       "      <td>3.500</td>\n",
       "      <td>14.09</td>\n",
       "    </tr>\n",
       "  </tbody>\n",
       "</table>\n",
       "</div>"
      ],
      "text/plain": [
       "       count        mean         std    min       25%      50%      75%  \\\n",
       "id     420.0  209.500000  121.387808   0.00  104.7500  209.500  314.250   \n",
       "huml   419.0   64.650501   53.834549   9.85   25.1700   44.180   90.310   \n",
       "humw   419.0    4.370573    2.854617   1.14    2.1900    3.500    5.810   \n",
       "ulnal  417.0   69.115372   58.784775  14.09   28.0500   43.710   97.520   \n",
       "ulnaw  418.0    3.597249    2.186747   1.00    1.8700    2.945    4.770   \n",
       "feml   418.0   36.872416   19.979082  11.83   21.2975   31.130   47.120   \n",
       "femw   419.0    3.220883    2.023581   0.93    1.7150    2.520    4.135   \n",
       "tibl   418.0   64.662823   37.838145   5.50   36.4175   52.120   82.870   \n",
       "tibw   419.0    3.182339    2.080827   0.87    1.5650    2.490    4.255   \n",
       "tarl   419.0   39.229976   23.184313   7.77   23.0350   31.740   50.250   \n",
       "tarw   419.0    2.930024    2.185673   0.66    1.4250    2.230    3.500   \n",
       "\n",
       "          max  \n",
       "id     419.00  \n",
       "huml   420.00  \n",
       "humw    17.84  \n",
       "ulnal  422.00  \n",
       "ulnaw   12.00  \n",
       "feml   117.07  \n",
       "femw    11.64  \n",
       "tibl   240.00  \n",
       "tibw    11.03  \n",
       "tarl   175.00  \n",
       "tarw    14.09  "
      ]
     },
     "execution_count": 5,
     "metadata": {},
     "output_type": "execute_result"
    }
   ],
   "source": [
    "data.describe().transpose() # this command leads to see the description of data for a better understanding of the data"
   ]
  },
  {
   "cell_type": "markdown",
   "id": "65c00a7f-4421-4812-9e33-2c077521e1b3",
   "metadata": {},
   "source": [
    "### b - Data Cleaning in this step we are going to remove the missing values"
   ]
  },
  {
   "cell_type": "code",
   "execution_count": 6,
   "id": "78dd3cd2-2a2e-4e47-9e74-6530e646b76f",
   "metadata": {},
   "outputs": [
    {
     "name": "stdout",
     "output_type": "stream",
     "text": [
      "<class 'pandas.core.frame.DataFrame'>\n",
      "RangeIndex: 420 entries, 0 to 419\n",
      "Data columns (total 12 columns):\n",
      " #   Column  Non-Null Count  Dtype  \n",
      "---  ------  --------------  -----  \n",
      " 0   id      420 non-null    int64  \n",
      " 1   huml    419 non-null    float64\n",
      " 2   humw    419 non-null    float64\n",
      " 3   ulnal   417 non-null    float64\n",
      " 4   ulnaw   418 non-null    float64\n",
      " 5   feml    418 non-null    float64\n",
      " 6   femw    419 non-null    float64\n",
      " 7   tibl    418 non-null    float64\n",
      " 8   tibw    419 non-null    float64\n",
      " 9   tarl    419 non-null    float64\n",
      " 10  tarw    419 non-null    float64\n",
      " 11  type    420 non-null    object \n",
      "dtypes: float64(10), int64(1), object(1)\n",
      "memory usage: 39.5+ KB\n"
     ]
    }
   ],
   "source": [
    "data.info() # getting info of data, there are missing values"
   ]
  },
  {
   "cell_type": "code",
   "execution_count": 7,
   "id": "5705f3c6-6a58-417d-b3e8-a97b57428293",
   "metadata": {},
   "outputs": [
    {
     "name": "stdout",
     "output_type": "stream",
     "text": [
      "<class 'pandas.core.frame.DataFrame'>\n",
      "RangeIndex: 420 entries, 0 to 419\n",
      "Data columns (total 12 columns):\n",
      " #   Column  Non-Null Count  Dtype  \n",
      "---  ------  --------------  -----  \n",
      " 0   id      420 non-null    int64  \n",
      " 1   huml    419 non-null    float64\n",
      " 2   humw    419 non-null    float64\n",
      " 3   ulnal   417 non-null    float64\n",
      " 4   ulnaw   418 non-null    float64\n",
      " 5   feml    418 non-null    float64\n",
      " 6   femw    419 non-null    float64\n",
      " 7   tibl    418 non-null    float64\n",
      " 8   tibw    419 non-null    float64\n",
      " 9   tarl    419 non-null    float64\n",
      " 10  tarw    419 non-null    float64\n",
      " 11  type    420 non-null    object \n",
      "dtypes: float64(10), int64(1), object(1)\n",
      "memory usage: 39.5+ KB\n"
     ]
    }
   ],
   "source": [
    "data.info() # getting info of data, there are missing values"
   ]
  },
  {
   "cell_type": "code",
   "execution_count": 8,
   "id": "dfd2611d-8f7c-4257-a540-70061fa72406",
   "metadata": {},
   "outputs": [
    {
     "data": {
      "text/plain": [
       "SO    128\n",
       "SW    116\n",
       "W      65\n",
       "R      50\n",
       "P      38\n",
       "T      23\n",
       "Name: type, dtype: int64"
      ]
     },
     "execution_count": 8,
     "metadata": {},
     "output_type": "execute_result"
    }
   ],
   "source": [
    "data['type'].value_counts() # checking which eco group has most birds"
   ]
  },
  {
   "cell_type": "code",
   "execution_count": 9,
   "id": "0e4c1b12-eda5-4de5-a080-7c615d90d7b5",
   "metadata": {},
   "outputs": [
    {
     "data": {
      "text/plain": [
       "<AxesSubplot:>"
      ]
     },
     "execution_count": 9,
     "metadata": {},
     "output_type": "execute_result"
    },
    {
     "data": {
      "image/png": "[encoded data removed]",
      "text/plain": [
       "<Figure size 432x288 with 1 Axes>"
      ]
     },
     "metadata": {
      "needs_background": "light"
     },
     "output_type": "display_data"
    }
   ],
   "source": [
    "sns.heatmap(data.isnull(),yticklabels=False,cbar=False,cmap='viridis')"
   ]
  },
  {
   "cell_type": "code",
   "execution_count": 10,
   "id": "a442df04-109f-435e-a141-659bd5599c56",
   "metadata": {},
   "outputs": [
    {
     "data": {
      "text/html": [
       "<div>\n",
       "<style scoped>\n",
       "    .dataframe tbody tr th:only-of-type {\n",
       "        vertical-align: middle;\n",
       "    }\n",
       "\n",
       "    .dataframe tbody tr th {\n",
       "        vertical-align: top;\n",
       "    }\n",
       "\n",
       "    .dataframe thead th {\n",
       "        text-align: right;\n",
       "    }\n",
       "</style>\n",
       "<table border=\"1\" class=\"dataframe\">\n",
       "  <thead>\n",
       "    <tr style=\"text-align: right;\">\n",
       "      <th></th>\n",
       "      <th>id</th>\n",
       "      <th>huml</th>\n",
       "      <th>humw</th>\n",
       "      <th>ulnal</th>\n",
       "      <th>ulnaw</th>\n",
       "      <th>feml</th>\n",
       "      <th>femw</th>\n",
       "      <th>tibl</th>\n",
       "      <th>tibw</th>\n",
       "      <th>tarl</th>\n",
       "      <th>tarw</th>\n",
       "      <th>type</th>\n",
       "    </tr>\n",
       "  </thead>\n",
       "  <tbody>\n",
       "    <tr>\n",
       "      <th>160</th>\n",
       "      <td>160</td>\n",
       "      <td>76.43</td>\n",
       "      <td>4.11</td>\n",
       "      <td>86.79</td>\n",
       "      <td>3.84</td>\n",
       "      <td>NaN</td>\n",
       "      <td>NaN</td>\n",
       "      <td>67.13</td>\n",
       "      <td>2.48</td>\n",
       "      <td>41.65</td>\n",
       "      <td>2.10</td>\n",
       "      <td>W</td>\n",
       "    </tr>\n",
       "    <tr>\n",
       "      <th>204</th>\n",
       "      <td>204</td>\n",
       "      <td>63.76</td>\n",
       "      <td>4.74</td>\n",
       "      <td>NaN</td>\n",
       "      <td>NaN</td>\n",
       "      <td>57.33</td>\n",
       "      <td>4.88</td>\n",
       "      <td>75.67</td>\n",
       "      <td>4.33</td>\n",
       "      <td>60.19</td>\n",
       "      <td>3.82</td>\n",
       "      <td>R</td>\n",
       "    </tr>\n",
       "    <tr>\n",
       "      <th>207</th>\n",
       "      <td>207</td>\n",
       "      <td>98.08</td>\n",
       "      <td>7.77</td>\n",
       "      <td>113.04</td>\n",
       "      <td>5.76</td>\n",
       "      <td>82.04</td>\n",
       "      <td>7.17</td>\n",
       "      <td>107.47</td>\n",
       "      <td>6.65</td>\n",
       "      <td>NaN</td>\n",
       "      <td>NaN</td>\n",
       "      <td>R</td>\n",
       "    </tr>\n",
       "    <tr>\n",
       "      <th>342</th>\n",
       "      <td>342</td>\n",
       "      <td>NaN</td>\n",
       "      <td>NaN</td>\n",
       "      <td>NaN</td>\n",
       "      <td>NaN</td>\n",
       "      <td>32.54</td>\n",
       "      <td>2.65</td>\n",
       "      <td>55.06</td>\n",
       "      <td>2.81</td>\n",
       "      <td>38.94</td>\n",
       "      <td>2.25</td>\n",
       "      <td>SO</td>\n",
       "    </tr>\n",
       "    <tr>\n",
       "      <th>378</th>\n",
       "      <td>378</td>\n",
       "      <td>20.10</td>\n",
       "      <td>1.86</td>\n",
       "      <td>NaN</td>\n",
       "      <td>1.52</td>\n",
       "      <td>17.21</td>\n",
       "      <td>1.22</td>\n",
       "      <td>NaN</td>\n",
       "      <td>NaN</td>\n",
       "      <td>18.46</td>\n",
       "      <td>0.91</td>\n",
       "      <td>SO</td>\n",
       "    </tr>\n",
       "  </tbody>\n",
       "</table>\n",
       "</div>"
      ],
      "text/plain": [
       "      id   huml  humw   ulnal  ulnaw   feml  femw    tibl  tibw   tarl  tarw  \\\n",
       "160  160  76.43  4.11   86.79   3.84    NaN   NaN   67.13  2.48  41.65  2.10   \n",
       "204  204  63.76  4.74     NaN    NaN  57.33  4.88   75.67  4.33  60.19  3.82   \n",
       "207  207  98.08  7.77  113.04   5.76  82.04  7.17  107.47  6.65    NaN   NaN   \n",
       "342  342    NaN   NaN     NaN    NaN  32.54  2.65   55.06  2.81  38.94  2.25   \n",
       "378  378  20.10  1.86     NaN   1.52  17.21  1.22     NaN   NaN  18.46  0.91   \n",
       "\n",
       "    type  \n",
       "160    W  \n",
       "204    R  \n",
       "207    R  \n",
       "342   SO  \n",
       "378   SO  "
      ]
     },
     "execution_count": 10,
     "metadata": {},
     "output_type": "execute_result"
    }
   ],
   "source": [
    "data[(data.isna().cumsum(axis=1).iloc[:,-1])>=2] #locating missing values in tabular form"
   ]
  },
  {
   "cell_type": "code",
   "execution_count": 11,
   "id": "de7d8ba1-d416-41cb-9cf0-97128e11e1f2",
   "metadata": {},
   "outputs": [
    {
     "data": {
      "text/html": [
       "<div>\n",
       "<style scoped>\n",
       "    .dataframe tbody tr th:only-of-type {\n",
       "        vertical-align: middle;\n",
       "    }\n",
       "\n",
       "    .dataframe tbody tr th {\n",
       "        vertical-align: top;\n",
       "    }\n",
       "\n",
       "    .dataframe thead th {\n",
       "        text-align: right;\n",
       "    }\n",
       "</style>\n",
       "<table border=\"1\" class=\"dataframe\">\n",
       "  <thead>\n",
       "    <tr style=\"text-align: right;\">\n",
       "      <th></th>\n",
       "      <th>id</th>\n",
       "      <th>huml</th>\n",
       "      <th>humw</th>\n",
       "      <th>ulnal</th>\n",
       "      <th>ulnaw</th>\n",
       "      <th>feml</th>\n",
       "      <th>femw</th>\n",
       "      <th>tibl</th>\n",
       "      <th>tibw</th>\n",
       "      <th>tarl</th>\n",
       "      <th>tarw</th>\n",
       "      <th>type</th>\n",
       "    </tr>\n",
       "  </thead>\n",
       "  <tbody>\n",
       "    <tr>\n",
       "      <th>0</th>\n",
       "      <td>0</td>\n",
       "      <td>80.78</td>\n",
       "      <td>6.68</td>\n",
       "      <td>72.01</td>\n",
       "      <td>4.88</td>\n",
       "      <td>41.81</td>\n",
       "      <td>3.70</td>\n",
       "      <td>5.50</td>\n",
       "      <td>4.03</td>\n",
       "      <td>38.70</td>\n",
       "      <td>3.84</td>\n",
       "      <td>SW</td>\n",
       "    </tr>\n",
       "    <tr>\n",
       "      <th>1</th>\n",
       "      <td>1</td>\n",
       "      <td>88.91</td>\n",
       "      <td>6.63</td>\n",
       "      <td>80.53</td>\n",
       "      <td>5.59</td>\n",
       "      <td>47.04</td>\n",
       "      <td>4.30</td>\n",
       "      <td>80.22</td>\n",
       "      <td>4.51</td>\n",
       "      <td>41.50</td>\n",
       "      <td>4.01</td>\n",
       "      <td>SW</td>\n",
       "    </tr>\n",
       "    <tr>\n",
       "      <th>2</th>\n",
       "      <td>2</td>\n",
       "      <td>79.97</td>\n",
       "      <td>6.37</td>\n",
       "      <td>69.26</td>\n",
       "      <td>5.28</td>\n",
       "      <td>43.07</td>\n",
       "      <td>3.90</td>\n",
       "      <td>75.35</td>\n",
       "      <td>4.04</td>\n",
       "      <td>38.31</td>\n",
       "      <td>3.34</td>\n",
       "      <td>SW</td>\n",
       "    </tr>\n",
       "    <tr>\n",
       "      <th>3</th>\n",
       "      <td>3</td>\n",
       "      <td>77.65</td>\n",
       "      <td>5.70</td>\n",
       "      <td>65.76</td>\n",
       "      <td>4.77</td>\n",
       "      <td>40.04</td>\n",
       "      <td>3.52</td>\n",
       "      <td>69.17</td>\n",
       "      <td>3.40</td>\n",
       "      <td>35.78</td>\n",
       "      <td>3.41</td>\n",
       "      <td>SW</td>\n",
       "    </tr>\n",
       "    <tr>\n",
       "      <th>4</th>\n",
       "      <td>4</td>\n",
       "      <td>62.80</td>\n",
       "      <td>4.84</td>\n",
       "      <td>52.09</td>\n",
       "      <td>3.73</td>\n",
       "      <td>33.95</td>\n",
       "      <td>2.72</td>\n",
       "      <td>56.27</td>\n",
       "      <td>2.96</td>\n",
       "      <td>31.88</td>\n",
       "      <td>3.13</td>\n",
       "      <td>SW</td>\n",
       "    </tr>\n",
       "    <tr>\n",
       "      <th>...</th>\n",
       "      <td>...</td>\n",
       "      <td>...</td>\n",
       "      <td>...</td>\n",
       "      <td>...</td>\n",
       "      <td>...</td>\n",
       "      <td>...</td>\n",
       "      <td>...</td>\n",
       "      <td>...</td>\n",
       "      <td>...</td>\n",
       "      <td>...</td>\n",
       "      <td>...</td>\n",
       "      <td>...</td>\n",
       "    </tr>\n",
       "    <tr>\n",
       "      <th>415</th>\n",
       "      <td>415</td>\n",
       "      <td>17.96</td>\n",
       "      <td>1.63</td>\n",
       "      <td>19.25</td>\n",
       "      <td>1.33</td>\n",
       "      <td>18.36</td>\n",
       "      <td>1.54</td>\n",
       "      <td>31.25</td>\n",
       "      <td>1.33</td>\n",
       "      <td>21.99</td>\n",
       "      <td>1.15</td>\n",
       "      <td>SO</td>\n",
       "    </tr>\n",
       "    <tr>\n",
       "      <th>416</th>\n",
       "      <td>416</td>\n",
       "      <td>19.21</td>\n",
       "      <td>1.64</td>\n",
       "      <td>20.76</td>\n",
       "      <td>1.49</td>\n",
       "      <td>19.24</td>\n",
       "      <td>1.45</td>\n",
       "      <td>33.21</td>\n",
       "      <td>1.28</td>\n",
       "      <td>23.60</td>\n",
       "      <td>1.15</td>\n",
       "      <td>SO</td>\n",
       "    </tr>\n",
       "    <tr>\n",
       "      <th>417</th>\n",
       "      <td>417</td>\n",
       "      <td>18.79</td>\n",
       "      <td>1.63</td>\n",
       "      <td>19.83</td>\n",
       "      <td>1.53</td>\n",
       "      <td>20.96</td>\n",
       "      <td>1.43</td>\n",
       "      <td>34.45</td>\n",
       "      <td>1.41</td>\n",
       "      <td>22.86</td>\n",
       "      <td>1.21</td>\n",
       "      <td>SO</td>\n",
       "    </tr>\n",
       "    <tr>\n",
       "      <th>418</th>\n",
       "      <td>418</td>\n",
       "      <td>20.38</td>\n",
       "      <td>1.78</td>\n",
       "      <td>22.53</td>\n",
       "      <td>1.50</td>\n",
       "      <td>21.35</td>\n",
       "      <td>1.48</td>\n",
       "      <td>36.09</td>\n",
       "      <td>1.53</td>\n",
       "      <td>25.98</td>\n",
       "      <td>1.24</td>\n",
       "      <td>SO</td>\n",
       "    </tr>\n",
       "    <tr>\n",
       "      <th>419</th>\n",
       "      <td>419</td>\n",
       "      <td>17.89</td>\n",
       "      <td>1.44</td>\n",
       "      <td>19.26</td>\n",
       "      <td>1.10</td>\n",
       "      <td>17.62</td>\n",
       "      <td>1.34</td>\n",
       "      <td>29.81</td>\n",
       "      <td>1.24</td>\n",
       "      <td>21.69</td>\n",
       "      <td>1.05</td>\n",
       "      <td>SO</td>\n",
       "    </tr>\n",
       "  </tbody>\n",
       "</table>\n",
       "<p>413 rows × 12 columns</p>\n",
       "</div>"
      ],
      "text/plain": [
       "      id   huml  humw  ulnal  ulnaw   feml  femw   tibl  tibw   tarl  tarw  \\\n",
       "0      0  80.78  6.68  72.01   4.88  41.81  3.70   5.50  4.03  38.70  3.84   \n",
       "1      1  88.91  6.63  80.53   5.59  47.04  4.30  80.22  4.51  41.50  4.01   \n",
       "2      2  79.97  6.37  69.26   5.28  43.07  3.90  75.35  4.04  38.31  3.34   \n",
       "3      3  77.65  5.70  65.76   4.77  40.04  3.52  69.17  3.40  35.78  3.41   \n",
       "4      4  62.80  4.84  52.09   3.73  33.95  2.72  56.27  2.96  31.88  3.13   \n",
       "..   ...    ...   ...    ...    ...    ...   ...    ...   ...    ...   ...   \n",
       "415  415  17.96  1.63  19.25   1.33  18.36  1.54  31.25  1.33  21.99  1.15   \n",
       "416  416  19.21  1.64  20.76   1.49  19.24  1.45  33.21  1.28  23.60  1.15   \n",
       "417  417  18.79  1.63  19.83   1.53  20.96  1.43  34.45  1.41  22.86  1.21   \n",
       "418  418  20.38  1.78  22.53   1.50  21.35  1.48  36.09  1.53  25.98  1.24   \n",
       "419  419  17.89  1.44  19.26   1.10  17.62  1.34  29.81  1.24  21.69  1.05   \n",
       "\n",
       "    type  \n",
       "0     SW  \n",
       "1     SW  \n",
       "2     SW  \n",
       "3     SW  \n",
       "4     SW  \n",
       "..   ...  \n",
       "415   SO  \n",
       "416   SO  \n",
       "417   SO  \n",
       "418   SO  \n",
       "419   SO  \n",
       "\n",
       "[413 rows x 12 columns]"
      ]
     },
     "execution_count": 11,
     "metadata": {},
     "output_type": "execute_result"
    }
   ],
   "source": [
    "#drop all NaNs, to mislead the model with false value \n",
    "data.dropna(how='any', inplace=True)\n",
    "data"
   ]
  },
  {
   "cell_type": "code",
   "execution_count": 12,
   "id": "a853871d-9bfd-47ee-9a1e-c040f5cf72e2",
   "metadata": {},
   "outputs": [
    {
     "data": {
      "text/plain": [
       "id       0\n",
       "huml     0\n",
       "humw     0\n",
       "ulnal    0\n",
       "ulnaw    0\n",
       "feml     0\n",
       "femw     0\n",
       "tibl     0\n",
       "tibw     0\n",
       "tarl     0\n",
       "tarw     0\n",
       "type     0\n",
       "dtype: int64"
      ]
     },
     "execution_count": 12,
     "metadata": {},
     "output_type": "execute_result"
    }
   ],
   "source": [
    "data.isna().sum() # check missing values again to see if the nan values have been dropped"
   ]
  },
  {
   "cell_type": "code",
   "execution_count": 13,
   "id": "6bef775b-07f9-455e-8410-99b80aa5b95b",
   "metadata": {},
   "outputs": [
    {
     "name": "stdout",
     "output_type": "stream",
     "text": [
      "<class 'pandas.core.frame.DataFrame'>\n",
      "Int64Index: 413 entries, 0 to 419\n",
      "Data columns (total 12 columns):\n",
      " #   Column  Non-Null Count  Dtype  \n",
      "---  ------  --------------  -----  \n",
      " 0   id      413 non-null    int64  \n",
      " 1   huml    413 non-null    float64\n",
      " 2   humw    413 non-null    float64\n",
      " 3   ulnal   413 non-null    float64\n",
      " 4   ulnaw   413 non-null    float64\n",
      " 5   feml    413 non-null    float64\n",
      " 6   femw    413 non-null    float64\n",
      " 7   tibl    413 non-null    float64\n",
      " 8   tibw    413 non-null    float64\n",
      " 9   tarl    413 non-null    float64\n",
      " 10  tarw    413 non-null    float64\n",
      " 11  type    413 non-null    object \n",
      "dtypes: float64(10), int64(1), object(1)\n",
      "memory usage: 41.9+ KB\n"
     ]
    }
   ],
   "source": [
    "data.info() # check again the data info"
   ]
  },
  {
   "cell_type": "markdown",
   "id": "4f398cad-fbee-499f-9e74-22ab99bded4c",
   "metadata": {},
   "source": [
    "data.corr()['huml'].sort_values() # id col is -ly cor, so drop"
   ]
  },
  {
   "cell_type": "markdown",
   "id": "7a1fb838-f94b-4a16-a418-d9bd3c33a0a2",
   "metadata": {},
   "source": [
    "### c - Feature Engineering\n",
    " \n",
    "now we'll check the correlation of the features and we'll remove the features which are negatively relatted or one from the highly related feature."
   ]
  },
  {
   "cell_type": "code",
   "execution_count": 14,
   "id": "2daaae93-e9ee-421b-a768-8d96ebc22166",
   "metadata": {},
   "outputs": [
    {
     "data": {
      "image/png": "[encoded data removed]",
      "text/plain": [
       "<Figure size 720x360 with 2 Axes>"
      ]
     },
     "metadata": {
      "needs_background": "light"
     },
     "output_type": "display_data"
    }
   ],
   "source": [
    "plt.figure(figsize=(10,5)) # this is important, to drop overlaping features with high correlation\n",
    "sns.heatmap(data.iloc[:,:-1].corr(), annot=True, fmt='.2f',cmap=\"Paired\"); # this command generates a heat map of the correlation enabling us to perform operations on the dataset"
   ]
  },
  {
   "cell_type": "code",
   "execution_count": 15,
   "id": "eaaa5fe4-676c-4875-aac9-f42829e688ae",
   "metadata": {},
   "outputs": [
    {
     "data": {
      "text/plain": [
       "<AxesSubplot:>"
      ]
     },
     "execution_count": 15,
     "metadata": {},
     "output_type": "execute_result"
    },
    {
     "data": {
      "image/png": "[encoded data removed]",
      "text/plain": [
       "<Figure size 720x360 with 2 Axes>"
      ]
     },
     "metadata": {
      "needs_background": "light"
     },
     "output_type": "display_data"
    }
   ],
   "source": [
    "# create a figure and an axis object using plt.subplots and set the size of the figure to (10, 5)\n",
    "fig, ax = plt.subplots(figsize=(10,5))\n",
    "\n",
    "# create a masking array called mask using the triu function from numpy\n",
    "mask = np.triu(data.corr())\n",
    "\n",
    "# create a heatmap visualization of the correlations between columns in the data DataFrame\n",
    "# annotate the correlations on the plot and use the mask and cmap parameters to apply the mask and set the colormap to \"Paired\"\n",
    "sns.heatmap(data.corr(), annot=True, mask=mask,cmap=\"Paired\", ax=ax)"
   ]
  },
  {
   "cell_type": "markdown",
   "id": "9bbf987e-1302-476f-9f5f-ba985817182c",
   "metadata": {},
   "source": [
    "as we can see the id column is negatively related hence we'll remove this column"
   ]
  },
  {
   "cell_type": "code",
   "execution_count": 16,
   "id": "fcccd600-c18c-424d-af06-dbfa103a3399",
   "metadata": {},
   "outputs": [
    {
     "name": "stdout",
     "output_type": "stream",
     "text": [
      "<class 'pandas.core.frame.DataFrame'>\n",
      "Int64Index: 413 entries, 0 to 419\n",
      "Data columns (total 11 columns):\n",
      " #   Column  Non-Null Count  Dtype  \n",
      "---  ------  --------------  -----  \n",
      " 0   huml    413 non-null    float64\n",
      " 1   humw    413 non-null    float64\n",
      " 2   ulnal   413 non-null    float64\n",
      " 3   ulnaw   413 non-null    float64\n",
      " 4   feml    413 non-null    float64\n",
      " 5   femw    413 non-null    float64\n",
      " 6   tibl    413 non-null    float64\n",
      " 7   tibw    413 non-null    float64\n",
      " 8   tarl    413 non-null    float64\n",
      " 9   tarw    413 non-null    float64\n",
      " 10  type    413 non-null    object \n",
      "dtypes: float64(10), object(1)\n",
      "memory usage: 38.7+ KB\n"
     ]
    }
   ],
   "source": [
    "data.drop(columns='id', inplace=True) # dropping id column as it is negatively correlated \n",
    "data.info() #checking the dataframe to ensure dropping"
   ]
  },
  {
   "cell_type": "markdown",
   "id": "2e8252a8-8cde-4437-a8bb-5e96b58c83a5",
   "metadata": {},
   "source": [
    "for further processing we'll remove one of the features with high correlation as Ulna length and Humerus length, Ulna width and Humerus width, tibea width and femur width all of these features are all very highly related as their coefficient value is more than 0.95"
   ]
  },
  {
   "cell_type": "code",
   "execution_count": 17,
   "id": "a8211caf-55b0-4cea-937b-1fc5f8b75d99",
   "metadata": {},
   "outputs": [
    {
     "name": "stdout",
     "output_type": "stream",
     "text": [
      "<class 'pandas.core.frame.DataFrame'>\n",
      "Int64Index: 413 entries, 0 to 419\n",
      "Data columns (total 10 columns):\n",
      " #   Column  Non-Null Count  Dtype  \n",
      "---  ------  --------------  -----  \n",
      " 0   humw    413 non-null    float64\n",
      " 1   ulnal   413 non-null    float64\n",
      " 2   ulnaw   413 non-null    float64\n",
      " 3   feml    413 non-null    float64\n",
      " 4   femw    413 non-null    float64\n",
      " 5   tibl    413 non-null    float64\n",
      " 6   tibw    413 non-null    float64\n",
      " 7   tarl    413 non-null    float64\n",
      " 8   tarw    413 non-null    float64\n",
      " 9   type    413 non-null    object \n",
      "dtypes: float64(9), object(1)\n",
      "memory usage: 35.5+ KB\n"
     ]
    }
   ],
   "source": [
    "data.drop(columns='huml', inplace=True) # dropping huml column to decrease the highly correlated features \n",
    "data.info() # checking dataframe"
   ]
  },
  {
   "cell_type": "code",
   "execution_count": 18,
   "id": "5bbc82ad-144e-4b4b-829d-2ba7121c0660",
   "metadata": {},
   "outputs": [
    {
     "name": "stdout",
     "output_type": "stream",
     "text": [
      "<class 'pandas.core.frame.DataFrame'>\n",
      "Int64Index: 413 entries, 0 to 419\n",
      "Data columns (total 9 columns):\n",
      " #   Column  Non-Null Count  Dtype  \n",
      "---  ------  --------------  -----  \n",
      " 0   ulnal   413 non-null    float64\n",
      " 1   ulnaw   413 non-null    float64\n",
      " 2   feml    413 non-null    float64\n",
      " 3   femw    413 non-null    float64\n",
      " 4   tibl    413 non-null    float64\n",
      " 5   tibw    413 non-null    float64\n",
      " 6   tarl    413 non-null    float64\n",
      " 7   tarw    413 non-null    float64\n",
      " 8   type    413 non-null    object \n",
      "dtypes: float64(8), object(1)\n",
      "memory usage: 32.3+ KB\n"
     ]
    }
   ],
   "source": [
    "data.drop(columns='humw', inplace=True) # dropping humw column \n",
    "data.info() # checking dataframe"
   ]
  },
  {
   "cell_type": "code",
   "execution_count": 19,
   "id": "ab2efa87-c316-4094-b3a5-251358cc5b33",
   "metadata": {},
   "outputs": [
    {
     "name": "stdout",
     "output_type": "stream",
     "text": [
      "<class 'pandas.core.frame.DataFrame'>\n",
      "Int64Index: 413 entries, 0 to 419\n",
      "Data columns (total 8 columns):\n",
      " #   Column  Non-Null Count  Dtype  \n",
      "---  ------  --------------  -----  \n",
      " 0   ulnal   413 non-null    float64\n",
      " 1   ulnaw   413 non-null    float64\n",
      " 2   feml    413 non-null    float64\n",
      " 3   femw    413 non-null    float64\n",
      " 4   tibl    413 non-null    float64\n",
      " 5   tarl    413 non-null    float64\n",
      " 6   tarw    413 non-null    float64\n",
      " 7   type    413 non-null    object \n",
      "dtypes: float64(7), object(1)\n",
      "memory usage: 29.0+ KB\n"
     ]
    }
   ],
   "source": [
    "data.drop(columns='tibw', inplace=True) # dropping tibw column \n",
    "data.info() # checking dataframe"
   ]
  },
  {
   "cell_type": "markdown",
   "id": "e54b3e2a-7357-406c-b6d0-add00c7a18c5",
   "metadata": {},
   "source": [
    "### d- Removing Outliers from data \n",
    "\n",
    "For data cleaning firstly we removed all the missing values and now we are progressing with removing the outliers in the data. To remove the data outliers I am going to use quantile transform and remove the outliers from each column."
   ]
  },
  {
   "cell_type": "code",
   "execution_count": 20,
   "id": "c6a6edad-6df9-488b-a6fb-ca9839d3e5c7",
   "metadata": {},
   "outputs": [],
   "source": [
    "# define a function named \"Janitor\" that takes in two arguments: a dataset (in the form of a Pandas dataframe) and a column name the purpose of this function is to remove outliers from a specific column of the dataset\n",
    "\n",
    "def Janitor(data, col_name):               #the purpose of janitor is to remove the outliers in one column of the dataset\n",
    "    q1 = data[col_name].quantile(0.25) # calculate the first quartile (25th percentile) of the values in the specified column\n",
    "    q3 = data[col_name].quantile(0.75) # calculate the third quartile (75th percentile) of the values in the specified column\n",
    "    iqr = q3-q1 # calculate the interquartile range (IQR) by subtracting the first quartile from the third quartile\n",
    "    fence_low  = q1-1.5*iqr # calculate the lower fence by subtracting 1.5 times the IQR from the first quartile\n",
    "    fence_high = q3+1.5*iqr # calculate the upper fence by adding 1.5 times the IQR to the third quartile\n",
    "    d_cleaned = data.loc[(data[col_name] > fence_low) & (data[col_name] < fence_high)] # create a new dataframe that only includes rows where the values in the specified column are greater than the lower fence and less than the upper fence\n",
    "    return d_cleaned # return the cleaned dataframe"
   ]
  },
  {
   "cell_type": "markdown",
   "id": "d784572a-d6ba-477e-b4c8-158d921fd7b1",
   "metadata": {},
   "source": [
    "for each of the column same process is going to repeat as the first box plot will display the data before processing and the second plot will illustrate if the outliers have been removed or not."
   ]
  },
  {
   "cell_type": "markdown",
   "id": "b6331f1d-f84d-4fed-a397-464c214bdb34",
   "metadata": {},
   "source": [
    "#### Visualising the outliers in dataset in respective features"
   ]
  },
  {
   "cell_type": "code",
   "execution_count": 21,
   "id": "9693e74d-027a-4a68-8ca8-2ca342ee3dec",
   "metadata": {},
   "outputs": [
    {
     "data": {
      "text/plain": [
       "<AxesSubplot:xlabel='tarw'>"
      ]
     },
     "execution_count": 21,
     "metadata": {},
     "output_type": "execute_result"
    },
    {
     "data": {
      "image/png": "[encoded data removed]",
      "text/plain": [
       "<Figure size 720x432 with 1 Axes>"
      ]
     },
     "metadata": {
      "needs_background": "light"
     },
     "output_type": "display_data"
    },
    {
     "data": {
      "image/png": "[encoded data removed]",
      "text/plain": [
       "<Figure size 720x432 with 1 Axes>"
      ]
     },
     "metadata": {
      "needs_background": "light"
     },
     "output_type": "display_data"
    },
    {
     "data": {
      "image/png": "[encoded data removed]",
      "text/plain": [
       "<Figure size 720x432 with 1 Axes>"
      ]
     },
     "metadata": {
      "needs_background": "light"
     },
     "output_type": "display_data"
    },
    {
     "data": {
      "image/png": "[encoded data removed]",
      "text/plain": [
       "<Figure size 720x432 with 1 Axes>"
      ]
     },
     "metadata": {
      "needs_background": "light"
     },
     "output_type": "display_data"
    },
    {
     "data": {
      "image/png": "[encoded data removed]",
      "text/plain": [
       "<Figure size 720x432 with 1 Axes>"
      ]
     },
     "metadata": {
      "needs_background": "light"
     },
     "output_type": "display_data"
    },
    {
     "data": {
      "image/png": "[encoded data removed]",
      "text/plain": [
       "<Figure size 720x432 with 1 Axes>"
      ]
     },
     "metadata": {
      "needs_background": "light"
     },
     "output_type": "display_data"
    },
    {
     "data": {
      "image/png": "[encoded data removed]",
      "text/plain": [
       "<Figure size 720x432 with 1 Axes>"
      ]
     },
     "metadata": {
      "needs_background": "light"
     },
     "output_type": "display_data"
    }
   ],
   "source": [
    "plt.figure(figsize=(10, 6)) # create a new figure with a specified size and set it as the current figure\n",
    "sns.boxplot(data['ulnal']) # create a box plot using seaborn, using the values in the \"ulnal\" column of the \"data\" dataframe as the input\n",
    "plt.figure(figsize=(10, 6))  # create a new figure with a specified size and set it as the current figure\n",
    "sns.boxplot(data['ulnaw']) # create a box plot using seaborn, using the values in the \"ulnaw\" column of the \"data\" dataframe as the input\n",
    "plt.figure(figsize=(10, 6)) # create a new figure with a specified size and set it as the current figure\n",
    "sns.boxplot(data['feml']) # create a box plot using seaborn, using the values in the \"feml\" column of the \"data\" dataframe as the input\n",
    "plt.figure(figsize=(10, 6)) # create a new figure with a specified size and set it as the current figure\n",
    "sns.boxplot(data['femw']) # create a box plot using seaborn, using the values in the \"femw\" column of the \"data\" dataframe as the input\n",
    "plt.figure(figsize=(10, 6)) # create a new figure with a specified size and set it as the current figure\n",
    "sns.boxplot(data['tibl']) # create a box plot using seaborn, using the values in the \"tibl\" column of the \"data\" dataframe as the input\n",
    "plt.figure(figsize=(10, 6)) # create a new figure with a specified size and set it as the current figure\n",
    "sns.boxplot(data['tarl']) # create a box plot using seaborn, using the values in the \"tarl\" column of the \"data\" dataframe as the input\n",
    "plt.figure(figsize=(10, 6)) # create a new figure with a specified size and set it as the current figure\n",
    "sns.boxplot(data['tarw']) # create a box plot using seaborn, using the values in the \"tarw\" column of the \"data\" dataframe as the input"
   ]
  },
  {
   "cell_type": "markdown",
   "id": "0a523956-2d1b-460b-81cd-98555b2f342b",
   "metadata": {},
   "source": [
    "#### Removing the outliers using Quantile transform"
   ]
  },
  {
   "cell_type": "code",
   "execution_count": 22,
   "id": "0623f186-fe84-42f5-add6-9b641d3274be",
   "metadata": {},
   "outputs": [],
   "source": [
    "data = Janitor(data, 'ulnal') # update the \"data\" dataframe by reassigning it to the result of calling the \"Janitor\" function on the dataframe and the \"ulnal\" column\n",
    "# this will remove any outliers from the \"ulnal\" column of the dataframe and return the cleaned dataframe\n",
    "data = Janitor(data, 'ulnaw') # update the \"data\" dataframe by reassigning it to the result of calling the \"Janitor\" function on the dataframe and the \"ulnal\" column\n",
    "# this will remove any outliers from the \"ulnaw\" column of the dataframe and return the cleaned dataframe\n",
    "data = Janitor(data, 'feml') # update the \"data\" dataframe by reassigning it to the result of calling the \"Janitor\" function on the dataframe and the \"ulnal\" column\n",
    "# this will remove any outliers from the \"feml\" column of the dataframe and return the cleaned dataframe\n",
    "data = Janitor(data, 'femw') # update the \"data\" dataframe by reassigning it to the result of calling the \"Janitor\" function on the dataframe and the \"ulnal\" column\n",
    "# this will remove any outliers from the \"femw\" column of the dataframe and return the cleaned dataframe\n",
    "data = Janitor(data, 'tibl') # update the \"data\" dataframe by reassigning it to the result of calling the \"Janitor\" function on the dataframe and the \"ulnal\" column\n",
    "# this will remove any outliers from the \"tibl\" column of the dataframe and return the cleaned dataframe\n",
    "data = Janitor(data, 'tarl') # update the \"data\" dataframe by reassigning it to the result of calling the \"Janitor\" function on the dataframe and the \"ulnal\" column\n",
    "# this will remove any outliers from the \"tarl\" column of the dataframe and return the cleaned dataframe\n",
    "data = Janitor(data, 'tarw') # update the \"data\" dataframe by reassigning it to the result of calling the \"Janitor\" function on the dataframe and the \"ulnal\" column\n",
    "# this will remove any outliers from the \"tarw\" column of the dataframe and return the cleaned dataframe"
   ]
  },
  {
   "cell_type": "markdown",
   "id": "af8ba1f9-8332-4807-bcc0-1b295de8da17",
   "metadata": {},
   "source": [
    "#### Visual the data after removal of Outliers"
   ]
  },
  {
   "cell_type": "code",
   "execution_count": 23,
   "id": "1459b4d4-db1b-43f1-9abf-df9ded87d4de",
   "metadata": {},
   "outputs": [
    {
     "data": {
      "text/plain": [
       "<AxesSubplot:xlabel='tarw'>"
      ]
     },
     "execution_count": 23,
     "metadata": {},
     "output_type": "execute_result"
    },
    {
     "data": {
      "image/png": "[encoded data removed]",
      "text/plain": [
       "<Figure size 720x432 with 1 Axes>"
      ]
     },
     "metadata": {
      "needs_background": "light"
     },
     "output_type": "display_data"
    },
    {
     "data": {
      "image/png": "[encoded data removed]",
      "text/plain": [
       "<Figure size 720x432 with 1 Axes>"
      ]
     },
     "metadata": {
      "needs_background": "light"
     },
     "output_type": "display_data"
    },
    {
     "data": {
      "image/png": "[encoded data removed]",
      "text/plain": [
       "<Figure size 720x432 with 1 Axes>"
      ]
     },
     "metadata": {
      "needs_background": "light"
     },
     "output_type": "display_data"
    },
    {
     "data": {
      "image/png": "[encoded data removed]",
      "text/plain": [
       "<Figure size 720x432 with 1 Axes>"
      ]
     },
     "metadata": {
      "needs_background": "light"
     },
     "output_type": "display_data"
    },
    {
     "data": {
      "image/png": "[encoded data removed]",
      "text/plain": [
       "<Figure size 720x432 with 1 Axes>"
      ]
     },
     "metadata": {
      "needs_background": "light"
     },
     "output_type": "display_data"
    },
    {
     "data": {
      "image/png": "[encoded data removed]",
      "text/plain": [
       "<Figure size 720x432 with 1 Axes>"
      ]
     },
     "metadata": {
      "needs_background": "light"
     },
     "output_type": "display_data"
    },
    {
     "data": {
      "image/png": "[encoded data removed]",
      "text/plain": [
       "<Figure size 720x432 with 1 Axes>"
      ]
     },
     "metadata": {
      "needs_background": "light"
     },
     "output_type": "display_data"
    }
   ],
   "source": [
    "plt.figure(figsize=(10, 6)) # create a new figure with a specified size and set it as the current figure\n",
    "sns.boxplot(data['ulnal']) # create a box plot using seaborn, using the values in the \"ulnal\" column of the \"data\" dataframe as the input\n",
    "plt.figure(figsize=(10, 6))  # create a new figure with a specified size and set it as the current figure\n",
    "sns.boxplot(data['ulnaw']) # create a box plot using seaborn, using the values in the \"ulnaw\" column of the \"data\" dataframe as the input\n",
    "plt.figure(figsize=(10, 6)) # create a new figure with a specified size and set it as the current figure\n",
    "sns.boxplot(data['feml']) # create a box plot using seaborn, using the values in the \"feml\" column of the \"data\" dataframe as the input\n",
    "plt.figure(figsize=(10, 6)) # create a new figure with a specified size and set it as the current figure\n",
    "sns.boxplot(data['femw']) # create a box plot using seaborn, using the values in the \"femw\" column of the \"data\" dataframe as the input\n",
    "plt.figure(figsize=(10, 6)) # create a new figure with a specified size and set it as the current figure\n",
    "sns.boxplot(data['tibl']) # create a box plot using seaborn, using the values in the \"tibl\" column of the \"data\" dataframe as the input\n",
    "plt.figure(figsize=(10, 6)) # create a new figure with a specified size and set it as the current figure\n",
    "sns.boxplot(data['tarl']) # create a box plot using seaborn, using the values in the \"tarl\" column of the \"data\" dataframe as the input\n",
    "plt.figure(figsize=(10, 6)) # create a new figure with a specified size and set it as the current figure\n",
    "sns.boxplot(data['tarw']) # create a box plot using seaborn, using the values in the \"tarw\" column of the \"data\" dataframe as the input"
   ]
  },
  {
   "cell_type": "markdown",
   "id": "41df8e7d-b0bd-4d04-a7c6-185ba909d94d",
   "metadata": {},
   "source": [
    "### e - Check the class balance"
   ]
  },
  {
   "cell_type": "code",
   "execution_count": 24,
   "id": "8a073858-2ea7-4397-838c-777b8a63cd07",
   "metadata": {},
   "outputs": [
    {
     "data": {
      "text/plain": [
       "<AxesSubplot:xlabel='type', ylabel='count'>"
      ]
     },
     "execution_count": 24,
     "metadata": {},
     "output_type": "execute_result"
    },
    {
     "data": {
      "image/png": "[encoded data removed]",
      "text/plain": [
       "<Figure size 432x288 with 1 Axes>"
      ]
     },
     "metadata": {},
     "output_type": "display_data"
    }
   ],
   "source": [
    "sns.set_style('whitegrid') # set the style of the seaborn plots to a white background with gridlines\n",
    "sns.countplot(x = data['type'],data = data,palette='RdBu_r') # create a countplot using seaborn, with the values in the \"type\" column as the x-axis and the data in the \"data\" dataframe as the input data\n",
    "# set the color palette of the plot to the \"RdBu_r\" palette (diverging red-blue)"
   ]
  },
  {
   "cell_type": "markdown",
   "id": "1b1975d2-c676-441f-bf6b-af6296fbd1fb",
   "metadata": {},
   "source": [
    "### f- Distribution of Data"
   ]
  },
  {
   "cell_type": "code",
   "execution_count": 25,
   "id": "a38b74fa-1186-45ce-a2e3-dd34ae90f38d",
   "metadata": {},
   "outputs": [],
   "source": [
    "X = data.drop('type',axis=1) # create a new dataframe \"X\" by dropping the \"type\" column from the \"data\" dataframe\n",
    "# specify that the column should be dropped along the \"axis\" (1 corresponds to columns, 0 corresponds to rows)"
   ]
  },
  {
   "cell_type": "code",
   "execution_count": 26,
   "id": "872915a2-ccae-465e-a8ef-2e842b870938",
   "metadata": {},
   "outputs": [
    {
     "data": {
      "text/plain": [
       "<AxesSubplot:ylabel='Density'>"
      ]
     },
     "execution_count": 26,
     "metadata": {},
     "output_type": "execute_result"
    },
    {
     "data": {
      "image/png": "[encoded data removed]",
      "text/plain": [
       "<Figure size 432x288 with 1 Axes>"
      ]
     },
     "metadata": {},
     "output_type": "display_data"
    }
   ],
   "source": [
    "sns.distplot(X) # create a histogram and kernel density plot using seaborn, using the values in the \"X\" dataframe as the input data"
   ]
  },
  {
   "cell_type": "markdown",
   "id": "23ffccca-2d8d-4e9d-a7ec-652e4ff31519",
   "metadata": {},
   "source": [
    "### g -Standardize the data"
   ]
  },
  {
   "cell_type": "code",
   "execution_count": 27,
   "id": "ba3538ef-b360-4d17-bbdc-4474b4169d65",
   "metadata": {},
   "outputs": [],
   "source": [
    "scaler = StandardScaler() # create an object \"scaler\" that is an instance of the StandardScaler class\n",
    "# StandardScaler is a preprocessing method that standardizes features by removing the mean and scaling to unit variance"
   ]
  },
  {
   "cell_type": "code",
   "execution_count": 28,
   "id": "330b9079-315d-4131-aa15-29ed6c622808",
   "metadata": {},
   "outputs": [
    {
     "data": {
      "text/plain": [
       "array([[ 0.99188756,  1.86001302,  1.19011785, ..., -2.20740369,\n",
       "         0.68674915,  2.16714781],\n",
       "       [ 1.31014951,  2.45778775,  1.6580815 , ...,  1.60348806,\n",
       "         0.92556209,  2.36463581],\n",
       "       [ 0.88916217,  2.19678752,  1.30285861, ...,  1.35510686,\n",
       "         0.65348592,  1.58630073],\n",
       "       ...,\n",
       "       [-0.9572801 , -0.96047341, -0.67547337, ..., -0.73088715,\n",
       "        -0.66424978, -0.88810783],\n",
       "       [-0.85642244, -0.9857315 , -0.64057741, ..., -0.64724338,\n",
       "        -0.39814393, -0.85325701],\n",
       "       [-0.97857227, -1.322506  , -0.97432587, ..., -0.96753781,\n",
       "        -0.76403947, -1.0739789 ]])"
      ]
     },
     "execution_count": 28,
     "metadata": {},
     "output_type": "execute_result"
    }
   ],
   "source": [
    "df_stand=scaler.fit_transform(X)# apply the standardization transformation to the \"X\" dataframe using the \"fit_transform\" method of the \"scaler\" object, and store the result in a new dataframe \"df_stand\"\n",
    "# this step standardizes the features in the \"X\" dataframe by removing the mean and scaling to unit variance\n",
    "df_stand # display the \"df_stand\" dataframe"
   ]
  },
  {
   "cell_type": "code",
   "execution_count": 29,
   "id": "89cc7a6f-c6a6-4ff1-9449-68e88e0be8f2",
   "metadata": {},
   "outputs": [
    {
     "data": {
      "text/plain": [
       "<AxesSubplot:ylabel='Density'>"
      ]
     },
     "execution_count": 29,
     "metadata": {},
     "output_type": "execute_result"
    },
    {
     "data": {
      "image/png": "[encoded data removed]",
      "text/plain": [
       "<Figure size 432x288 with 1 Axes>"
      ]
     },
     "metadata": {},
     "output_type": "display_data"
    }
   ],
   "source": [
    "sns.distplot(df_stand) # create a histogram and kernel density plot using seaborn, using the values in the standardized \"df_stand\" dataframe as the input data"
   ]
  },
  {
   "cell_type": "code",
   "execution_count": 30,
   "id": "50cb72a3-2bf1-4b94-b904-4e9f37ea46b3",
   "metadata": {},
   "outputs": [
    {
     "data": {
      "text/html": [
       "<div>\n",
       "<style scoped>\n",
       "    .dataframe tbody tr th:only-of-type {\n",
       "        vertical-align: middle;\n",
       "    }\n",
       "\n",
       "    .dataframe tbody tr th {\n",
       "        vertical-align: top;\n",
       "    }\n",
       "\n",
       "    .dataframe thead th {\n",
       "        text-align: right;\n",
       "    }\n",
       "</style>\n",
       "<table border=\"1\" class=\"dataframe\">\n",
       "  <thead>\n",
       "    <tr style=\"text-align: right;\">\n",
       "      <th></th>\n",
       "      <th>ulnal</th>\n",
       "      <th>ulnaw</th>\n",
       "      <th>feml</th>\n",
       "      <th>femw</th>\n",
       "      <th>tibl</th>\n",
       "      <th>tarl</th>\n",
       "      <th>tarw</th>\n",
       "    </tr>\n",
       "  </thead>\n",
       "  <tbody>\n",
       "    <tr>\n",
       "      <th>0</th>\n",
       "      <td>0.991888</td>\n",
       "      <td>1.860013</td>\n",
       "      <td>1.190118</td>\n",
       "      <td>1.485114</td>\n",
       "      <td>-2.207404</td>\n",
       "      <td>0.686749</td>\n",
       "      <td>2.167148</td>\n",
       "    </tr>\n",
       "    <tr>\n",
       "      <th>1</th>\n",
       "      <td>1.310150</td>\n",
       "      <td>2.457788</td>\n",
       "      <td>1.658081</td>\n",
       "      <td>2.121837</td>\n",
       "      <td>1.603488</td>\n",
       "      <td>0.925562</td>\n",
       "      <td>2.364636</td>\n",
       "    </tr>\n",
       "    <tr>\n",
       "      <th>2</th>\n",
       "      <td>0.889162</td>\n",
       "      <td>2.196788</td>\n",
       "      <td>1.302859</td>\n",
       "      <td>1.697355</td>\n",
       "      <td>1.355107</td>\n",
       "      <td>0.653486</td>\n",
       "      <td>1.586301</td>\n",
       "    </tr>\n",
       "    <tr>\n",
       "      <th>3</th>\n",
       "      <td>0.758421</td>\n",
       "      <td>1.767400</td>\n",
       "      <td>1.031744</td>\n",
       "      <td>1.294098</td>\n",
       "      <td>1.039913</td>\n",
       "      <td>0.437701</td>\n",
       "      <td>1.667619</td>\n",
       "    </tr>\n",
       "    <tr>\n",
       "      <th>4</th>\n",
       "      <td>0.247782</td>\n",
       "      <td>0.891786</td>\n",
       "      <td>0.486830</td>\n",
       "      <td>0.445135</td>\n",
       "      <td>0.381983</td>\n",
       "      <td>0.105069</td>\n",
       "      <td>1.342345</td>\n",
       "    </tr>\n",
       "  </tbody>\n",
       "</table>\n",
       "</div>"
      ],
      "text/plain": [
       "      ulnal     ulnaw      feml      femw      tibl      tarl      tarw\n",
       "0  0.991888  1.860013  1.190118  1.485114 -2.207404  0.686749  2.167148\n",
       "1  1.310150  2.457788  1.658081  2.121837  1.603488  0.925562  2.364636\n",
       "2  0.889162  2.196788  1.302859  1.697355  1.355107  0.653486  1.586301\n",
       "3  0.758421  1.767400  1.031744  1.294098  1.039913  0.437701  1.667619\n",
       "4  0.247782  0.891786  0.486830  0.445135  0.381983  0.105069  1.342345"
      ]
     },
     "execution_count": 30,
     "metadata": {},
     "output_type": "execute_result"
    }
   ],
   "source": [
    "df_feat = pd.DataFrame(df_stand,columns=data.columns[:-1]) # create a new dataframe \"df_feat\" using the standardized values in the \"df_stand\" dataframe and the column names of the \"data\" dataframe, except for the last column\n",
    "# this creates a dataframe with the same structure as the original \"data\" dataframe, but with the feature values standardized\n",
    "df_feat.head() # display the first few rows of the \"df_feat\" dataframe using the \"head\" method"
   ]
  },
  {
   "cell_type": "markdown",
   "id": "006dc116-97c8-418e-9280-2ca91614b5c9",
   "metadata": {},
   "source": [
    "### h- Splitting the data into train and test"
   ]
  },
  {
   "cell_type": "code",
   "execution_count": 31,
   "id": "30388f42-18e4-4ee4-9119-368cc7870b70",
   "metadata": {},
   "outputs": [],
   "source": [
    "x_trn, x_tst, y_trn, y_tst = train_test_split(df_stand,data['type'],test_size =0.3 ,random_state=2) # split the standardized feature values in \"df_stand\" and the target values in \"data['type']\" into training and testing sets using the \"train_test_split\" function from sklearn\n",
    "# specify that the size of the test set should be 30% of the total data using the \"test_size\" argument and set a random seed for the sampling using the \"random_state\" argument\n",
    "# assign the resulting training sets to variables \"x_trn\" and \"y_trn\", and the resulting testing sets to variables \"x_tst\" and \"y_tst\""
   ]
  },
  {
   "cell_type": "markdown",
   "id": "01b80236-6b29-485d-92c4-b3bf303af6a4",
   "metadata": {},
   "source": [
    "### i - Balancing the classes using SMOTE"
   ]
  },
  {
   "cell_type": "markdown",
   "id": "e0b09b3e-8b74-49ee-aa62-bcae738ec8dc",
   "metadata": {},
   "source": [
    "As we can see there is a huge class imbalance. then to balance the class we have pre-req that our data is already too less hence we cannot undersample it so we'll perform over sampling to increase the data of low data classes to equal to the data with the highest data class."
   ]
  },
  {
   "cell_type": "code",
   "execution_count": 32,
   "id": "54855901-4f9b-4919-8eee-486e9b9ca44a",
   "metadata": {},
   "outputs": [],
   "source": [
    "X_train, Y_train = SMOTE(random_state=42).fit_resample(x_trn, y_trn)# apply the SMOTE oversampling technique to the training feature values \"x_trn\" and training target values \"y_trn\" using the \"fit_resample\" method of the SMOTE object\n",
    "# the SMOTE object is initialized with a random seed of 42 to ensure reproducibility\n",
    "# assign the oversampled feature values to \"X_train\" and the oversampled target values to \"Y_train\"\n",
    "balanced_train = pd.concat([pd.DataFrame(Y_train), pd.DataFrame(X_train)], axis=1) # create a new dataframe \"balanced_train\" by concatenating the \"Y_train\" dataframe and the \"X_train\" dataframe along the specified axis (1 corresponds to columns, 0 corresponds to rows)\n",
    "# this creates a dataframe with the same structure as the original data, but with the training data balanced using the SMOTE technique"
   ]
  },
  {
   "cell_type": "code",
   "execution_count": 33,
   "id": "5d151615-2c1e-411d-a02f-0a43360013ae",
   "metadata": {},
   "outputs": [
    {
     "data": {
      "text/plain": [
       "<AxesSubplot:xlabel='type', ylabel='count'>"
      ]
     },
     "execution_count": 33,
     "metadata": {},
     "output_type": "execute_result"
    },
    {
     "data": {
      "image/png": "[encoded data removed]",
      "text/plain": [
       "<Figure size 432x288 with 1 Axes>"
      ]
     },
     "metadata": {},
     "output_type": "display_data"
    }
   ],
   "source": [
    "sns.set_style('whitegrid') # set the style of the seaborn plots to a white background with gridlines\n",
    "sns.countplot(x='type',data=balanced_train,palette='RdBu_r') # create a countplot using seaborn, with the values in the \"type\" column as the x-axis and the data in the \"balanced_train\" dataframe as the input data\n",
    "# set the color palette of the plot to the \"RdBu_r\" palette (diverging red-blue)"
   ]
  },
  {
   "cell_type": "markdown",
   "id": "33c9e2cd-1650-4016-ab57-56bbe22453f9",
   "metadata": {
    "tags": []
   },
   "source": [
    "### j- Label encoding"
   ]
  },
  {
   "cell_type": "code",
   "execution_count": 34,
   "id": "5b881b32-87f0-4281-b714-3592b7f9c768",
   "metadata": {},
   "outputs": [],
   "source": [
    "le = preprocessing.LabelEncoder() # create an object \"le\" that is an instance of the LabelEncoder class from the \"preprocessing\" module\n",
    "# LabelEncoder is a preprocessing method that encodes categorical variables as integers"
   ]
  },
  {
   "cell_type": "code",
   "execution_count": 35,
   "id": "522093dc-617c-4da5-be3f-bf27ea617648",
   "metadata": {},
   "outputs": [
    {
     "data": {
      "text/plain": [
       "LabelEncoder()"
      ]
     },
     "execution_count": 35,
     "metadata": {},
     "output_type": "execute_result"
    }
   ],
   "source": [
    "le.fit(balanced_train[\"type\"]) # fit the \"le\" object to the \"type\" column of the \"balanced_train\" dataframe using the \"fit\" method\n",
    "# this step prepares the LabelEncoder object to be used on the \"type\" column"
   ]
  },
  {
   "cell_type": "code",
   "execution_count": 36,
   "id": "dce88123-9230-4982-8a1b-e583d6ddcc54",
   "metadata": {},
   "outputs": [
    {
     "data": {
      "text/plain": [
       "['P', 'R', 'SO', 'SW', 'T', 'W']"
      ]
     },
     "execution_count": 36,
     "metadata": {},
     "output_type": "execute_result"
    }
   ],
   "source": [
    "list(le.classes_) # display the list of unique categories in the \"type\" column of the \"balanced_train\" dataframe, as encoded by the \"le\" object\n",
    "# the \"classes_\" attribute of the \"le\" object stores the list of unique categories"
   ]
  },
  {
   "cell_type": "markdown",
   "id": "87471306-2665-4fd5-ae05-2d28d47a8bb0",
   "metadata": {},
   "source": [
    "## 2 - Training multiple models to compare and select the best model"
   ]
  },
  {
   "cell_type": "markdown",
   "id": "257b3c96-f89c-4e00-815d-f507e0839f4f",
   "metadata": {},
   "source": [
    "### a - Decision tree classifier"
   ]
  },
  {
   "cell_type": "code",
   "execution_count": 37,
   "id": "d8eee431-bb44-4085-aff4-c57715e691b7",
   "metadata": {},
   "outputs": [],
   "source": [
    "param_grid = {'max_features': ['auto', 'sqrt', 'log2'],  # create a dictionary \"param_grid\" that defines the hyperparameter values to be used in a grid search\n",
    "              'ccp_alpha': [0.1, .01, .001],             # the grid search will tune the hyperparameters of a decision tree model\n",
    "              'max_depth' : [5, 6, 7, 8, 9],             # the hyperparameters being tuned are:\n",
    "              'criterion' :['gini', 'entropy']           # - \"max_features\": the number of features to consider when looking for the best split\n",
    "             }                                           # - \"ccp_alpha\": the complexity parameter of the decision tree model, which controls the amount of pruning\n",
    "                                                         # - \"max_depth\": the maximum depth of the decision tree\n",
    "                                                         # - \"criterion\": the function used to evaluate the quality of a split\n",
    "                                                         # the values for each hyperparameter are specified as lists of possible values"
   ]
  },
  {
   "cell_type": "code",
   "execution_count": 38,
   "id": "e11ce322-2e9d-4fba-b969-1ff6590c58a6",
   "metadata": {},
   "outputs": [],
   "source": [
    "grid = GridSearchCV(DecisionTreeClassifier(),param_grid,refit=True,verbose=3) # create an object \"grid\" that is an instance of the GridSearchCV class\n",
    "# the GridSearchCV class performs an exhaustive search over a specified parameter grid to find the best hyperparameter values for a given model\n",
    "# the model being used in this case is a Decision Tree Classifier\n",
    "# the hyperparameter values to be searched are defined in the \"param_grid\" dictionary\n",
    "# the \"refit\" argument specifies that the best estimator should be refitted on the entire training set with the best found parameters\n",
    "# the \"verbose\" argument controls the amount of output generated by the grid search"
   ]
  },
  {
   "cell_type": "code",
   "execution_count": 39,
   "id": "dcb68689-a0de-4181-8b3e-51f556618d30",
   "metadata": {
    "scrolled": true,
    "tags": []
   },
   "outputs": [
    {
     "name": "stdout",
     "output_type": "stream",
     "text": [
      "Fitting 5 folds for each of 90 candidates, totalling 450 fits\n",
      "[CV 1/5] END ccp_alpha=0.1, criterion=gini, max_depth=5, max_features=auto;, score=0.167 total time=   0.0s\n",
      "[CV 2/5] END ccp_alpha=0.1, criterion=gini, max_depth=5, max_features=auto;, score=0.167 total time=   0.0s\n",
      "[CV 3/5] END ccp_alpha=0.1, criterion=gini, max_depth=5, max_features=auto;, score=0.167 total time=   0.0s\n",
      "[CV 4/5] END ccp_alpha=0.1, criterion=gini, max_depth=5, max_features=auto;, score=0.167 total time=   0.0s\n",
      "[CV 5/5] END ccp_alpha=0.1, criterion=gini, max_depth=5, max_features=auto;, score=0.167 total time=   0.0s\n",
      "[CV 1/5] END ccp_alpha=0.1, criterion=gini, max_depth=5, max_features=sqrt;, score=0.167 total time=   0.0s\n",
      "[CV 2/5] END ccp_alpha=0.1, criterion=gini, max_depth=5, max_features=sqrt;, score=0.167 total time=   0.0s\n",
      "[CV 3/5] END ccp_alpha=0.1, criterion=gini, max_depth=5, max_features=sqrt;, score=0.167 total time=   0.0s\n",
      "[CV 4/5] END ccp_alpha=0.1, criterion=gini, max_depth=5, max_features=sqrt;, score=0.167 total time=   0.0s\n",
      "[CV 5/5] END ccp_alpha=0.1, criterion=gini, max_depth=5, max_features=sqrt;, score=0.167 total time=   0.0s\n",
      "[CV 1/5] END ccp_alpha=0.1, criterion=gini, max_depth=5, max_features=log2;, score=0.167 total time=   0.0s\n",
      "[CV 2/5] END ccp_alpha=0.1, criterion=gini, max_depth=5, max_features=log2;, score=0.167 total time=   0.0s\n",
      "[CV 3/5] END ccp_alpha=0.1, criterion=gini, max_depth=5, max_features=log2;, score=0.167 total time=   0.0s\n",
      "[CV 4/5] END ccp_alpha=0.1, criterion=gini, max_depth=5, max_features=log2;, score=0.167 total time=   0.0s\n",
      "[CV 5/5] END ccp_alpha=0.1, criterion=gini, max_depth=5, max_features=log2;, score=0.167 total time=   0.0s\n",
      "[CV 1/5] END ccp_alpha=0.1, criterion=gini, max_depth=6, max_features=auto;, score=0.167 total time=   0.0s\n",
      "[CV 2/5] END ccp_alpha=0.1, criterion=gini, max_depth=6, max_features=auto;, score=0.167 total time=   0.0s\n",
      "[CV 3/5] END ccp_alpha=0.1, criterion=gini, max_depth=6, max_features=auto;, score=0.167 total time=   0.0s\n",
      "[CV 4/5] END ccp_alpha=0.1, criterion=gini, max_depth=6, max_features=auto;, score=0.167 total time=   0.0s\n",
      "[CV 5/5] END ccp_alpha=0.1, criterion=gini, max_depth=6, max_features=auto;, score=0.167 total time=   0.0s\n",
      "[CV 1/5] END ccp_alpha=0.1, criterion=gini, max_depth=6, max_features=sqrt;, score=0.167 total time=   0.0s\n",
      "[CV 2/5] END ccp_alpha=0.1, criterion=gini, max_depth=6, max_features=sqrt;, score=0.167 total time=   0.0s\n",
      "[CV 3/5] END ccp_alpha=0.1, criterion=gini, max_depth=6, max_features=sqrt;, score=0.167 total time=   0.0s\n",
      "[CV 4/5] END ccp_alpha=0.1, criterion=gini, max_depth=6, max_features=sqrt;, score=0.167 total time=   0.0s\n",
      "[CV 5/5] END ccp_alpha=0.1, criterion=gini, max_depth=6, max_features=sqrt;, score=0.167 total time=   0.0s\n",
      "[CV 1/5] END ccp_alpha=0.1, criterion=gini, max_depth=6, max_features=log2;, score=0.167 total time=   0.0s\n",
      "[CV 2/5] END ccp_alpha=0.1, criterion=gini, max_depth=6, max_features=log2;, score=0.167 total time=   0.0s\n",
      "[CV 3/5] END ccp_alpha=0.1, criterion=gini, max_depth=6, max_features=log2;, score=0.167 total time=   0.0s\n",
      "[CV 4/5] END ccp_alpha=0.1, criterion=gini, max_depth=6, max_features=log2;, score=0.167 total time=   0.0s\n",
      "[CV 5/5] END ccp_alpha=0.1, criterion=gini, max_depth=6, max_features=log2;, score=0.167 total time=   0.0s\n",
      "[CV 1/5] END ccp_alpha=0.1, criterion=gini, max_depth=7, max_features=auto;, score=0.167 total time=   0.0s\n",
      "[CV 2/5] END ccp_alpha=0.1, criterion=gini, max_depth=7, max_features=auto;, score=0.167 total time=   0.0s\n",
      "[CV 3/5] END ccp_alpha=0.1, criterion=gini, max_depth=7, max_features=auto;, score=0.167 total time=   0.0s\n",
      "[CV 4/5] END ccp_alpha=0.1, criterion=gini, max_depth=7, max_features=auto;, score=0.167 total time=   0.0s\n",
      "[CV 5/5] END ccp_alpha=0.1, criterion=gini, max_depth=7, max_features=auto;, score=0.167 total time=   0.0s\n",
      "[CV 1/5] END ccp_alpha=0.1, criterion=gini, max_depth=7, max_features=sqrt;, score=0.167 total time=   0.0s\n",
      "[CV 2/5] END ccp_alpha=0.1, criterion=gini, max_depth=7, max_features=sqrt;, score=0.167 total time=   0.0s\n",
      "[CV 3/5] END ccp_alpha=0.1, criterion=gini, max_depth=7, max_features=sqrt;, score=0.167 total time=   0.0s\n",
      "[CV 4/5] END ccp_alpha=0.1, criterion=gini, max_depth=7, max_features=sqrt;, score=0.167 total time=   0.0s\n",
      "[CV 5/5] END ccp_alpha=0.1, criterion=gini, max_depth=7, max_features=sqrt;, score=0.167 total time=   0.0s\n",
      "[CV 1/5] END ccp_alpha=0.1, criterion=gini, max_depth=7, max_features=log2;, score=0.167 total time=   0.0s\n",
      "[CV 2/5] END ccp_alpha=0.1, criterion=gini, max_depth=7, max_features=log2;, score=0.167 total time=   0.0s\n",
      "[CV 3/5] END ccp_alpha=0.1, criterion=gini, max_depth=7, max_features=log2;, score=0.167 total time=   0.0s\n",
      "[CV 4/5] END ccp_alpha=0.1, criterion=gini, max_depth=7, max_features=log2;, score=0.167 total time=   0.0s\n",
      "[CV 5/5] END ccp_alpha=0.1, criterion=gini, max_depth=7, max_features=log2;, score=0.167 total time=   0.0s\n",
      "[CV 1/5] END ccp_alpha=0.1, criterion=gini, max_depth=8, max_features=auto;, score=0.167 total time=   0.0s\n",
      "[CV 2/5] END ccp_alpha=0.1, criterion=gini, max_depth=8, max_features=auto;, score=0.167 total time=   0.0s\n",
      "[CV 3/5] END ccp_alpha=0.1, criterion=gini, max_depth=8, max_features=auto;, score=0.167 total time=   0.0s\n",
      "[CV 4/5] END ccp_alpha=0.1, criterion=gini, max_depth=8, max_features=auto;, score=0.167 total time=   0.0s\n",
      "[CV 5/5] END ccp_alpha=0.1, criterion=gini, max_depth=8, max_features=auto;, score=0.167 total time=   0.0s\n",
      "[CV 1/5] END ccp_alpha=0.1, criterion=gini, max_depth=8, max_features=sqrt;, score=0.167 total time=   0.0s\n",
      "[CV 2/5] END ccp_alpha=0.1, criterion=gini, max_depth=8, max_features=sqrt;, score=0.167 total time=   0.0s\n",
      "[CV 3/5] END ccp_alpha=0.1, criterion=gini, max_depth=8, max_features=sqrt;, score=0.167 total time=   0.0s\n",
      "[CV 4/5] END ccp_alpha=0.1, criterion=gini, max_depth=8, max_features=sqrt;, score=0.167 total time=   0.0s\n",
      "[CV 5/5] END ccp_alpha=0.1, criterion=gini, max_depth=8, max_features=sqrt;, score=0.167 total time=   0.0s\n",
      "[CV 1/5] END ccp_alpha=0.1, criterion=gini, max_depth=8, max_features=log2;, score=0.167 total time=   0.0s\n",
      "[CV 2/5] END ccp_alpha=0.1, criterion=gini, max_depth=8, max_features=log2;, score=0.167 total time=   0.0s\n",
      "[CV 3/5] END ccp_alpha=0.1, criterion=gini, max_depth=8, max_features=log2;, score=0.167 total time=   0.0s\n",
      "[CV 4/5] END ccp_alpha=0.1, criterion=gini, max_depth=8, max_features=log2;, score=0.167 total time=   0.0s\n",
      "[CV 5/5] END ccp_alpha=0.1, criterion=gini, max_depth=8, max_features=log2;, score=0.167 total time=   0.0s\n",
      "[CV 1/5] END ccp_alpha=0.1, criterion=gini, max_depth=9, max_features=auto;, score=0.167 total time=   0.0s\n",
      "[CV 2/5] END ccp_alpha=0.1, criterion=gini, max_depth=9, max_features=auto;, score=0.167 total time=   0.0s\n",
      "[CV 3/5] END ccp_alpha=0.1, criterion=gini, max_depth=9, max_features=auto;, score=0.167 total time=   0.0s\n",
      "[CV 4/5] END ccp_alpha=0.1, criterion=gini, max_depth=9, max_features=auto;, score=0.167 total time=   0.0s\n",
      "[CV 5/5] END ccp_alpha=0.1, criterion=gini, max_depth=9, max_features=auto;, score=0.167 total time=   0.0s\n",
      "[CV 1/5] END ccp_alpha=0.1, criterion=gini, max_depth=9, max_features=sqrt;, score=0.167 total time=   0.0s\n",
      "[CV 2/5] END ccp_alpha=0.1, criterion=gini, max_depth=9, max_features=sqrt;, score=0.167 total time=   0.0s\n",
      "[CV 3/5] END ccp_alpha=0.1, criterion=gini, max_depth=9, max_features=sqrt;, score=0.167 total time=   0.0s\n",
      "[CV 4/5] END ccp_alpha=0.1, criterion=gini, max_depth=9, max_features=sqrt;, score=0.167 total time=   0.0s\n",
      "[CV 5/5] END ccp_alpha=0.1, criterion=gini, max_depth=9, max_features=sqrt;, score=0.167 total time=   0.0s\n",
      "[CV 1/5] END ccp_alpha=0.1, criterion=gini, max_depth=9, max_features=log2;, score=0.167 total time=   0.0s\n",
      "[CV 2/5] END ccp_alpha=0.1, criterion=gini, max_depth=9, max_features=log2;, score=0.167 total time=   0.0s\n",
      "[CV 3/5] END ccp_alpha=0.1, criterion=gini, max_depth=9, max_features=log2;, score=0.167 total time=   0.0s\n",
      "[CV 4/5] END ccp_alpha=0.1, criterion=gini, max_depth=9, max_features=log2;, score=0.167 total time=   0.0s\n",
      "[CV 5/5] END ccp_alpha=0.1, criterion=gini, max_depth=9, max_features=log2;, score=0.167 total time=   0.0s\n",
      "[CV 1/5] END ccp_alpha=0.1, criterion=entropy, max_depth=5, max_features=auto;, score=0.546 total time=   0.0s\n",
      "[CV 2/5] END ccp_alpha=0.1, criterion=entropy, max_depth=5, max_features=auto;, score=0.500 total time=   0.0s\n",
      "[CV 3/5] END ccp_alpha=0.1, criterion=entropy, max_depth=5, max_features=auto;, score=0.593 total time=   0.0s\n",
      "[CV 4/5] END ccp_alpha=0.1, criterion=entropy, max_depth=5, max_features=auto;, score=0.528 total time=   0.0s\n",
      "[CV 5/5] END ccp_alpha=0.1, criterion=entropy, max_depth=5, max_features=auto;, score=0.481 total time=   0.0s\n",
      "[CV 1/5] END ccp_alpha=0.1, criterion=entropy, max_depth=5, max_features=sqrt;, score=0.537 total time=   0.0s\n",
      "[CV 2/5] END ccp_alpha=0.1, criterion=entropy, max_depth=5, max_features=sqrt;, score=0.602 total time=   0.0s\n",
      "[CV 3/5] END ccp_alpha=0.1, criterion=entropy, max_depth=5, max_features=sqrt;, score=0.491 total time=   0.0s\n",
      "[CV 4/5] END ccp_alpha=0.1, criterion=entropy, max_depth=5, max_features=sqrt;, score=0.528 total time=   0.0s\n",
      "[CV 5/5] END ccp_alpha=0.1, criterion=entropy, max_depth=5, max_features=sqrt;, score=0.389 total time=   0.0s\n",
      "[CV 1/5] END ccp_alpha=0.1, criterion=entropy, max_depth=5, max_features=log2;, score=0.537 total time=   0.0s\n",
      "[CV 2/5] END ccp_alpha=0.1, criterion=entropy, max_depth=5, max_features=log2;, score=0.500 total time=   0.0s\n",
      "[CV 3/5] END ccp_alpha=0.1, criterion=entropy, max_depth=5, max_features=log2;, score=0.639 total time=   0.0s\n",
      "[CV 4/5] END ccp_alpha=0.1, criterion=entropy, max_depth=5, max_features=log2;, score=0.648 total time=   0.0s\n",
      "[CV 5/5] END ccp_alpha=0.1, criterion=entropy, max_depth=5, max_features=log2;, score=0.565 total time=   0.0s\n",
      "[CV 1/5] END ccp_alpha=0.1, criterion=entropy, max_depth=6, max_features=auto;, score=0.583 total time=   0.0s\n",
      "[CV 2/5] END ccp_alpha=0.1, criterion=entropy, max_depth=6, max_features=auto;, score=0.556 total time=   0.0s\n",
      "[CV 3/5] END ccp_alpha=0.1, criterion=entropy, max_depth=6, max_features=auto;, score=0.602 total time=   0.0s\n",
      "[CV 4/5] END ccp_alpha=0.1, criterion=entropy, max_depth=6, max_features=auto;, score=0.583 total time=   0.0s\n",
      "[CV 5/5] END ccp_alpha=0.1, criterion=entropy, max_depth=6, max_features=auto;, score=0.454 total time=   0.0s\n",
      "[CV 1/5] END ccp_alpha=0.1, criterion=entropy, max_depth=6, max_features=sqrt;, score=0.500 total time=   0.0s\n",
      "[CV 2/5] END ccp_alpha=0.1, criterion=entropy, max_depth=6, max_features=sqrt;, score=0.583 total time=   0.0s\n",
      "[CV 3/5] END ccp_alpha=0.1, criterion=entropy, max_depth=6, max_features=sqrt;, score=0.546 total time=   0.0s\n",
      "[CV 4/5] END ccp_alpha=0.1, criterion=entropy, max_depth=6, max_features=sqrt;, score=0.630 total time=   0.0s\n",
      "[CV 5/5] END ccp_alpha=0.1, criterion=entropy, max_depth=6, max_features=sqrt;, score=0.537 total time=   0.0s\n",
      "[CV 1/5] END ccp_alpha=0.1, criterion=entropy, max_depth=6, max_features=log2;, score=0.593 total time=   0.0s\n",
      "[CV 2/5] END ccp_alpha=0.1, criterion=entropy, max_depth=6, max_features=log2;, score=0.630 total time=   0.0s\n",
      "[CV 3/5] END ccp_alpha=0.1, criterion=entropy, max_depth=6, max_features=log2;, score=0.556 total time=   0.0s\n",
      "[CV 4/5] END ccp_alpha=0.1, criterion=entropy, max_depth=6, max_features=log2;, score=0.648 total time=   0.0s\n",
      "[CV 5/5] END ccp_alpha=0.1, criterion=entropy, max_depth=6, max_features=log2;, score=0.509 total time=   0.0s\n",
      "[CV 1/5] END ccp_alpha=0.1, criterion=entropy, max_depth=7, max_features=auto;, score=0.454 total time=   0.0s\n",
      "[CV 2/5] END ccp_alpha=0.1, criterion=entropy, max_depth=7, max_features=auto;, score=0.574 total time=   0.0s\n",
      "[CV 3/5] END ccp_alpha=0.1, criterion=entropy, max_depth=7, max_features=auto;, score=0.546 total time=   0.0s\n",
      "[CV 4/5] END ccp_alpha=0.1, criterion=entropy, max_depth=7, max_features=auto;, score=0.315 total time=   0.0s\n",
      "[CV 5/5] END ccp_alpha=0.1, criterion=entropy, max_depth=7, max_features=auto;, score=0.528 total time=   0.0s\n",
      "[CV 1/5] END ccp_alpha=0.1, criterion=entropy, max_depth=7, max_features=sqrt;, score=0.509 total time=   0.0s\n",
      "[CV 2/5] END ccp_alpha=0.1, criterion=entropy, max_depth=7, max_features=sqrt;, score=0.565 total time=   0.0s\n",
      "[CV 3/5] END ccp_alpha=0.1, criterion=entropy, max_depth=7, max_features=sqrt;, score=0.472 total time=   0.0s\n",
      "[CV 4/5] END ccp_alpha=0.1, criterion=entropy, max_depth=7, max_features=sqrt;, score=0.611 total time=   0.0s\n",
      "[CV 5/5] END ccp_alpha=0.1, criterion=entropy, max_depth=7, max_features=sqrt;, score=0.583 total time=   0.0s\n",
      "[CV 1/5] END ccp_alpha=0.1, criterion=entropy, max_depth=7, max_features=log2;, score=0.444 total time=   0.0s\n",
      "[CV 2/5] END ccp_alpha=0.1, criterion=entropy, max_depth=7, max_features=log2;, score=0.611 total time=   0.0s\n",
      "[CV 3/5] END ccp_alpha=0.1, criterion=entropy, max_depth=7, max_features=log2;, score=0.574 total time=   0.0s\n",
      "[CV 4/5] END ccp_alpha=0.1, criterion=entropy, max_depth=7, max_features=log2;, score=0.657 total time=   0.0s\n",
      "[CV 5/5] END ccp_alpha=0.1, criterion=entropy, max_depth=7, max_features=log2;, score=0.546 total time=   0.0s\n",
      "[CV 1/5] END ccp_alpha=0.1, criterion=entropy, max_depth=8, max_features=auto;, score=0.537 total time=   0.0s\n",
      "[CV 2/5] END ccp_alpha=0.1, criterion=entropy, max_depth=8, max_features=auto;, score=0.620 total time=   0.0s\n",
      "[CV 3/5] END ccp_alpha=0.1, criterion=entropy, max_depth=8, max_features=auto;, score=0.546 total time=   0.0s\n",
      "[CV 4/5] END ccp_alpha=0.1, criterion=entropy, max_depth=8, max_features=auto;, score=0.528 total time=   0.0s\n",
      "[CV 5/5] END ccp_alpha=0.1, criterion=entropy, max_depth=8, max_features=auto;, score=0.620 total time=   0.0s\n",
      "[CV 1/5] END ccp_alpha=0.1, criterion=entropy, max_depth=8, max_features=sqrt;, score=0.500 total time=   0.0s\n",
      "[CV 2/5] END ccp_alpha=0.1, criterion=entropy, max_depth=8, max_features=sqrt;, score=0.583 total time=   0.0s\n",
      "[CV 3/5] END ccp_alpha=0.1, criterion=entropy, max_depth=8, max_features=sqrt;, score=0.593 total time=   0.0s\n",
      "[CV 4/5] END ccp_alpha=0.1, criterion=entropy, max_depth=8, max_features=sqrt;, score=0.528 total time=   0.0s\n",
      "[CV 5/5] END ccp_alpha=0.1, criterion=entropy, max_depth=8, max_features=sqrt;, score=0.398 total time=   0.0s\n",
      "[CV 1/5] END ccp_alpha=0.1, criterion=entropy, max_depth=8, max_features=log2;, score=0.481 total time=   0.0s\n",
      "[CV 2/5] END ccp_alpha=0.1, criterion=entropy, max_depth=8, max_features=log2;, score=0.648 total time=   0.0s\n",
      "[CV 3/5] END ccp_alpha=0.1, criterion=entropy, max_depth=8, max_features=log2;, score=0.611 total time=   0.0s\n",
      "[CV 4/5] END ccp_alpha=0.1, criterion=entropy, max_depth=8, max_features=log2;, score=0.630 total time=   0.0s\n",
      "[CV 5/5] END ccp_alpha=0.1, criterion=entropy, max_depth=8, max_features=log2;, score=0.574 total time=   0.0s\n",
      "[CV 1/5] END ccp_alpha=0.1, criterion=entropy, max_depth=9, max_features=auto;, score=0.583 total time=   0.0s\n",
      "[CV 2/5] END ccp_alpha=0.1, criterion=entropy, max_depth=9, max_features=auto;, score=0.463 total time=   0.0s\n",
      "[CV 3/5] END ccp_alpha=0.1, criterion=entropy, max_depth=9, max_features=auto;, score=0.593 total time=   0.0s\n",
      "[CV 4/5] END ccp_alpha=0.1, criterion=entropy, max_depth=9, max_features=auto;, score=0.519 total time=   0.0s\n",
      "[CV 5/5] END ccp_alpha=0.1, criterion=entropy, max_depth=9, max_features=auto;, score=0.556 total time=   0.0s\n",
      "[CV 1/5] END ccp_alpha=0.1, criterion=entropy, max_depth=9, max_features=sqrt;, score=0.389 total time=   0.0s\n",
      "[CV 2/5] END ccp_alpha=0.1, criterion=entropy, max_depth=9, max_features=sqrt;, score=0.602 total time=   0.0s\n",
      "[CV 3/5] END ccp_alpha=0.1, criterion=entropy, max_depth=9, max_features=sqrt;, score=0.481 total time=   0.0s\n",
      "[CV 4/5] END ccp_alpha=0.1, criterion=entropy, max_depth=9, max_features=sqrt;, score=0.611 total time=   0.0s\n",
      "[CV 5/5] END ccp_alpha=0.1, criterion=entropy, max_depth=9, max_features=sqrt;, score=0.546 total time=   0.0s\n",
      "[CV 1/5] END ccp_alpha=0.1, criterion=entropy, max_depth=9, max_features=log2;, score=0.556 total time=   0.0s\n",
      "[CV 2/5] END ccp_alpha=0.1, criterion=entropy, max_depth=9, max_features=log2;, score=0.620 total time=   0.0s\n",
      "[CV 3/5] END ccp_alpha=0.1, criterion=entropy, max_depth=9, max_features=log2;, score=0.519 total time=   0.0s\n",
      "[CV 4/5] END ccp_alpha=0.1, criterion=entropy, max_depth=9, max_features=log2;, score=0.546 total time=   0.0s\n",
      "[CV 5/5] END ccp_alpha=0.1, criterion=entropy, max_depth=9, max_features=log2;, score=0.556 total time=   0.0s\n",
      "[CV 1/5] END ccp_alpha=0.01, criterion=gini, max_depth=5, max_features=auto;, score=0.593 total time=   0.0s\n",
      "[CV 2/5] END ccp_alpha=0.01, criterion=gini, max_depth=5, max_features=auto;, score=0.694 total time=   0.0s\n",
      "[CV 3/5] END ccp_alpha=0.01, criterion=gini, max_depth=5, max_features=auto;, score=0.731 total time=   0.0s\n",
      "[CV 4/5] END ccp_alpha=0.01, criterion=gini, max_depth=5, max_features=auto;, score=0.704 total time=   0.0s\n",
      "[CV 5/5] END ccp_alpha=0.01, criterion=gini, max_depth=5, max_features=auto;, score=0.694 total time=   0.0s\n",
      "[CV 1/5] END ccp_alpha=0.01, criterion=gini, max_depth=5, max_features=sqrt;, score=0.611 total time=   0.0s\n",
      "[CV 2/5] END ccp_alpha=0.01, criterion=gini, max_depth=5, max_features=sqrt;, score=0.657 total time=   0.0s\n",
      "[CV 3/5] END ccp_alpha=0.01, criterion=gini, max_depth=5, max_features=sqrt;, score=0.657 total time=   0.0s\n",
      "[CV 4/5] END ccp_alpha=0.01, criterion=gini, max_depth=5, max_features=sqrt;, score=0.685 total time=   0.0s\n",
      "[CV 5/5] END ccp_alpha=0.01, criterion=gini, max_depth=5, max_features=sqrt;, score=0.694 total time=   0.0s\n",
      "[CV 1/5] END ccp_alpha=0.01, criterion=gini, max_depth=5, max_features=log2;, score=0.713 total time=   0.0s\n",
      "[CV 2/5] END ccp_alpha=0.01, criterion=gini, max_depth=5, max_features=log2;, score=0.648 total time=   0.0s\n",
      "[CV 3/5] END ccp_alpha=0.01, criterion=gini, max_depth=5, max_features=log2;, score=0.759 total time=   0.0s\n",
      "[CV 4/5] END ccp_alpha=0.01, criterion=gini, max_depth=5, max_features=log2;, score=0.630 total time=   0.0s\n",
      "[CV 5/5] END ccp_alpha=0.01, criterion=gini, max_depth=5, max_features=log2;, score=0.648 total time=   0.0s\n",
      "[CV 1/5] END ccp_alpha=0.01, criterion=gini, max_depth=6, max_features=auto;, score=0.611 total time=   0.0s\n",
      "[CV 2/5] END ccp_alpha=0.01, criterion=gini, max_depth=6, max_features=auto;, score=0.704 total time=   0.0s\n",
      "[CV 3/5] END ccp_alpha=0.01, criterion=gini, max_depth=6, max_features=auto;, score=0.704 total time=   0.0s\n",
      "[CV 4/5] END ccp_alpha=0.01, criterion=gini, max_depth=6, max_features=auto;, score=0.704 total time=   0.0s\n",
      "[CV 5/5] END ccp_alpha=0.01, criterion=gini, max_depth=6, max_features=auto;, score=0.713 total time=   0.0s\n",
      "[CV 1/5] END ccp_alpha=0.01, criterion=gini, max_depth=6, max_features=sqrt;, score=0.583 total time=   0.0s\n",
      "[CV 2/5] END ccp_alpha=0.01, criterion=gini, max_depth=6, max_features=sqrt;, score=0.667 total time=   0.0s\n",
      "[CV 3/5] END ccp_alpha=0.01, criterion=gini, max_depth=6, max_features=sqrt;, score=0.685 total time=   0.0s\n",
      "[CV 4/5] END ccp_alpha=0.01, criterion=gini, max_depth=6, max_features=sqrt;, score=0.750 total time=   0.0s\n",
      "[CV 5/5] END ccp_alpha=0.01, criterion=gini, max_depth=6, max_features=sqrt;, score=0.759 total time=   0.0s\n",
      "[CV 1/5] END ccp_alpha=0.01, criterion=gini, max_depth=6, max_features=log2;, score=0.611 total time=   0.0s\n",
      "[CV 2/5] END ccp_alpha=0.01, criterion=gini, max_depth=6, max_features=log2;, score=0.630 total time=   0.0s\n",
      "[CV 3/5] END ccp_alpha=0.01, criterion=gini, max_depth=6, max_features=log2;, score=0.769 total time=   0.0s\n",
      "[CV 4/5] END ccp_alpha=0.01, criterion=gini, max_depth=6, max_features=log2;, score=0.713 total time=   0.0s\n",
      "[CV 5/5] END ccp_alpha=0.01, criterion=gini, max_depth=6, max_features=log2;, score=0.667 total time=   0.0s\n",
      "[CV 1/5] END ccp_alpha=0.01, criterion=gini, max_depth=7, max_features=auto;, score=0.611 total time=   0.0s\n",
      "[CV 2/5] END ccp_alpha=0.01, criterion=gini, max_depth=7, max_features=auto;, score=0.685 total time=   0.0s\n",
      "[CV 3/5] END ccp_alpha=0.01, criterion=gini, max_depth=7, max_features=auto;, score=0.778 total time=   0.0s\n",
      "[CV 4/5] END ccp_alpha=0.01, criterion=gini, max_depth=7, max_features=auto;, score=0.750 total time=   0.0s\n",
      "[CV 5/5] END ccp_alpha=0.01, criterion=gini, max_depth=7, max_features=auto;, score=0.685 total time=   0.0s\n",
      "[CV 1/5] END ccp_alpha=0.01, criterion=gini, max_depth=7, max_features=sqrt;, score=0.620 total time=   0.0s\n",
      "[CV 2/5] END ccp_alpha=0.01, criterion=gini, max_depth=7, max_features=sqrt;, score=0.741 total time=   0.0s\n",
      "[CV 3/5] END ccp_alpha=0.01, criterion=gini, max_depth=7, max_features=sqrt;, score=0.731 total time=   0.0s\n",
      "[CV 4/5] END ccp_alpha=0.01, criterion=gini, max_depth=7, max_features=sqrt;, score=0.704 total time=   0.0s\n",
      "[CV 5/5] END ccp_alpha=0.01, criterion=gini, max_depth=7, max_features=sqrt;, score=0.750 total time=   0.0s\n",
      "[CV 1/5] END ccp_alpha=0.01, criterion=gini, max_depth=7, max_features=log2;, score=0.704 total time=   0.0s\n",
      "[CV 2/5] END ccp_alpha=0.01, criterion=gini, max_depth=7, max_features=log2;, score=0.704 total time=   0.0s\n",
      "[CV 3/5] END ccp_alpha=0.01, criterion=gini, max_depth=7, max_features=log2;, score=0.731 total time=   0.0s\n",
      "[CV 4/5] END ccp_alpha=0.01, criterion=gini, max_depth=7, max_features=log2;, score=0.750 total time=   0.0s\n",
      "[CV 5/5] END ccp_alpha=0.01, criterion=gini, max_depth=7, max_features=log2;, score=0.630 total time=   0.0s\n",
      "[CV 1/5] END ccp_alpha=0.01, criterion=gini, max_depth=8, max_features=auto;, score=0.722 total time=   0.0s\n",
      "[CV 2/5] END ccp_alpha=0.01, criterion=gini, max_depth=8, max_features=auto;, score=0.694 total time=   0.0s\n",
      "[CV 3/5] END ccp_alpha=0.01, criterion=gini, max_depth=8, max_features=auto;, score=0.861 total time=   0.0s\n",
      "[CV 4/5] END ccp_alpha=0.01, criterion=gini, max_depth=8, max_features=auto;, score=0.750 total time=   0.0s\n",
      "[CV 5/5] END ccp_alpha=0.01, criterion=gini, max_depth=8, max_features=auto;, score=0.741 total time=   0.0s\n",
      "[CV 1/5] END ccp_alpha=0.01, criterion=gini, max_depth=8, max_features=sqrt;, score=0.593 total time=   0.0s\n",
      "[CV 2/5] END ccp_alpha=0.01, criterion=gini, max_depth=8, max_features=sqrt;, score=0.731 total time=   0.0s\n",
      "[CV 3/5] END ccp_alpha=0.01, criterion=gini, max_depth=8, max_features=sqrt;, score=0.759 total time=   0.0s\n",
      "[CV 4/5] END ccp_alpha=0.01, criterion=gini, max_depth=8, max_features=sqrt;, score=0.676 total time=   0.0s\n",
      "[CV 5/5] END ccp_alpha=0.01, criterion=gini, max_depth=8, max_features=sqrt;, score=0.778 total time=   0.0s\n",
      "[CV 1/5] END ccp_alpha=0.01, criterion=gini, max_depth=8, max_features=log2;, score=0.741 total time=   0.0s\n",
      "[CV 2/5] END ccp_alpha=0.01, criterion=gini, max_depth=8, max_features=log2;, score=0.731 total time=   0.0s\n",
      "[CV 3/5] END ccp_alpha=0.01, criterion=gini, max_depth=8, max_features=log2;, score=0.713 total time=   0.0s\n",
      "[CV 4/5] END ccp_alpha=0.01, criterion=gini, max_depth=8, max_features=log2;, score=0.759 total time=   0.0s\n",
      "[CV 5/5] END ccp_alpha=0.01, criterion=gini, max_depth=8, max_features=log2;, score=0.713 total time=   0.0s\n",
      "[CV 1/5] END ccp_alpha=0.01, criterion=gini, max_depth=9, max_features=auto;, score=0.731 total time=   0.0s\n",
      "[CV 2/5] END ccp_alpha=0.01, criterion=gini, max_depth=9, max_features=auto;, score=0.713 total time=   0.0s\n",
      "[CV 3/5] END ccp_alpha=0.01, criterion=gini, max_depth=9, max_features=auto;, score=0.731 total time=   0.0s\n",
      "[CV 4/5] END ccp_alpha=0.01, criterion=gini, max_depth=9, max_features=auto;, score=0.741 total time=   0.0s\n",
      "[CV 5/5] END ccp_alpha=0.01, criterion=gini, max_depth=9, max_features=auto;, score=0.769 total time=   0.0s\n",
      "[CV 1/5] END ccp_alpha=0.01, criterion=gini, max_depth=9, max_features=sqrt;, score=0.676 total time=   0.0s\n",
      "[CV 2/5] END ccp_alpha=0.01, criterion=gini, max_depth=9, max_features=sqrt;, score=0.759 total time=   0.0s\n",
      "[CV 3/5] END ccp_alpha=0.01, criterion=gini, max_depth=9, max_features=sqrt;, score=0.769 total time=   0.0s\n",
      "[CV 4/5] END ccp_alpha=0.01, criterion=gini, max_depth=9, max_features=sqrt;, score=0.750 total time=   0.0s\n",
      "[CV 5/5] END ccp_alpha=0.01, criterion=gini, max_depth=9, max_features=sqrt;, score=0.657 total time=   0.0s\n",
      "[CV 1/5] END ccp_alpha=0.01, criterion=gini, max_depth=9, max_features=log2;, score=0.648 total time=   0.0s\n",
      "[CV 2/5] END ccp_alpha=0.01, criterion=gini, max_depth=9, max_features=log2;, score=0.676 total time=   0.0s\n",
      "[CV 3/5] END ccp_alpha=0.01, criterion=gini, max_depth=9, max_features=log2;, score=0.833 total time=   0.0s\n",
      "[CV 4/5] END ccp_alpha=0.01, criterion=gini, max_depth=9, max_features=log2;, score=0.806 total time=   0.0s\n",
      "[CV 5/5] END ccp_alpha=0.01, criterion=gini, max_depth=9, max_features=log2;, score=0.759 total time=   0.0s\n",
      "[CV 1/5] END ccp_alpha=0.01, criterion=entropy, max_depth=5, max_features=auto;, score=0.713 total time=   0.0s\n",
      "[CV 2/5] END ccp_alpha=0.01, criterion=entropy, max_depth=5, max_features=auto;, score=0.704 total time=   0.0s\n",
      "[CV 3/5] END ccp_alpha=0.01, criterion=entropy, max_depth=5, max_features=auto;, score=0.750 total time=   0.0s\n",
      "[CV 4/5] END ccp_alpha=0.01, criterion=entropy, max_depth=5, max_features=auto;, score=0.704 total time=   0.0s\n",
      "[CV 5/5] END ccp_alpha=0.01, criterion=entropy, max_depth=5, max_features=auto;, score=0.667 total time=   0.0s\n",
      "[CV 1/5] END ccp_alpha=0.01, criterion=entropy, max_depth=5, max_features=sqrt;, score=0.722 total time=   0.0s\n",
      "[CV 2/5] END ccp_alpha=0.01, criterion=entropy, max_depth=5, max_features=sqrt;, score=0.704 total time=   0.0s\n",
      "[CV 3/5] END ccp_alpha=0.01, criterion=entropy, max_depth=5, max_features=sqrt;, score=0.787 total time=   0.0s\n",
      "[CV 4/5] END ccp_alpha=0.01, criterion=entropy, max_depth=5, max_features=sqrt;, score=0.685 total time=   0.0s\n",
      "[CV 5/5] END ccp_alpha=0.01, criterion=entropy, max_depth=5, max_features=sqrt;, score=0.657 total time=   0.0s\n",
      "[CV 1/5] END ccp_alpha=0.01, criterion=entropy, max_depth=5, max_features=log2;, score=0.713 total time=   0.0s\n",
      "[CV 2/5] END ccp_alpha=0.01, criterion=entropy, max_depth=5, max_features=log2;, score=0.694 total time=   0.0s\n",
      "[CV 3/5] END ccp_alpha=0.01, criterion=entropy, max_depth=5, max_features=log2;, score=0.648 total time=   0.0s\n",
      "[CV 4/5] END ccp_alpha=0.01, criterion=entropy, max_depth=5, max_features=log2;, score=0.676 total time=   0.0s\n",
      "[CV 5/5] END ccp_alpha=0.01, criterion=entropy, max_depth=5, max_features=log2;, score=0.657 total time=   0.0s\n",
      "[CV 1/5] END ccp_alpha=0.01, criterion=entropy, max_depth=6, max_features=auto;, score=0.778 total time=   0.0s\n",
      "[CV 2/5] END ccp_alpha=0.01, criterion=entropy, max_depth=6, max_features=auto;, score=0.833 total time=   0.0s\n",
      "[CV 3/5] END ccp_alpha=0.01, criterion=entropy, max_depth=6, max_features=auto;, score=0.741 total time=   0.0s\n",
      "[CV 4/5] END ccp_alpha=0.01, criterion=entropy, max_depth=6, max_features=auto;, score=0.769 total time=   0.0s\n",
      "[CV 5/5] END ccp_alpha=0.01, criterion=entropy, max_depth=6, max_features=auto;, score=0.639 total time=   0.0s\n",
      "[CV 1/5] END ccp_alpha=0.01, criterion=entropy, max_depth=6, max_features=sqrt;, score=0.657 total time=   0.0s\n",
      "[CV 2/5] END ccp_alpha=0.01, criterion=entropy, max_depth=6, max_features=sqrt;, score=0.667 total time=   0.0s\n",
      "[CV 3/5] END ccp_alpha=0.01, criterion=entropy, max_depth=6, max_features=sqrt;, score=0.787 total time=   0.0s\n",
      "[CV 4/5] END ccp_alpha=0.01, criterion=entropy, max_depth=6, max_features=sqrt;, score=0.806 total time=   0.0s\n",
      "[CV 5/5] END ccp_alpha=0.01, criterion=entropy, max_depth=6, max_features=sqrt;, score=0.741 total time=   0.0s\n",
      "[CV 1/5] END ccp_alpha=0.01, criterion=entropy, max_depth=6, max_features=log2;, score=0.639 total time=   0.0s\n",
      "[CV 2/5] END ccp_alpha=0.01, criterion=entropy, max_depth=6, max_features=log2;, score=0.796 total time=   0.0s\n",
      "[CV 3/5] END ccp_alpha=0.01, criterion=entropy, max_depth=6, max_features=log2;, score=0.796 total time=   0.0s\n",
      "[CV 4/5] END ccp_alpha=0.01, criterion=entropy, max_depth=6, max_features=log2;, score=0.778 total time=   0.0s\n",
      "[CV 5/5] END ccp_alpha=0.01, criterion=entropy, max_depth=6, max_features=log2;, score=0.713 total time=   0.0s\n",
      "[CV 1/5] END ccp_alpha=0.01, criterion=entropy, max_depth=7, max_features=auto;, score=0.704 total time=   0.0s\n",
      "[CV 2/5] END ccp_alpha=0.01, criterion=entropy, max_depth=7, max_features=auto;, score=0.843 total time=   0.0s\n",
      "[CV 3/5] END ccp_alpha=0.01, criterion=entropy, max_depth=7, max_features=auto;, score=0.796 total time=   0.0s\n",
      "[CV 4/5] END ccp_alpha=0.01, criterion=entropy, max_depth=7, max_features=auto;, score=0.750 total time=   0.0s\n",
      "[CV 5/5] END ccp_alpha=0.01, criterion=entropy, max_depth=7, max_features=auto;, score=0.815 total time=   0.0s\n",
      "[CV 1/5] END ccp_alpha=0.01, criterion=entropy, max_depth=7, max_features=sqrt;, score=0.731 total time=   0.0s\n",
      "[CV 2/5] END ccp_alpha=0.01, criterion=entropy, max_depth=7, max_features=sqrt;, score=0.759 total time=   0.0s\n",
      "[CV 3/5] END ccp_alpha=0.01, criterion=entropy, max_depth=7, max_features=sqrt;, score=0.759 total time=   0.0s\n",
      "[CV 4/5] END ccp_alpha=0.01, criterion=entropy, max_depth=7, max_features=sqrt;, score=0.833 total time=   0.0s\n",
      "[CV 5/5] END ccp_alpha=0.01, criterion=entropy, max_depth=7, max_features=sqrt;, score=0.778 total time=   0.0s\n",
      "[CV 1/5] END ccp_alpha=0.01, criterion=entropy, max_depth=7, max_features=log2;, score=0.713 total time=   0.0s\n",
      "[CV 2/5] END ccp_alpha=0.01, criterion=entropy, max_depth=7, max_features=log2;, score=0.741 total time=   0.0s\n",
      "[CV 3/5] END ccp_alpha=0.01, criterion=entropy, max_depth=7, max_features=log2;, score=0.778 total time=   0.0s\n",
      "[CV 4/5] END ccp_alpha=0.01, criterion=entropy, max_depth=7, max_features=log2;, score=0.741 total time=   0.0s\n",
      "[CV 5/5] END ccp_alpha=0.01, criterion=entropy, max_depth=7, max_features=log2;, score=0.796 total time=   0.0s\n",
      "[CV 1/5] END ccp_alpha=0.01, criterion=entropy, max_depth=8, max_features=auto;, score=0.870 total time=   0.0s\n",
      "[CV 2/5] END ccp_alpha=0.01, criterion=entropy, max_depth=8, max_features=auto;, score=0.806 total time=   0.0s\n",
      "[CV 3/5] END ccp_alpha=0.01, criterion=entropy, max_depth=8, max_features=auto;, score=0.778 total time=   0.0s\n",
      "[CV 4/5] END ccp_alpha=0.01, criterion=entropy, max_depth=8, max_features=auto;, score=0.778 total time=   0.0s\n",
      "[CV 5/5] END ccp_alpha=0.01, criterion=entropy, max_depth=8, max_features=auto;, score=0.843 total time=   0.0s\n",
      "[CV 1/5] END ccp_alpha=0.01, criterion=entropy, max_depth=8, max_features=sqrt;, score=0.769 total time=   0.0s\n",
      "[CV 2/5] END ccp_alpha=0.01, criterion=entropy, max_depth=8, max_features=sqrt;, score=0.833 total time=   0.0s\n",
      "[CV 3/5] END ccp_alpha=0.01, criterion=entropy, max_depth=8, max_features=sqrt;, score=0.833 total time=   0.0s\n",
      "[CV 4/5] END ccp_alpha=0.01, criterion=entropy, max_depth=8, max_features=sqrt;, score=0.796 total time=   0.0s\n",
      "[CV 5/5] END ccp_alpha=0.01, criterion=entropy, max_depth=8, max_features=sqrt;, score=0.769 total time=   0.0s\n",
      "[CV 1/5] END ccp_alpha=0.01, criterion=entropy, max_depth=8, max_features=log2;, score=0.704 total time=   0.0s\n",
      "[CV 2/5] END ccp_alpha=0.01, criterion=entropy, max_depth=8, max_features=log2;, score=0.796 total time=   0.0s\n",
      "[CV 3/5] END ccp_alpha=0.01, criterion=entropy, max_depth=8, max_features=log2;, score=0.787 total time=   0.0s\n",
      "[CV 4/5] END ccp_alpha=0.01, criterion=entropy, max_depth=8, max_features=log2;, score=0.852 total time=   0.0s\n",
      "[CV 5/5] END ccp_alpha=0.01, criterion=entropy, max_depth=8, max_features=log2;, score=0.796 total time=   0.0s\n",
      "[CV 1/5] END ccp_alpha=0.01, criterion=entropy, max_depth=9, max_features=auto;, score=0.815 total time=   0.0s\n",
      "[CV 2/5] END ccp_alpha=0.01, criterion=entropy, max_depth=9, max_features=auto;, score=0.806 total time=   0.0s\n",
      "[CV 3/5] END ccp_alpha=0.01, criterion=entropy, max_depth=9, max_features=auto;, score=0.843 total time=   0.0s\n",
      "[CV 4/5] END ccp_alpha=0.01, criterion=entropy, max_depth=9, max_features=auto;, score=0.852 total time=   0.0s\n",
      "[CV 5/5] END ccp_alpha=0.01, criterion=entropy, max_depth=9, max_features=auto;, score=0.787 total time=   0.0s\n",
      "[CV 1/5] END ccp_alpha=0.01, criterion=entropy, max_depth=9, max_features=sqrt;, score=0.769 total time=   0.0s\n",
      "[CV 2/5] END ccp_alpha=0.01, criterion=entropy, max_depth=9, max_features=sqrt;, score=0.815 total time=   0.0s\n",
      "[CV 3/5] END ccp_alpha=0.01, criterion=entropy, max_depth=9, max_features=sqrt;, score=0.861 total time=   0.0s\n",
      "[CV 4/5] END ccp_alpha=0.01, criterion=entropy, max_depth=9, max_features=sqrt;, score=0.870 total time=   0.0s\n",
      "[CV 5/5] END ccp_alpha=0.01, criterion=entropy, max_depth=9, max_features=sqrt;, score=0.806 total time=   0.0s\n",
      "[CV 1/5] END ccp_alpha=0.01, criterion=entropy, max_depth=9, max_features=log2;, score=0.704 total time=   0.0s\n",
      "[CV 2/5] END ccp_alpha=0.01, criterion=entropy, max_depth=9, max_features=log2;, score=0.787 total time=   0.0s\n",
      "[CV 3/5] END ccp_alpha=0.01, criterion=entropy, max_depth=9, max_features=log2;, score=0.852 total time=   0.0s\n",
      "[CV 4/5] END ccp_alpha=0.01, criterion=entropy, max_depth=9, max_features=log2;, score=0.815 total time=   0.0s\n",
      "[CV 5/5] END ccp_alpha=0.01, criterion=entropy, max_depth=9, max_features=log2;, score=0.815 total time=   0.0s\n",
      "[CV 1/5] END ccp_alpha=0.001, criterion=gini, max_depth=5, max_features=auto;, score=0.611 total time=   0.0s\n",
      "[CV 2/5] END ccp_alpha=0.001, criterion=gini, max_depth=5, max_features=auto;, score=0.731 total time=   0.0s\n",
      "[CV 3/5] END ccp_alpha=0.001, criterion=gini, max_depth=5, max_features=auto;, score=0.731 total time=   0.0s\n",
      "[CV 4/5] END ccp_alpha=0.001, criterion=gini, max_depth=5, max_features=auto;, score=0.667 total time=   0.0s\n",
      "[CV 5/5] END ccp_alpha=0.001, criterion=gini, max_depth=5, max_features=auto;, score=0.648 total time=   0.0s\n",
      "[CV 1/5] END ccp_alpha=0.001, criterion=gini, max_depth=5, max_features=sqrt;, score=0.759 total time=   0.0s\n",
      "[CV 2/5] END ccp_alpha=0.001, criterion=gini, max_depth=5, max_features=sqrt;, score=0.630 total time=   0.0s\n",
      "[CV 3/5] END ccp_alpha=0.001, criterion=gini, max_depth=5, max_features=sqrt;, score=0.704 total time=   0.0s\n",
      "[CV 4/5] END ccp_alpha=0.001, criterion=gini, max_depth=5, max_features=sqrt;, score=0.713 total time=   0.0s\n",
      "[CV 5/5] END ccp_alpha=0.001, criterion=gini, max_depth=5, max_features=sqrt;, score=0.694 total time=   0.0s\n",
      "[CV 1/5] END ccp_alpha=0.001, criterion=gini, max_depth=5, max_features=log2;, score=0.667 total time=   0.0s\n",
      "[CV 2/5] END ccp_alpha=0.001, criterion=gini, max_depth=5, max_features=log2;, score=0.694 total time=   0.0s\n",
      "[CV 3/5] END ccp_alpha=0.001, criterion=gini, max_depth=5, max_features=log2;, score=0.685 total time=   0.0s\n",
      "[CV 4/5] END ccp_alpha=0.001, criterion=gini, max_depth=5, max_features=log2;, score=0.630 total time=   0.0s\n",
      "[CV 5/5] END ccp_alpha=0.001, criterion=gini, max_depth=5, max_features=log2;, score=0.685 total time=   0.0s\n",
      "[CV 1/5] END ccp_alpha=0.001, criterion=gini, max_depth=6, max_features=auto;, score=0.731 total time=   0.0s\n",
      "[CV 2/5] END ccp_alpha=0.001, criterion=gini, max_depth=6, max_features=auto;, score=0.787 total time=   0.0s\n",
      "[CV 3/5] END ccp_alpha=0.001, criterion=gini, max_depth=6, max_features=auto;, score=0.741 total time=   0.0s\n",
      "[CV 4/5] END ccp_alpha=0.001, criterion=gini, max_depth=6, max_features=auto;, score=0.741 total time=   0.0s\n",
      "[CV 5/5] END ccp_alpha=0.001, criterion=gini, max_depth=6, max_features=auto;, score=0.750 total time=   0.0s\n",
      "[CV 1/5] END ccp_alpha=0.001, criterion=gini, max_depth=6, max_features=sqrt;, score=0.731 total time=   0.0s\n",
      "[CV 2/5] END ccp_alpha=0.001, criterion=gini, max_depth=6, max_features=sqrt;, score=0.648 total time=   0.0s\n",
      "[CV 3/5] END ccp_alpha=0.001, criterion=gini, max_depth=6, max_features=sqrt;, score=0.778 total time=   0.0s\n",
      "[CV 4/5] END ccp_alpha=0.001, criterion=gini, max_depth=6, max_features=sqrt;, score=0.704 total time=   0.0s\n",
      "[CV 5/5] END ccp_alpha=0.001, criterion=gini, max_depth=6, max_features=sqrt;, score=0.731 total time=   0.0s\n",
      "[CV 1/5] END ccp_alpha=0.001, criterion=gini, max_depth=6, max_features=log2;, score=0.713 total time=   0.0s\n",
      "[CV 2/5] END ccp_alpha=0.001, criterion=gini, max_depth=6, max_features=log2;, score=0.750 total time=   0.0s\n",
      "[CV 3/5] END ccp_alpha=0.001, criterion=gini, max_depth=6, max_features=log2;, score=0.787 total time=   0.0s\n",
      "[CV 4/5] END ccp_alpha=0.001, criterion=gini, max_depth=6, max_features=log2;, score=0.731 total time=   0.0s\n",
      "[CV 5/5] END ccp_alpha=0.001, criterion=gini, max_depth=6, max_features=log2;, score=0.769 total time=   0.0s\n",
      "[CV 1/5] END ccp_alpha=0.001, criterion=gini, max_depth=7, max_features=auto;, score=0.759 total time=   0.0s\n",
      "[CV 2/5] END ccp_alpha=0.001, criterion=gini, max_depth=7, max_features=auto;, score=0.833 total time=   0.0s\n",
      "[CV 3/5] END ccp_alpha=0.001, criterion=gini, max_depth=7, max_features=auto;, score=0.833 total time=   0.0s\n",
      "[CV 4/5] END ccp_alpha=0.001, criterion=gini, max_depth=7, max_features=auto;, score=0.759 total time=   0.0s\n",
      "[CV 5/5] END ccp_alpha=0.001, criterion=gini, max_depth=7, max_features=auto;, score=0.861 total time=   0.0s\n",
      "[CV 1/5] END ccp_alpha=0.001, criterion=gini, max_depth=7, max_features=sqrt;, score=0.722 total time=   0.0s\n",
      "[CV 2/5] END ccp_alpha=0.001, criterion=gini, max_depth=7, max_features=sqrt;, score=0.759 total time=   0.0s\n",
      "[CV 3/5] END ccp_alpha=0.001, criterion=gini, max_depth=7, max_features=sqrt;, score=0.787 total time=   0.0s\n",
      "[CV 4/5] END ccp_alpha=0.001, criterion=gini, max_depth=7, max_features=sqrt;, score=0.796 total time=   0.0s\n",
      "[CV 5/5] END ccp_alpha=0.001, criterion=gini, max_depth=7, max_features=sqrt;, score=0.815 total time=   0.0s\n",
      "[CV 1/5] END ccp_alpha=0.001, criterion=gini, max_depth=7, max_features=log2;, score=0.750 total time=   0.0s\n",
      "[CV 2/5] END ccp_alpha=0.001, criterion=gini, max_depth=7, max_features=log2;, score=0.778 total time=   0.0s\n",
      "[CV 3/5] END ccp_alpha=0.001, criterion=gini, max_depth=7, max_features=log2;, score=0.870 total time=   0.0s\n",
      "[CV 4/5] END ccp_alpha=0.001, criterion=gini, max_depth=7, max_features=log2;, score=0.806 total time=   0.0s\n",
      "[CV 5/5] END ccp_alpha=0.001, criterion=gini, max_depth=7, max_features=log2;, score=0.824 total time=   0.0s\n",
      "[CV 1/5] END ccp_alpha=0.001, criterion=gini, max_depth=8, max_features=auto;, score=0.704 total time=   0.0s\n",
      "[CV 2/5] END ccp_alpha=0.001, criterion=gini, max_depth=8, max_features=auto;, score=0.741 total time=   0.0s\n",
      "[CV 3/5] END ccp_alpha=0.001, criterion=gini, max_depth=8, max_features=auto;, score=0.750 total time=   0.0s\n",
      "[CV 4/5] END ccp_alpha=0.001, criterion=gini, max_depth=8, max_features=auto;, score=0.796 total time=   0.0s\n",
      "[CV 5/5] END ccp_alpha=0.001, criterion=gini, max_depth=8, max_features=auto;, score=0.815 total time=   0.0s\n",
      "[CV 1/5] END ccp_alpha=0.001, criterion=gini, max_depth=8, max_features=sqrt;, score=0.833 total time=   0.0s\n",
      "[CV 2/5] END ccp_alpha=0.001, criterion=gini, max_depth=8, max_features=sqrt;, score=0.815 total time=   0.0s\n",
      "[CV 3/5] END ccp_alpha=0.001, criterion=gini, max_depth=8, max_features=sqrt;, score=0.796 total time=   0.0s\n",
      "[CV 4/5] END ccp_alpha=0.001, criterion=gini, max_depth=8, max_features=sqrt;, score=0.796 total time=   0.0s\n",
      "[CV 5/5] END ccp_alpha=0.001, criterion=gini, max_depth=8, max_features=sqrt;, score=0.833 total time=   0.0s\n",
      "[CV 1/5] END ccp_alpha=0.001, criterion=gini, max_depth=8, max_features=log2;, score=0.806 total time=   0.0s\n",
      "[CV 2/5] END ccp_alpha=0.001, criterion=gini, max_depth=8, max_features=log2;, score=0.806 total time=   0.0s\n",
      "[CV 3/5] END ccp_alpha=0.001, criterion=gini, max_depth=8, max_features=log2;, score=0.815 total time=   0.0s\n",
      "[CV 4/5] END ccp_alpha=0.001, criterion=gini, max_depth=8, max_features=log2;, score=0.843 total time=   0.0s\n",
      "[CV 5/5] END ccp_alpha=0.001, criterion=gini, max_depth=8, max_features=log2;, score=0.852 total time=   0.0s\n",
      "[CV 1/5] END ccp_alpha=0.001, criterion=gini, max_depth=9, max_features=auto;, score=0.806 total time=   0.0s\n",
      "[CV 2/5] END ccp_alpha=0.001, criterion=gini, max_depth=9, max_features=auto;, score=0.870 total time=   0.0s\n",
      "[CV 3/5] END ccp_alpha=0.001, criterion=gini, max_depth=9, max_features=auto;, score=0.843 total time=   0.0s\n",
      "[CV 4/5] END ccp_alpha=0.001, criterion=gini, max_depth=9, max_features=auto;, score=0.815 total time=   0.0s\n",
      "[CV 5/5] END ccp_alpha=0.001, criterion=gini, max_depth=9, max_features=auto;, score=0.815 total time=   0.0s\n",
      "[CV 1/5] END ccp_alpha=0.001, criterion=gini, max_depth=9, max_features=sqrt;, score=0.722 total time=   0.0s\n",
      "[CV 2/5] END ccp_alpha=0.001, criterion=gini, max_depth=9, max_features=sqrt;, score=0.824 total time=   0.0s\n",
      "[CV 3/5] END ccp_alpha=0.001, criterion=gini, max_depth=9, max_features=sqrt;, score=0.861 total time=   0.0s\n",
      "[CV 4/5] END ccp_alpha=0.001, criterion=gini, max_depth=9, max_features=sqrt;, score=0.833 total time=   0.0s\n",
      "[CV 5/5] END ccp_alpha=0.001, criterion=gini, max_depth=9, max_features=sqrt;, score=0.787 total time=   0.0s\n",
      "[CV 1/5] END ccp_alpha=0.001, criterion=gini, max_depth=9, max_features=log2;, score=0.713 total time=   0.0s\n",
      "[CV 2/5] END ccp_alpha=0.001, criterion=gini, max_depth=9, max_features=log2;, score=0.843 total time=   0.0s\n",
      "[CV 3/5] END ccp_alpha=0.001, criterion=gini, max_depth=9, max_features=log2;, score=0.833 total time=   0.0s\n",
      "[CV 4/5] END ccp_alpha=0.001, criterion=gini, max_depth=9, max_features=log2;, score=0.889 total time=   0.0s\n",
      "[CV 5/5] END ccp_alpha=0.001, criterion=gini, max_depth=9, max_features=log2;, score=0.861 total time=   0.0s\n",
      "[CV 1/5] END ccp_alpha=0.001, criterion=entropy, max_depth=5, max_features=auto;, score=0.685 total time=   0.0s\n",
      "[CV 2/5] END ccp_alpha=0.001, criterion=entropy, max_depth=5, max_features=auto;, score=0.565 total time=   0.0s\n",
      "[CV 3/5] END ccp_alpha=0.001, criterion=entropy, max_depth=5, max_features=auto;, score=0.713 total time=   0.0s\n",
      "[CV 4/5] END ccp_alpha=0.001, criterion=entropy, max_depth=5, max_features=auto;, score=0.741 total time=   0.0s\n",
      "[CV 5/5] END ccp_alpha=0.001, criterion=entropy, max_depth=5, max_features=auto;, score=0.639 total time=   0.0s\n",
      "[CV 1/5] END ccp_alpha=0.001, criterion=entropy, max_depth=5, max_features=sqrt;, score=0.611 total time=   0.0s\n",
      "[CV 2/5] END ccp_alpha=0.001, criterion=entropy, max_depth=5, max_features=sqrt;, score=0.593 total time=   0.0s\n",
      "[CV 3/5] END ccp_alpha=0.001, criterion=entropy, max_depth=5, max_features=sqrt;, score=0.750 total time=   0.0s\n",
      "[CV 4/5] END ccp_alpha=0.001, criterion=entropy, max_depth=5, max_features=sqrt;, score=0.676 total time=   0.0s\n",
      "[CV 5/5] END ccp_alpha=0.001, criterion=entropy, max_depth=5, max_features=sqrt;, score=0.667 total time=   0.0s\n",
      "[CV 1/5] END ccp_alpha=0.001, criterion=entropy, max_depth=5, max_features=log2;, score=0.667 total time=   0.0s\n",
      "[CV 2/5] END ccp_alpha=0.001, criterion=entropy, max_depth=5, max_features=log2;, score=0.759 total time=   0.0s\n",
      "[CV 3/5] END ccp_alpha=0.001, criterion=entropy, max_depth=5, max_features=log2;, score=0.657 total time=   0.0s\n",
      "[CV 4/5] END ccp_alpha=0.001, criterion=entropy, max_depth=5, max_features=log2;, score=0.713 total time=   0.0s\n",
      "[CV 5/5] END ccp_alpha=0.001, criterion=entropy, max_depth=5, max_features=log2;, score=0.741 total time=   0.0s\n",
      "[CV 1/5] END ccp_alpha=0.001, criterion=entropy, max_depth=6, max_features=auto;, score=0.713 total time=   0.0s\n",
      "[CV 2/5] END ccp_alpha=0.001, criterion=entropy, max_depth=6, max_features=auto;, score=0.722 total time=   0.0s\n",
      "[CV 3/5] END ccp_alpha=0.001, criterion=entropy, max_depth=6, max_features=auto;, score=0.759 total time=   0.0s\n",
      "[CV 4/5] END ccp_alpha=0.001, criterion=entropy, max_depth=6, max_features=auto;, score=0.713 total time=   0.0s\n",
      "[CV 5/5] END ccp_alpha=0.001, criterion=entropy, max_depth=6, max_features=auto;, score=0.769 total time=   0.0s\n",
      "[CV 1/5] END ccp_alpha=0.001, criterion=entropy, max_depth=6, max_features=sqrt;, score=0.713 total time=   0.0s\n",
      "[CV 2/5] END ccp_alpha=0.001, criterion=entropy, max_depth=6, max_features=sqrt;, score=0.713 total time=   0.0s\n",
      "[CV 3/5] END ccp_alpha=0.001, criterion=entropy, max_depth=6, max_features=sqrt;, score=0.759 total time=   0.0s\n",
      "[CV 4/5] END ccp_alpha=0.001, criterion=entropy, max_depth=6, max_features=sqrt;, score=0.778 total time=   0.0s\n",
      "[CV 5/5] END ccp_alpha=0.001, criterion=entropy, max_depth=6, max_features=sqrt;, score=0.778 total time=   0.0s\n",
      "[CV 1/5] END ccp_alpha=0.001, criterion=entropy, max_depth=6, max_features=log2;, score=0.750 total time=   0.0s\n",
      "[CV 2/5] END ccp_alpha=0.001, criterion=entropy, max_depth=6, max_features=log2;, score=0.778 total time=   0.0s\n",
      "[CV 3/5] END ccp_alpha=0.001, criterion=entropy, max_depth=6, max_features=log2;, score=0.759 total time=   0.0s\n",
      "[CV 4/5] END ccp_alpha=0.001, criterion=entropy, max_depth=6, max_features=log2;, score=0.778 total time=   0.0s\n",
      "[CV 5/5] END ccp_alpha=0.001, criterion=entropy, max_depth=6, max_features=log2;, score=0.750 total time=   0.0s\n",
      "[CV 1/5] END ccp_alpha=0.001, criterion=entropy, max_depth=7, max_features=auto;, score=0.704 total time=   0.0s\n",
      "[CV 2/5] END ccp_alpha=0.001, criterion=entropy, max_depth=7, max_features=auto;, score=0.769 total time=   0.0s\n",
      "[CV 3/5] END ccp_alpha=0.001, criterion=entropy, max_depth=7, max_features=auto;, score=0.796 total time=   0.0s\n",
      "[CV 4/5] END ccp_alpha=0.001, criterion=entropy, max_depth=7, max_features=auto;, score=0.833 total time=   0.0s\n",
      "[CV 5/5] END ccp_alpha=0.001, criterion=entropy, max_depth=7, max_features=auto;, score=0.852 total time=   0.0s\n",
      "[CV 1/5] END ccp_alpha=0.001, criterion=entropy, max_depth=7, max_features=sqrt;, score=0.778 total time=   0.0s\n",
      "[CV 2/5] END ccp_alpha=0.001, criterion=entropy, max_depth=7, max_features=sqrt;, score=0.778 total time=   0.0s\n",
      "[CV 3/5] END ccp_alpha=0.001, criterion=entropy, max_depth=7, max_features=sqrt;, score=0.796 total time=   0.0s\n",
      "[CV 4/5] END ccp_alpha=0.001, criterion=entropy, max_depth=7, max_features=sqrt;, score=0.815 total time=   0.0s\n",
      "[CV 5/5] END ccp_alpha=0.001, criterion=entropy, max_depth=7, max_features=sqrt;, score=0.796 total time=   0.0s\n",
      "[CV 1/5] END ccp_alpha=0.001, criterion=entropy, max_depth=7, max_features=log2;, score=0.778 total time=   0.0s\n",
      "[CV 2/5] END ccp_alpha=0.001, criterion=entropy, max_depth=7, max_features=log2;, score=0.750 total time=   0.0s\n",
      "[CV 3/5] END ccp_alpha=0.001, criterion=entropy, max_depth=7, max_features=log2;, score=0.824 total time=   0.0s\n",
      "[CV 4/5] END ccp_alpha=0.001, criterion=entropy, max_depth=7, max_features=log2;, score=0.833 total time=   0.0s\n",
      "[CV 5/5] END ccp_alpha=0.001, criterion=entropy, max_depth=7, max_features=log2;, score=0.824 total time=   0.0s\n",
      "[CV 1/5] END ccp_alpha=0.001, criterion=entropy, max_depth=8, max_features=auto;, score=0.796 total time=   0.0s\n",
      "[CV 2/5] END ccp_alpha=0.001, criterion=entropy, max_depth=8, max_features=auto;, score=0.806 total time=   0.0s\n",
      "[CV 3/5] END ccp_alpha=0.001, criterion=entropy, max_depth=8, max_features=auto;, score=0.880 total time=   0.0s\n",
      "[CV 4/5] END ccp_alpha=0.001, criterion=entropy, max_depth=8, max_features=auto;, score=0.750 total time=   0.0s\n",
      "[CV 5/5] END ccp_alpha=0.001, criterion=entropy, max_depth=8, max_features=auto;, score=0.824 total time=   0.0s\n",
      "[CV 1/5] END ccp_alpha=0.001, criterion=entropy, max_depth=8, max_features=sqrt;, score=0.824 total time=   0.0s\n",
      "[CV 2/5] END ccp_alpha=0.001, criterion=entropy, max_depth=8, max_features=sqrt;, score=0.750 total time=   0.0s\n",
      "[CV 3/5] END ccp_alpha=0.001, criterion=entropy, max_depth=8, max_features=sqrt;, score=0.852 total time=   0.0s\n",
      "[CV 4/5] END ccp_alpha=0.001, criterion=entropy, max_depth=8, max_features=sqrt;, score=0.898 total time=   0.0s\n",
      "[CV 5/5] END ccp_alpha=0.001, criterion=entropy, max_depth=8, max_features=sqrt;, score=0.843 total time=   0.0s\n",
      "[CV 1/5] END ccp_alpha=0.001, criterion=entropy, max_depth=8, max_features=log2;, score=0.750 total time=   0.0s\n",
      "[CV 2/5] END ccp_alpha=0.001, criterion=entropy, max_depth=8, max_features=log2;, score=0.824 total time=   0.0s\n",
      "[CV 3/5] END ccp_alpha=0.001, criterion=entropy, max_depth=8, max_features=log2;, score=0.889 total time=   0.0s\n",
      "[CV 4/5] END ccp_alpha=0.001, criterion=entropy, max_depth=8, max_features=log2;, score=0.806 total time=   0.0s\n",
      "[CV 5/5] END ccp_alpha=0.001, criterion=entropy, max_depth=8, max_features=log2;, score=0.880 total time=   0.0s\n",
      "[CV 1/5] END ccp_alpha=0.001, criterion=entropy, max_depth=9, max_features=auto;, score=0.704 total time=   0.0s\n",
      "[CV 2/5] END ccp_alpha=0.001, criterion=entropy, max_depth=9, max_features=auto;, score=0.852 total time=   0.0s\n",
      "[CV 3/5] END ccp_alpha=0.001, criterion=entropy, max_depth=9, max_features=auto;, score=0.824 total time=   0.0s\n",
      "[CV 4/5] END ccp_alpha=0.001, criterion=entropy, max_depth=9, max_features=auto;, score=0.824 total time=   0.0s\n",
      "[CV 5/5] END ccp_alpha=0.001, criterion=entropy, max_depth=9, max_features=auto;, score=0.843 total time=   0.0s\n",
      "[CV 1/5] END ccp_alpha=0.001, criterion=entropy, max_depth=9, max_features=sqrt;, score=0.806 total time=   0.0s\n",
      "[CV 2/5] END ccp_alpha=0.001, criterion=entropy, max_depth=9, max_features=sqrt;, score=0.806 total time=   0.0s\n",
      "[CV 3/5] END ccp_alpha=0.001, criterion=entropy, max_depth=9, max_features=sqrt;, score=0.852 total time=   0.0s\n",
      "[CV 4/5] END ccp_alpha=0.001, criterion=entropy, max_depth=9, max_features=sqrt;, score=0.796 total time=   0.0s\n",
      "[CV 5/5] END ccp_alpha=0.001, criterion=entropy, max_depth=9, max_features=sqrt;, score=0.843 total time=   0.0s\n",
      "[CV 1/5] END ccp_alpha=0.001, criterion=entropy, max_depth=9, max_features=log2;, score=0.833 total time=   0.0s\n",
      "[CV 2/5] END ccp_alpha=0.001, criterion=entropy, max_depth=9, max_features=log2;, score=0.861 total time=   0.0s\n",
      "[CV 3/5] END ccp_alpha=0.001, criterion=entropy, max_depth=9, max_features=log2;, score=0.843 total time=   0.0s\n",
      "[CV 4/5] END ccp_alpha=0.001, criterion=entropy, max_depth=9, max_features=log2;, score=0.861 total time=   0.0s\n",
      "[CV 5/5] END ccp_alpha=0.001, criterion=entropy, max_depth=9, max_features=log2;, score=0.870 total time=   0.0s\n"
     ]
    },
    {
     "data": {
      "text/plain": [
       "GridSearchCV(estimator=DecisionTreeClassifier(),\n",
       "             param_grid={'ccp_alpha': [0.1, 0.01, 0.001],\n",
       "                         'criterion': ['gini', 'entropy'],\n",
       "                         'max_depth': [5, 6, 7, 8, 9],\n",
       "                         'max_features': ['auto', 'sqrt', 'log2']},\n",
       "             verbose=3)"
      ]
     },
     "execution_count": 39,
     "metadata": {},
     "output_type": "execute_result"
    }
   ],
   "source": [
    "grid.fit(X_train,Y_train) # fit the \"grid\" object to the oversampled training feature values \"X_train\" and training target values \"Y_train\" using the \"fit\" method\n",
    "# this step performs the grid search to find the best hyperparameter values for the Decision Tree Classifier model"
   ]
  },
  {
   "cell_type": "code",
   "execution_count": 40,
   "id": "e8576b5e-609f-4eca-914d-7375b8fd3121",
   "metadata": {},
   "outputs": [
    {
     "data": {
      "text/plain": [
       "{'ccp_alpha': 0.001,\n",
       " 'criterion': 'entropy',\n",
       " 'max_depth': 9,\n",
       " 'max_features': 'log2'}"
      ]
     },
     "execution_count": 40,
     "metadata": {},
     "output_type": "execute_result"
    }
   ],
   "source": [
    "grid.best_params_ # display the best hyperparameter values found by the grid search, as stored in the \"best_params_\" attribute of the \"grid\" object"
   ]
  },
  {
   "cell_type": "code",
   "execution_count": 41,
   "id": "af6f46b1-dd79-4aa2-948f-99ab2376f274",
   "metadata": {},
   "outputs": [
    {
     "data": {
      "text/plain": [
       "DecisionTreeClassifier(ccp_alpha=0.001, criterion='entropy', max_depth=9,\n",
       "                       max_features='log2')"
      ]
     },
     "execution_count": 41,
     "metadata": {},
     "output_type": "execute_result"
    }
   ],
   "source": [
    "grid.best_estimator_ # display the best estimator found by the grid search, as stored in the \"best_estimator_\" attribute of the \"grid\" object\n",
    "# the best estimator is the Decision Tree Classifier model with the hyperparameter values that performed the best on the training data, as determined by the grid search"
   ]
  },
  {
   "cell_type": "code",
   "execution_count": 42,
   "id": "8112f77d-fbef-439b-a827-4c030c303fa4",
   "metadata": {},
   "outputs": [],
   "source": [
    "dtree = DecisionTreeClassifier(ccp_alpha=0.001, criterion='entropy', max_depth=8,max_features='log2') # create an object \"dtree\" that is an instance of the DecisionTreeClassifier class\n",
    "# the hyperparameters specified in the constructor are the best values found by the grid search\n",
    "# these hyperparameters will be used to initialize the decision tree model"
   ]
  },
  {
   "cell_type": "code",
   "execution_count": 43,
   "id": "b0857253-5402-4f17-9621-3e83a9870f8e",
   "metadata": {},
   "outputs": [
    {
     "data": {
      "text/plain": [
       "DecisionTreeClassifier(ccp_alpha=0.001, criterion='entropy', max_depth=8,\n",
       "                       max_features='log2')"
      ]
     },
     "execution_count": 43,
     "metadata": {},
     "output_type": "execute_result"
    }
   ],
   "source": [
    "dtree.fit(X_train,Y_train) # fit the \"dtree\" object to the oversampled training feature values \"X_train\" and training target values \"Y_train\" using the \"fit\" method\n",
    "# this step trains the decision tree model using the specified hyperparameters and the training data"
   ]
  },
  {
   "cell_type": "code",
   "execution_count": 44,
   "id": "f15d846b-2065-4c46-8380-c8a539b2fb0a",
   "metadata": {},
   "outputs": [],
   "source": [
    "predictions = dtree.predict(x_tst) # make predictions on the testing feature values \"x_tst\" using the \"predict\" method of the \"dtree\" object\n",
    "# store the predictions in a variable called \"predictions\""
   ]
  },
  {
   "cell_type": "code",
   "execution_count": 45,
   "id": "9b4dbfdd-9b16-4a36-a19b-4c24137e291a",
   "metadata": {},
   "outputs": [],
   "source": [
    "dtree_Con_matrix =metrics.confusion_matrix(y_tst,predictions) # create a confusion matrix using the \"confusion_matrix\" function from the \"metrics\" module, using the testing target values \"y_tst\" and the model's predictions \"predictions\" as inputs\n",
    "# store the confusion matrix in a variable called \"dtree_Con_matrix\""
   ]
  },
  {
   "cell_type": "markdown",
   "id": "aa55f89f-6f9b-4de0-834e-fe4bb320dd8d",
   "metadata": {},
   "source": [
    "### b - Random Forest classifier"
   ]
  },
  {
   "cell_type": "code",
   "execution_count": 46,
   "id": "035bbb03-7907-4f99-ad72-6e310a90abae",
   "metadata": {},
   "outputs": [],
   "source": [
    "param_grid = { 'n_estimators': [1, 500],'max_features': ['auto', 'sqrt', 'log2'],'max_depth' : [4,5,6,7,8],'criterion' :['gini', 'entropy']} \n",
    "# create a dictionary \"param_grid\" that defines the hyperparameter values to be used in a grid search\n",
    "# the grid search will tune the hyperparameters of a random forest model\n",
    "# the hyperparameters being tuned are:\n",
    "# - \"n_estimators\": the number of decision trees in the forest\n",
    "# - \"max_features\": the number of features to consider when looking for the best split\n",
    "# - \"max_depth\": the maximum depth of the decision trees in the forest\n",
    "# - \"criterion\": the function used to evaluate the quality of a split\n",
    "# the values for each hyperparameter are specified as lists of possible values"
   ]
  },
  {
   "cell_type": "code",
   "execution_count": 47,
   "id": "f739b22d-822f-43df-9067-1ca1dc74244b",
   "metadata": {},
   "outputs": [],
   "source": [
    "grid = GridSearchCV(RandomForestClassifier(),param_grid,refit=True,verbose=3) # create an object \"grid\" that is an instance of the GridSearchCV class\n",
    "# the GridSearchCV class performs an exhaustive search over a specified parameter grid to find the best hyperparameter values for a given model\n",
    "# the model being used in this case is a Random Forest Classifier\n",
    "# the hyperparameter values to be searched are defined in the \"param_grid\" dictionary\n",
    "# the \"refit\" argument specifies that the best estimator should be refitted on the entire training set with the best found parameters\n",
    "# the \"verbose\" argument controls the amount of output generated by the grid search"
   ]
  },
  {
   "cell_type": "code",
   "execution_count": 48,
   "id": "747003b9-072f-41d5-a720-67f0697bd7ca",
   "metadata": {
    "scrolled": true,
    "tags": []
   },
   "outputs": [
    {
     "name": "stdout",
     "output_type": "stream",
     "text": [
      "Fitting 5 folds for each of 60 candidates, totalling 300 fits\n",
      "[CV 1/5] END criterion=gini, max_depth=4, max_features=auto, n_estimators=1;, score=0.472 total time=   0.0s\n",
      "[CV 2/5] END criterion=gini, max_depth=4, max_features=auto, n_estimators=1;, score=0.648 total time=   0.0s\n",
      "[CV 3/5] END criterion=gini, max_depth=4, max_features=auto, n_estimators=1;, score=0.639 total time=   0.0s\n",
      "[CV 4/5] END criterion=gini, max_depth=4, max_features=auto, n_estimators=1;, score=0.611 total time=   0.0s\n",
      "[CV 5/5] END criterion=gini, max_depth=4, max_features=auto, n_estimators=1;, score=0.694 total time=   0.0s\n",
      "[CV 1/5] END criterion=gini, max_depth=4, max_features=auto, n_estimators=500;, score=0.759 total time=   0.5s\n",
      "[CV 2/5] END criterion=gini, max_depth=4, max_features=auto, n_estimators=500;, score=0.769 total time=   0.4s\n",
      "[CV 3/5] END criterion=gini, max_depth=4, max_features=auto, n_estimators=500;, score=0.778 total time=   0.4s\n",
      "[CV 4/5] END criterion=gini, max_depth=4, max_features=auto, n_estimators=500;, score=0.824 total time=   0.4s\n",
      "[CV 5/5] END criterion=gini, max_depth=4, max_features=auto, n_estimators=500;, score=0.741 total time=   0.4s\n",
      "[CV 1/5] END criterion=gini, max_depth=4, max_features=sqrt, n_estimators=1;, score=0.611 total time=   0.0s\n",
      "[CV 2/5] END criterion=gini, max_depth=4, max_features=sqrt, n_estimators=1;, score=0.509 total time=   0.0s\n",
      "[CV 3/5] END criterion=gini, max_depth=4, max_features=sqrt, n_estimators=1;, score=0.620 total time=   0.0s\n",
      "[CV 4/5] END criterion=gini, max_depth=4, max_features=sqrt, n_estimators=1;, score=0.648 total time=   0.0s\n",
      "[CV 5/5] END criterion=gini, max_depth=4, max_features=sqrt, n_estimators=1;, score=0.537 total time=   0.0s\n",
      "[CV 1/5] END criterion=gini, max_depth=4, max_features=sqrt, n_estimators=500;, score=0.741 total time=   0.4s\n",
      "[CV 2/5] END criterion=gini, max_depth=4, max_features=sqrt, n_estimators=500;, score=0.787 total time=   0.4s\n",
      "[CV 3/5] END criterion=gini, max_depth=4, max_features=sqrt, n_estimators=500;, score=0.787 total time=   0.4s\n",
      "[CV 4/5] END criterion=gini, max_depth=4, max_features=sqrt, n_estimators=500;, score=0.833 total time=   0.5s\n",
      "[CV 5/5] END criterion=gini, max_depth=4, max_features=sqrt, n_estimators=500;, score=0.741 total time=   0.4s\n",
      "[CV 1/5] END criterion=gini, max_depth=4, max_features=log2, n_estimators=1;, score=0.500 total time=   0.0s\n",
      "[CV 2/5] END criterion=gini, max_depth=4, max_features=log2, n_estimators=1;, score=0.528 total time=   0.0s\n",
      "[CV 3/5] END criterion=gini, max_depth=4, max_features=log2, n_estimators=1;, score=0.537 total time=   0.0s\n",
      "[CV 4/5] END criterion=gini, max_depth=4, max_features=log2, n_estimators=1;, score=0.639 total time=   0.0s\n",
      "[CV 5/5] END criterion=gini, max_depth=4, max_features=log2, n_estimators=1;, score=0.657 total time=   0.0s\n",
      "[CV 1/5] END criterion=gini, max_depth=4, max_features=log2, n_estimators=500;, score=0.750 total time=   0.4s\n",
      "[CV 2/5] END criterion=gini, max_depth=4, max_features=log2, n_estimators=500;, score=0.787 total time=   0.4s\n",
      "[CV 3/5] END criterion=gini, max_depth=4, max_features=log2, n_estimators=500;, score=0.787 total time=   0.5s\n",
      "[CV 4/5] END criterion=gini, max_depth=4, max_features=log2, n_estimators=500;, score=0.815 total time=   0.4s\n",
      "[CV 5/5] END criterion=gini, max_depth=4, max_features=log2, n_estimators=500;, score=0.759 total time=   0.4s\n",
      "[CV 1/5] END criterion=gini, max_depth=5, max_features=auto, n_estimators=1;, score=0.648 total time=   0.0s\n",
      "[CV 2/5] END criterion=gini, max_depth=5, max_features=auto, n_estimators=1;, score=0.667 total time=   0.0s\n",
      "[CV 3/5] END criterion=gini, max_depth=5, max_features=auto, n_estimators=1;, score=0.667 total time=   0.0s\n",
      "[CV 4/5] END criterion=gini, max_depth=5, max_features=auto, n_estimators=1;, score=0.657 total time=   0.0s\n",
      "[CV 5/5] END criterion=gini, max_depth=5, max_features=auto, n_estimators=1;, score=0.630 total time=   0.0s\n",
      "[CV 1/5] END criterion=gini, max_depth=5, max_features=auto, n_estimators=500;, score=0.815 total time=   0.5s\n",
      "[CV 2/5] END criterion=gini, max_depth=5, max_features=auto, n_estimators=500;, score=0.833 total time=   0.5s\n",
      "[CV 3/5] END criterion=gini, max_depth=5, max_features=auto, n_estimators=500;, score=0.880 total time=   0.5s\n",
      "[CV 4/5] END criterion=gini, max_depth=5, max_features=auto, n_estimators=500;, score=0.870 total time=   0.5s\n",
      "[CV 5/5] END criterion=gini, max_depth=5, max_features=auto, n_estimators=500;, score=0.824 total time=   0.5s\n",
      "[CV 1/5] END criterion=gini, max_depth=5, max_features=sqrt, n_estimators=1;, score=0.685 total time=   0.0s\n",
      "[CV 2/5] END criterion=gini, max_depth=5, max_features=sqrt, n_estimators=1;, score=0.722 total time=   0.0s\n",
      "[CV 3/5] END criterion=gini, max_depth=5, max_features=sqrt, n_estimators=1;, score=0.657 total time=   0.0s\n",
      "[CV 4/5] END criterion=gini, max_depth=5, max_features=sqrt, n_estimators=1;, score=0.713 total time=   0.0s\n",
      "[CV 5/5] END criterion=gini, max_depth=5, max_features=sqrt, n_estimators=1;, score=0.630 total time=   0.0s\n",
      "[CV 1/5] END criterion=gini, max_depth=5, max_features=sqrt, n_estimators=500;, score=0.815 total time=   0.5s\n",
      "[CV 2/5] END criterion=gini, max_depth=5, max_features=sqrt, n_estimators=500;, score=0.852 total time=   0.5s\n",
      "[CV 3/5] END criterion=gini, max_depth=5, max_features=sqrt, n_estimators=500;, score=0.861 total time=   0.5s\n",
      "[CV 4/5] END criterion=gini, max_depth=5, max_features=sqrt, n_estimators=500;, score=0.870 total time=   0.5s\n",
      "[CV 5/5] END criterion=gini, max_depth=5, max_features=sqrt, n_estimators=500;, score=0.833 total time=   0.5s\n",
      "[CV 1/5] END criterion=gini, max_depth=5, max_features=log2, n_estimators=1;, score=0.676 total time=   0.0s\n",
      "[CV 2/5] END criterion=gini, max_depth=5, max_features=log2, n_estimators=1;, score=0.704 total time=   0.0s\n",
      "[CV 3/5] END criterion=gini, max_depth=5, max_features=log2, n_estimators=1;, score=0.593 total time=   0.0s\n",
      "[CV 4/5] END criterion=gini, max_depth=5, max_features=log2, n_estimators=1;, score=0.713 total time=   0.0s\n",
      "[CV 5/5] END criterion=gini, max_depth=5, max_features=log2, n_estimators=1;, score=0.639 total time=   0.0s\n",
      "[CV 1/5] END criterion=gini, max_depth=5, max_features=log2, n_estimators=500;, score=0.806 total time=   0.5s\n",
      "[CV 2/5] END criterion=gini, max_depth=5, max_features=log2, n_estimators=500;, score=0.833 total time=   0.5s\n",
      "[CV 3/5] END criterion=gini, max_depth=5, max_features=log2, n_estimators=500;, score=0.889 total time=   0.5s\n",
      "[CV 4/5] END criterion=gini, max_depth=5, max_features=log2, n_estimators=500;, score=0.870 total time=   0.5s\n",
      "[CV 5/5] END criterion=gini, max_depth=5, max_features=log2, n_estimators=500;, score=0.824 total time=   0.5s\n",
      "[CV 1/5] END criterion=gini, max_depth=6, max_features=auto, n_estimators=1;, score=0.667 total time=   0.0s\n",
      "[CV 2/5] END criterion=gini, max_depth=6, max_features=auto, n_estimators=1;, score=0.769 total time=   0.0s\n",
      "[CV 3/5] END criterion=gini, max_depth=6, max_features=auto, n_estimators=1;, score=0.731 total time=   0.0s\n",
      "[CV 4/5] END criterion=gini, max_depth=6, max_features=auto, n_estimators=1;, score=0.667 total time=   0.0s\n",
      "[CV 5/5] END criterion=gini, max_depth=6, max_features=auto, n_estimators=1;, score=0.611 total time=   0.0s\n",
      "[CV 1/5] END criterion=gini, max_depth=6, max_features=auto, n_estimators=500;, score=0.861 total time=   0.5s\n",
      "[CV 2/5] END criterion=gini, max_depth=6, max_features=auto, n_estimators=500;, score=0.889 total time=   0.5s\n",
      "[CV 3/5] END criterion=gini, max_depth=6, max_features=auto, n_estimators=500;, score=0.917 total time=   0.5s\n",
      "[CV 4/5] END criterion=gini, max_depth=6, max_features=auto, n_estimators=500;, score=0.898 total time=   0.5s\n",
      "[CV 5/5] END criterion=gini, max_depth=6, max_features=auto, n_estimators=500;, score=0.870 total time=   0.5s\n",
      "[CV 1/5] END criterion=gini, max_depth=6, max_features=sqrt, n_estimators=1;, score=0.583 total time=   0.0s\n",
      "[CV 2/5] END criterion=gini, max_depth=6, max_features=sqrt, n_estimators=1;, score=0.639 total time=   0.0s\n",
      "[CV 3/5] END criterion=gini, max_depth=6, max_features=sqrt, n_estimators=1;, score=0.685 total time=   0.0s\n",
      "[CV 4/5] END criterion=gini, max_depth=6, max_features=sqrt, n_estimators=1;, score=0.750 total time=   0.0s\n",
      "[CV 5/5] END criterion=gini, max_depth=6, max_features=sqrt, n_estimators=1;, score=0.676 total time=   0.0s\n",
      "[CV 1/5] END criterion=gini, max_depth=6, max_features=sqrt, n_estimators=500;, score=0.861 total time=   0.5s\n",
      "[CV 2/5] END criterion=gini, max_depth=6, max_features=sqrt, n_estimators=500;, score=0.870 total time=   0.5s\n",
      "[CV 3/5] END criterion=gini, max_depth=6, max_features=sqrt, n_estimators=500;, score=0.917 total time=   0.5s\n",
      "[CV 4/5] END criterion=gini, max_depth=6, max_features=sqrt, n_estimators=500;, score=0.898 total time=   0.5s\n",
      "[CV 5/5] END criterion=gini, max_depth=6, max_features=sqrt, n_estimators=500;, score=0.861 total time=   0.5s\n",
      "[CV 1/5] END criterion=gini, max_depth=6, max_features=log2, n_estimators=1;, score=0.694 total time=   0.0s\n",
      "[CV 2/5] END criterion=gini, max_depth=6, max_features=log2, n_estimators=1;, score=0.759 total time=   0.0s\n",
      "[CV 3/5] END criterion=gini, max_depth=6, max_features=log2, n_estimators=1;, score=0.741 total time=   0.0s\n",
      "[CV 4/5] END criterion=gini, max_depth=6, max_features=log2, n_estimators=1;, score=0.667 total time=   0.0s\n",
      "[CV 5/5] END criterion=gini, max_depth=6, max_features=log2, n_estimators=1;, score=0.593 total time=   0.0s\n",
      "[CV 1/5] END criterion=gini, max_depth=6, max_features=log2, n_estimators=500;, score=0.870 total time=   0.5s\n",
      "[CV 2/5] END criterion=gini, max_depth=6, max_features=log2, n_estimators=500;, score=0.870 total time=   0.5s\n",
      "[CV 3/5] END criterion=gini, max_depth=6, max_features=log2, n_estimators=500;, score=0.907 total time=   0.5s\n",
      "[CV 4/5] END criterion=gini, max_depth=6, max_features=log2, n_estimators=500;, score=0.880 total time=   0.5s\n",
      "[CV 5/5] END criterion=gini, max_depth=6, max_features=log2, n_estimators=500;, score=0.870 total time=   0.5s\n",
      "[CV 1/5] END criterion=gini, max_depth=7, max_features=auto, n_estimators=1;, score=0.713 total time=   0.0s\n",
      "[CV 2/5] END criterion=gini, max_depth=7, max_features=auto, n_estimators=1;, score=0.639 total time=   0.0s\n",
      "[CV 3/5] END criterion=gini, max_depth=7, max_features=auto, n_estimators=1;, score=0.815 total time=   0.0s\n",
      "[CV 4/5] END criterion=gini, max_depth=7, max_features=auto, n_estimators=1;, score=0.741 total time=   0.0s\n",
      "[CV 5/5] END criterion=gini, max_depth=7, max_features=auto, n_estimators=1;, score=0.778 total time=   0.0s\n",
      "[CV 1/5] END criterion=gini, max_depth=7, max_features=auto, n_estimators=500;, score=0.870 total time=   0.5s\n",
      "[CV 2/5] END criterion=gini, max_depth=7, max_features=auto, n_estimators=500;, score=0.898 total time=   0.5s\n",
      "[CV 3/5] END criterion=gini, max_depth=7, max_features=auto, n_estimators=500;, score=0.926 total time=   0.5s\n",
      "[CV 4/5] END criterion=gini, max_depth=7, max_features=auto, n_estimators=500;, score=0.926 total time=   0.5s\n",
      "[CV 5/5] END criterion=gini, max_depth=7, max_features=auto, n_estimators=500;, score=0.898 total time=   0.5s\n",
      "[CV 1/5] END criterion=gini, max_depth=7, max_features=sqrt, n_estimators=1;, score=0.648 total time=   0.0s\n",
      "[CV 2/5] END criterion=gini, max_depth=7, max_features=sqrt, n_estimators=1;, score=0.731 total time=   0.0s\n",
      "[CV 3/5] END criterion=gini, max_depth=7, max_features=sqrt, n_estimators=1;, score=0.704 total time=   0.0s\n",
      "[CV 4/5] END criterion=gini, max_depth=7, max_features=sqrt, n_estimators=1;, score=0.731 total time=   0.0s\n",
      "[CV 5/5] END criterion=gini, max_depth=7, max_features=sqrt, n_estimators=1;, score=0.759 total time=   0.0s\n",
      "[CV 1/5] END criterion=gini, max_depth=7, max_features=sqrt, n_estimators=500;, score=0.880 total time=   0.5s\n",
      "[CV 2/5] END criterion=gini, max_depth=7, max_features=sqrt, n_estimators=500;, score=0.917 total time=   0.5s\n",
      "[CV 3/5] END criterion=gini, max_depth=7, max_features=sqrt, n_estimators=500;, score=0.926 total time=   0.5s\n",
      "[CV 4/5] END criterion=gini, max_depth=7, max_features=sqrt, n_estimators=500;, score=0.926 total time=   0.5s\n",
      "[CV 5/5] END criterion=gini, max_depth=7, max_features=sqrt, n_estimators=500;, score=0.898 total time=   0.5s\n",
      "[CV 1/5] END criterion=gini, max_depth=7, max_features=log2, n_estimators=1;, score=0.713 total time=   0.0s\n",
      "[CV 2/5] END criterion=gini, max_depth=7, max_features=log2, n_estimators=1;, score=0.676 total time=   0.0s\n",
      "[CV 3/5] END criterion=gini, max_depth=7, max_features=log2, n_estimators=1;, score=0.704 total time=   0.0s\n",
      "[CV 4/5] END criterion=gini, max_depth=7, max_features=log2, n_estimators=1;, score=0.750 total time=   0.0s\n",
      "[CV 5/5] END criterion=gini, max_depth=7, max_features=log2, n_estimators=1;, score=0.704 total time=   0.0s\n",
      "[CV 1/5] END criterion=gini, max_depth=7, max_features=log2, n_estimators=500;, score=0.870 total time=   0.5s\n",
      "[CV 2/5] END criterion=gini, max_depth=7, max_features=log2, n_estimators=500;, score=0.917 total time=   0.5s\n",
      "[CV 3/5] END criterion=gini, max_depth=7, max_features=log2, n_estimators=500;, score=0.926 total time=   0.5s\n",
      "[CV 4/5] END criterion=gini, max_depth=7, max_features=log2, n_estimators=500;, score=0.926 total time=   0.5s\n",
      "[CV 5/5] END criterion=gini, max_depth=7, max_features=log2, n_estimators=500;, score=0.880 total time=   0.5s\n",
      "[CV 1/5] END criterion=gini, max_depth=8, max_features=auto, n_estimators=1;, score=0.685 total time=   0.0s\n",
      "[CV 2/5] END criterion=gini, max_depth=8, max_features=auto, n_estimators=1;, score=0.676 total time=   0.0s\n",
      "[CV 3/5] END criterion=gini, max_depth=8, max_features=auto, n_estimators=1;, score=0.704 total time=   0.0s\n",
      "[CV 4/5] END criterion=gini, max_depth=8, max_features=auto, n_estimators=1;, score=0.722 total time=   0.0s\n",
      "[CV 5/5] END criterion=gini, max_depth=8, max_features=auto, n_estimators=1;, score=0.787 total time=   0.0s\n",
      "[CV 1/5] END criterion=gini, max_depth=8, max_features=auto, n_estimators=500;, score=0.880 total time=   0.5s\n",
      "[CV 2/5] END criterion=gini, max_depth=8, max_features=auto, n_estimators=500;, score=0.917 total time=   0.5s\n",
      "[CV 3/5] END criterion=gini, max_depth=8, max_features=auto, n_estimators=500;, score=0.926 total time=   0.5s\n",
      "[CV 4/5] END criterion=gini, max_depth=8, max_features=auto, n_estimators=500;, score=0.935 total time=   0.5s\n",
      "[CV 5/5] END criterion=gini, max_depth=8, max_features=auto, n_estimators=500;, score=0.889 total time=   0.5s\n",
      "[CV 1/5] END criterion=gini, max_depth=8, max_features=sqrt, n_estimators=1;, score=0.657 total time=   0.0s\n",
      "[CV 2/5] END criterion=gini, max_depth=8, max_features=sqrt, n_estimators=1;, score=0.722 total time=   0.0s\n",
      "[CV 3/5] END criterion=gini, max_depth=8, max_features=sqrt, n_estimators=1;, score=0.806 total time=   0.0s\n",
      "[CV 4/5] END criterion=gini, max_depth=8, max_features=sqrt, n_estimators=1;, score=0.759 total time=   0.0s\n",
      "[CV 5/5] END criterion=gini, max_depth=8, max_features=sqrt, n_estimators=1;, score=0.778 total time=   0.0s\n",
      "[CV 1/5] END criterion=gini, max_depth=8, max_features=sqrt, n_estimators=500;, score=0.889 total time=   0.5s\n",
      "[CV 2/5] END criterion=gini, max_depth=8, max_features=sqrt, n_estimators=500;, score=0.917 total time=   0.5s\n",
      "[CV 3/5] END criterion=gini, max_depth=8, max_features=sqrt, n_estimators=500;, score=0.926 total time=   0.5s\n",
      "[CV 4/5] END criterion=gini, max_depth=8, max_features=sqrt, n_estimators=500;, score=0.935 total time=   0.5s\n",
      "[CV 5/5] END criterion=gini, max_depth=8, max_features=sqrt, n_estimators=500;, score=0.917 total time=   0.5s\n",
      "[CV 1/5] END criterion=gini, max_depth=8, max_features=log2, n_estimators=1;, score=0.611 total time=   0.0s\n",
      "[CV 2/5] END criterion=gini, max_depth=8, max_features=log2, n_estimators=1;, score=0.843 total time=   0.0s\n",
      "[CV 3/5] END criterion=gini, max_depth=8, max_features=log2, n_estimators=1;, score=0.796 total time=   0.0s\n",
      "[CV 4/5] END criterion=gini, max_depth=8, max_features=log2, n_estimators=1;, score=0.787 total time=   0.0s\n",
      "[CV 5/5] END criterion=gini, max_depth=8, max_features=log2, n_estimators=1;, score=0.750 total time=   0.0s\n",
      "[CV 1/5] END criterion=gini, max_depth=8, max_features=log2, n_estimators=500;, score=0.880 total time=   0.5s\n",
      "[CV 2/5] END criterion=gini, max_depth=8, max_features=log2, n_estimators=500;, score=0.926 total time=   0.5s\n",
      "[CV 3/5] END criterion=gini, max_depth=8, max_features=log2, n_estimators=500;, score=0.926 total time=   0.5s\n",
      "[CV 4/5] END criterion=gini, max_depth=8, max_features=log2, n_estimators=500;, score=0.944 total time=   0.5s\n",
      "[CV 5/5] END criterion=gini, max_depth=8, max_features=log2, n_estimators=500;, score=0.889 total time=   0.5s\n",
      "[CV 1/5] END criterion=entropy, max_depth=4, max_features=auto, n_estimators=1;, score=0.537 total time=   0.0s\n",
      "[CV 2/5] END criterion=entropy, max_depth=4, max_features=auto, n_estimators=1;, score=0.704 total time=   0.0s\n",
      "[CV 3/5] END criterion=entropy, max_depth=4, max_features=auto, n_estimators=1;, score=0.620 total time=   0.0s\n",
      "[CV 4/5] END criterion=entropy, max_depth=4, max_features=auto, n_estimators=1;, score=0.685 total time=   0.0s\n",
      "[CV 5/5] END criterion=entropy, max_depth=4, max_features=auto, n_estimators=1;, score=0.602 total time=   0.0s\n",
      "[CV 1/5] END criterion=entropy, max_depth=4, max_features=auto, n_estimators=500;, score=0.750 total time=   0.5s\n",
      "[CV 2/5] END criterion=entropy, max_depth=4, max_features=auto, n_estimators=500;, score=0.787 total time=   0.5s\n",
      "[CV 3/5] END criterion=entropy, max_depth=4, max_features=auto, n_estimators=500;, score=0.843 total time=   0.5s\n",
      "[CV 4/5] END criterion=entropy, max_depth=4, max_features=auto, n_estimators=500;, score=0.815 total time=   0.5s\n",
      "[CV 5/5] END criterion=entropy, max_depth=4, max_features=auto, n_estimators=500;, score=0.769 total time=   0.5s\n",
      "[CV 1/5] END criterion=entropy, max_depth=4, max_features=sqrt, n_estimators=1;, score=0.556 total time=   0.0s\n",
      "[CV 2/5] END criterion=entropy, max_depth=4, max_features=sqrt, n_estimators=1;, score=0.602 total time=   0.0s\n",
      "[CV 3/5] END criterion=entropy, max_depth=4, max_features=sqrt, n_estimators=1;, score=0.611 total time=   0.0s\n",
      "[CV 4/5] END criterion=entropy, max_depth=4, max_features=sqrt, n_estimators=1;, score=0.667 total time=   0.0s\n",
      "[CV 5/5] END criterion=entropy, max_depth=4, max_features=sqrt, n_estimators=1;, score=0.620 total time=   0.0s\n",
      "[CV 1/5] END criterion=entropy, max_depth=4, max_features=sqrt, n_estimators=500;, score=0.769 total time=   0.5s\n",
      "[CV 2/5] END criterion=entropy, max_depth=4, max_features=sqrt, n_estimators=500;, score=0.769 total time=   0.5s\n",
      "[CV 3/5] END criterion=entropy, max_depth=4, max_features=sqrt, n_estimators=500;, score=0.833 total time=   0.5s\n",
      "[CV 4/5] END criterion=entropy, max_depth=4, max_features=sqrt, n_estimators=500;, score=0.806 total time=   0.5s\n",
      "[CV 5/5] END criterion=entropy, max_depth=4, max_features=sqrt, n_estimators=500;, score=0.759 total time=   0.5s\n",
      "[CV 1/5] END criterion=entropy, max_depth=4, max_features=log2, n_estimators=1;, score=0.537 total time=   0.0s\n",
      "[CV 2/5] END criterion=entropy, max_depth=4, max_features=log2, n_estimators=1;, score=0.685 total time=   0.0s\n",
      "[CV 3/5] END criterion=entropy, max_depth=4, max_features=log2, n_estimators=1;, score=0.630 total time=   0.0s\n",
      "[CV 4/5] END criterion=entropy, max_depth=4, max_features=log2, n_estimators=1;, score=0.602 total time=   0.0s\n",
      "[CV 5/5] END criterion=entropy, max_depth=4, max_features=log2, n_estimators=1;, score=0.602 total time=   0.0s\n",
      "[CV 1/5] END criterion=entropy, max_depth=4, max_features=log2, n_estimators=500;, score=0.750 total time=   0.5s\n",
      "[CV 2/5] END criterion=entropy, max_depth=4, max_features=log2, n_estimators=500;, score=0.778 total time=   0.5s\n",
      "[CV 3/5] END criterion=entropy, max_depth=4, max_features=log2, n_estimators=500;, score=0.833 total time=   0.5s\n",
      "[CV 4/5] END criterion=entropy, max_depth=4, max_features=log2, n_estimators=500;, score=0.815 total time=   0.5s\n",
      "[CV 5/5] END criterion=entropy, max_depth=4, max_features=log2, n_estimators=500;, score=0.759 total time=   0.5s\n",
      "[CV 1/5] END criterion=entropy, max_depth=5, max_features=auto, n_estimators=1;, score=0.565 total time=   0.0s\n",
      "[CV 2/5] END criterion=entropy, max_depth=5, max_features=auto, n_estimators=1;, score=0.676 total time=   0.0s\n",
      "[CV 3/5] END criterion=entropy, max_depth=5, max_features=auto, n_estimators=1;, score=0.648 total time=   0.0s\n",
      "[CV 4/5] END criterion=entropy, max_depth=5, max_features=auto, n_estimators=1;, score=0.713 total time=   0.0s\n",
      "[CV 5/5] END criterion=entropy, max_depth=5, max_features=auto, n_estimators=1;, score=0.741 total time=   0.0s\n",
      "[CV 1/5] END criterion=entropy, max_depth=5, max_features=auto, n_estimators=500;, score=0.833 total time=   0.5s\n",
      "[CV 2/5] END criterion=entropy, max_depth=5, max_features=auto, n_estimators=500;, score=0.870 total time=   0.5s\n",
      "[CV 3/5] END criterion=entropy, max_depth=5, max_features=auto, n_estimators=500;, score=0.889 total time=   0.5s\n",
      "[CV 4/5] END criterion=entropy, max_depth=5, max_features=auto, n_estimators=500;, score=0.889 total time=   0.5s\n",
      "[CV 5/5] END criterion=entropy, max_depth=5, max_features=auto, n_estimators=500;, score=0.843 total time=   0.5s\n",
      "[CV 1/5] END criterion=entropy, max_depth=5, max_features=sqrt, n_estimators=1;, score=0.685 total time=   0.0s\n",
      "[CV 2/5] END criterion=entropy, max_depth=5, max_features=sqrt, n_estimators=1;, score=0.611 total time=   0.0s\n",
      "[CV 3/5] END criterion=entropy, max_depth=5, max_features=sqrt, n_estimators=1;, score=0.731 total time=   0.0s\n",
      "[CV 4/5] END criterion=entropy, max_depth=5, max_features=sqrt, n_estimators=1;, score=0.769 total time=   0.0s\n",
      "[CV 5/5] END criterion=entropy, max_depth=5, max_features=sqrt, n_estimators=1;, score=0.630 total time=   0.0s\n",
      "[CV 1/5] END criterion=entropy, max_depth=5, max_features=sqrt, n_estimators=500;, score=0.833 total time=   0.5s\n",
      "[CV 2/5] END criterion=entropy, max_depth=5, max_features=sqrt, n_estimators=500;, score=0.861 total time=   0.5s\n",
      "[CV 3/5] END criterion=entropy, max_depth=5, max_features=sqrt, n_estimators=500;, score=0.880 total time=   0.5s\n",
      "[CV 4/5] END criterion=entropy, max_depth=5, max_features=sqrt, n_estimators=500;, score=0.889 total time=   0.5s\n",
      "[CV 5/5] END criterion=entropy, max_depth=5, max_features=sqrt, n_estimators=500;, score=0.843 total time=   0.5s\n",
      "[CV 1/5] END criterion=entropy, max_depth=5, max_features=log2, n_estimators=1;, score=0.704 total time=   0.0s\n",
      "[CV 2/5] END criterion=entropy, max_depth=5, max_features=log2, n_estimators=1;, score=0.676 total time=   0.0s\n",
      "[CV 3/5] END criterion=entropy, max_depth=5, max_features=log2, n_estimators=1;, score=0.731 total time=   0.0s\n",
      "[CV 4/5] END criterion=entropy, max_depth=5, max_features=log2, n_estimators=1;, score=0.583 total time=   0.0s\n",
      "[CV 5/5] END criterion=entropy, max_depth=5, max_features=log2, n_estimators=1;, score=0.704 total time=   0.0s\n",
      "[CV 1/5] END criterion=entropy, max_depth=5, max_features=log2, n_estimators=500;, score=0.843 total time=   0.5s\n",
      "[CV 2/5] END criterion=entropy, max_depth=5, max_features=log2, n_estimators=500;, score=0.852 total time=   0.5s\n",
      "[CV 3/5] END criterion=entropy, max_depth=5, max_features=log2, n_estimators=500;, score=0.880 total time=   0.5s\n",
      "[CV 4/5] END criterion=entropy, max_depth=5, max_features=log2, n_estimators=500;, score=0.889 total time=   0.5s\n",
      "[CV 5/5] END criterion=entropy, max_depth=5, max_features=log2, n_estimators=500;, score=0.843 total time=   0.5s\n",
      "[CV 1/5] END criterion=entropy, max_depth=6, max_features=auto, n_estimators=1;, score=0.741 total time=   0.0s\n",
      "[CV 2/5] END criterion=entropy, max_depth=6, max_features=auto, n_estimators=1;, score=0.713 total time=   0.0s\n",
      "[CV 3/5] END criterion=entropy, max_depth=6, max_features=auto, n_estimators=1;, score=0.722 total time=   0.0s\n",
      "[CV 4/5] END criterion=entropy, max_depth=6, max_features=auto, n_estimators=1;, score=0.731 total time=   0.0s\n",
      "[CV 5/5] END criterion=entropy, max_depth=6, max_features=auto, n_estimators=1;, score=0.676 total time=   0.0s\n",
      "[CV 1/5] END criterion=entropy, max_depth=6, max_features=auto, n_estimators=500;, score=0.870 total time=   0.5s\n",
      "[CV 2/5] END criterion=entropy, max_depth=6, max_features=auto, n_estimators=500;, score=0.917 total time=   0.5s\n",
      "[CV 3/5] END criterion=entropy, max_depth=6, max_features=auto, n_estimators=500;, score=0.926 total time=   0.5s\n",
      "[CV 4/5] END criterion=entropy, max_depth=6, max_features=auto, n_estimators=500;, score=0.907 total time=   0.5s\n",
      "[CV 5/5] END criterion=entropy, max_depth=6, max_features=auto, n_estimators=500;, score=0.898 total time=   0.5s\n",
      "[CV 1/5] END criterion=entropy, max_depth=6, max_features=sqrt, n_estimators=1;, score=0.713 total time=   0.0s\n",
      "[CV 2/5] END criterion=entropy, max_depth=6, max_features=sqrt, n_estimators=1;, score=0.778 total time=   0.0s\n",
      "[CV 3/5] END criterion=entropy, max_depth=6, max_features=sqrt, n_estimators=1;, score=0.796 total time=   0.0s\n",
      "[CV 4/5] END criterion=entropy, max_depth=6, max_features=sqrt, n_estimators=1;, score=0.694 total time=   0.0s\n",
      "[CV 5/5] END criterion=entropy, max_depth=6, max_features=sqrt, n_estimators=1;, score=0.722 total time=   0.0s\n",
      "[CV 1/5] END criterion=entropy, max_depth=6, max_features=sqrt, n_estimators=500;, score=0.861 total time=   0.5s\n",
      "[CV 2/5] END criterion=entropy, max_depth=6, max_features=sqrt, n_estimators=500;, score=0.898 total time=   0.5s\n",
      "[CV 3/5] END criterion=entropy, max_depth=6, max_features=sqrt, n_estimators=500;, score=0.926 total time=   0.5s\n",
      "[CV 4/5] END criterion=entropy, max_depth=6, max_features=sqrt, n_estimators=500;, score=0.898 total time=   0.5s\n",
      "[CV 5/5] END criterion=entropy, max_depth=6, max_features=sqrt, n_estimators=500;, score=0.898 total time=   0.5s\n",
      "[CV 1/5] END criterion=entropy, max_depth=6, max_features=log2, n_estimators=1;, score=0.778 total time=   0.0s\n",
      "[CV 2/5] END criterion=entropy, max_depth=6, max_features=log2, n_estimators=1;, score=0.769 total time=   0.0s\n",
      "[CV 3/5] END criterion=entropy, max_depth=6, max_features=log2, n_estimators=1;, score=0.648 total time=   0.0s\n",
      "[CV 4/5] END criterion=entropy, max_depth=6, max_features=log2, n_estimators=1;, score=0.676 total time=   0.0s\n",
      "[CV 5/5] END criterion=entropy, max_depth=6, max_features=log2, n_estimators=1;, score=0.676 total time=   0.0s\n",
      "[CV 1/5] END criterion=entropy, max_depth=6, max_features=log2, n_estimators=500;, score=0.870 total time=   0.5s\n",
      "[CV 2/5] END criterion=entropy, max_depth=6, max_features=log2, n_estimators=500;, score=0.917 total time=   0.5s\n",
      "[CV 3/5] END criterion=entropy, max_depth=6, max_features=log2, n_estimators=500;, score=0.926 total time=   0.5s\n",
      "[CV 4/5] END criterion=entropy, max_depth=6, max_features=log2, n_estimators=500;, score=0.898 total time=   0.5s\n",
      "[CV 5/5] END criterion=entropy, max_depth=6, max_features=log2, n_estimators=500;, score=0.889 total time=   0.5s\n",
      "[CV 1/5] END criterion=entropy, max_depth=7, max_features=auto, n_estimators=1;, score=0.694 total time=   0.0s\n",
      "[CV 2/5] END criterion=entropy, max_depth=7, max_features=auto, n_estimators=1;, score=0.722 total time=   0.0s\n",
      "[CV 3/5] END criterion=entropy, max_depth=7, max_features=auto, n_estimators=1;, score=0.787 total time=   0.0s\n",
      "[CV 4/5] END criterion=entropy, max_depth=7, max_features=auto, n_estimators=1;, score=0.815 total time=   0.0s\n",
      "[CV 5/5] END criterion=entropy, max_depth=7, max_features=auto, n_estimators=1;, score=0.759 total time=   0.0s\n",
      "[CV 1/5] END criterion=entropy, max_depth=7, max_features=auto, n_estimators=500;, score=0.880 total time=   0.5s\n",
      "[CV 2/5] END criterion=entropy, max_depth=7, max_features=auto, n_estimators=500;, score=0.917 total time=   0.5s\n",
      "[CV 3/5] END criterion=entropy, max_depth=7, max_features=auto, n_estimators=500;, score=0.935 total time=   0.6s\n",
      "[CV 4/5] END criterion=entropy, max_depth=7, max_features=auto, n_estimators=500;, score=0.935 total time=   0.6s\n",
      "[CV 5/5] END criterion=entropy, max_depth=7, max_features=auto, n_estimators=500;, score=0.907 total time=   0.5s\n",
      "[CV 1/5] END criterion=entropy, max_depth=7, max_features=sqrt, n_estimators=1;, score=0.713 total time=   0.0s\n",
      "[CV 2/5] END criterion=entropy, max_depth=7, max_features=sqrt, n_estimators=1;, score=0.759 total time=   0.0s\n",
      "[CV 3/5] END criterion=entropy, max_depth=7, max_features=sqrt, n_estimators=1;, score=0.833 total time=   0.0s\n",
      "[CV 4/5] END criterion=entropy, max_depth=7, max_features=sqrt, n_estimators=1;, score=0.787 total time=   0.0s\n",
      "[CV 5/5] END criterion=entropy, max_depth=7, max_features=sqrt, n_estimators=1;, score=0.731 total time=   0.0s\n",
      "[CV 1/5] END criterion=entropy, max_depth=7, max_features=sqrt, n_estimators=500;, score=0.880 total time=   0.5s\n",
      "[CV 2/5] END criterion=entropy, max_depth=7, max_features=sqrt, n_estimators=500;, score=0.917 total time=   0.5s\n",
      "[CV 3/5] END criterion=entropy, max_depth=7, max_features=sqrt, n_estimators=500;, score=0.935 total time=   0.5s\n",
      "[CV 4/5] END criterion=entropy, max_depth=7, max_features=sqrt, n_estimators=500;, score=0.944 total time=   0.5s\n",
      "[CV 5/5] END criterion=entropy, max_depth=7, max_features=sqrt, n_estimators=500;, score=0.907 total time=   0.5s\n",
      "[CV 1/5] END criterion=entropy, max_depth=7, max_features=log2, n_estimators=1;, score=0.722 total time=   0.0s\n",
      "[CV 2/5] END criterion=entropy, max_depth=7, max_features=log2, n_estimators=1;, score=0.750 total time=   0.0s\n",
      "[CV 3/5] END criterion=entropy, max_depth=7, max_features=log2, n_estimators=1;, score=0.759 total time=   0.0s\n",
      "[CV 4/5] END criterion=entropy, max_depth=7, max_features=log2, n_estimators=1;, score=0.796 total time=   0.0s\n",
      "[CV 5/5] END criterion=entropy, max_depth=7, max_features=log2, n_estimators=1;, score=0.778 total time=   0.0s\n",
      "[CV 1/5] END criterion=entropy, max_depth=7, max_features=log2, n_estimators=500;, score=0.861 total time=   0.6s\n",
      "[CV 2/5] END criterion=entropy, max_depth=7, max_features=log2, n_estimators=500;, score=0.926 total time=   0.5s\n",
      "[CV 3/5] END criterion=entropy, max_depth=7, max_features=log2, n_estimators=500;, score=0.935 total time=   0.6s\n",
      "[CV 4/5] END criterion=entropy, max_depth=7, max_features=log2, n_estimators=500;, score=0.935 total time=   0.5s\n",
      "[CV 5/5] END criterion=entropy, max_depth=7, max_features=log2, n_estimators=500;, score=0.907 total time=   0.5s\n",
      "[CV 1/5] END criterion=entropy, max_depth=8, max_features=auto, n_estimators=1;, score=0.741 total time=   0.0s\n",
      "[CV 2/5] END criterion=entropy, max_depth=8, max_features=auto, n_estimators=1;, score=0.778 total time=   0.0s\n",
      "[CV 3/5] END criterion=entropy, max_depth=8, max_features=auto, n_estimators=1;, score=0.824 total time=   0.0s\n",
      "[CV 4/5] END criterion=entropy, max_depth=8, max_features=auto, n_estimators=1;, score=0.713 total time=   0.0s\n",
      "[CV 5/5] END criterion=entropy, max_depth=8, max_features=auto, n_estimators=1;, score=0.824 total time=   0.0s\n",
      "[CV 1/5] END criterion=entropy, max_depth=8, max_features=auto, n_estimators=500;, score=0.889 total time=   0.6s\n",
      "[CV 2/5] END criterion=entropy, max_depth=8, max_features=auto, n_estimators=500;, score=0.935 total time=   0.6s\n",
      "[CV 3/5] END criterion=entropy, max_depth=8, max_features=auto, n_estimators=500;, score=0.926 total time=   0.6s\n",
      "[CV 4/5] END criterion=entropy, max_depth=8, max_features=auto, n_estimators=500;, score=0.926 total time=   0.6s\n",
      "[CV 5/5] END criterion=entropy, max_depth=8, max_features=auto, n_estimators=500;, score=0.907 total time=   0.6s\n",
      "[CV 1/5] END criterion=entropy, max_depth=8, max_features=sqrt, n_estimators=1;, score=0.731 total time=   0.0s\n",
      "[CV 2/5] END criterion=entropy, max_depth=8, max_features=sqrt, n_estimators=1;, score=0.824 total time=   0.0s\n",
      "[CV 3/5] END criterion=entropy, max_depth=8, max_features=sqrt, n_estimators=1;, score=0.787 total time=   0.0s\n",
      "[CV 4/5] END criterion=entropy, max_depth=8, max_features=sqrt, n_estimators=1;, score=0.806 total time=   0.0s\n",
      "[CV 5/5] END criterion=entropy, max_depth=8, max_features=sqrt, n_estimators=1;, score=0.759 total time=   0.0s\n",
      "[CV 1/5] END criterion=entropy, max_depth=8, max_features=sqrt, n_estimators=500;, score=0.880 total time=   0.6s\n",
      "[CV 2/5] END criterion=entropy, max_depth=8, max_features=sqrt, n_estimators=500;, score=0.935 total time=   0.6s\n",
      "[CV 3/5] END criterion=entropy, max_depth=8, max_features=sqrt, n_estimators=500;, score=0.935 total time=   0.6s\n",
      "[CV 4/5] END criterion=entropy, max_depth=8, max_features=sqrt, n_estimators=500;, score=0.935 total time=   0.6s\n",
      "[CV 5/5] END criterion=entropy, max_depth=8, max_features=sqrt, n_estimators=500;, score=0.917 total time=   0.6s\n",
      "[CV 1/5] END criterion=entropy, max_depth=8, max_features=log2, n_estimators=1;, score=0.731 total time=   0.0s\n",
      "[CV 2/5] END criterion=entropy, max_depth=8, max_features=log2, n_estimators=1;, score=0.769 total time=   0.0s\n",
      "[CV 3/5] END criterion=entropy, max_depth=8, max_features=log2, n_estimators=1;, score=0.787 total time=   0.0s\n",
      "[CV 4/5] END criterion=entropy, max_depth=8, max_features=log2, n_estimators=1;, score=0.870 total time=   0.0s\n",
      "[CV 5/5] END criterion=entropy, max_depth=8, max_features=log2, n_estimators=1;, score=0.778 total time=   0.0s\n",
      "[CV 1/5] END criterion=entropy, max_depth=8, max_features=log2, n_estimators=500;, score=0.880 total time=   0.6s\n",
      "[CV 2/5] END criterion=entropy, max_depth=8, max_features=log2, n_estimators=500;, score=0.944 total time=   0.6s\n",
      "[CV 3/5] END criterion=entropy, max_depth=8, max_features=log2, n_estimators=500;, score=0.926 total time=   0.6s\n",
      "[CV 4/5] END criterion=entropy, max_depth=8, max_features=log2, n_estimators=500;, score=0.935 total time=   0.6s\n",
      "[CV 5/5] END criterion=entropy, max_depth=8, max_features=log2, n_estimators=500;, score=0.917 total time=   0.6s\n"
     ]
    },
    {
     "data": {
      "text/plain": [
       "GridSearchCV(estimator=RandomForestClassifier(),\n",
       "             param_grid={'criterion': ['gini', 'entropy'],\n",
       "                         'max_depth': [4, 5, 6, 7, 8],\n",
       "                         'max_features': ['auto', 'sqrt', 'log2'],\n",
       "                         'n_estimators': [1, 500]},\n",
       "             verbose=3)"
      ]
     },
     "execution_count": 48,
     "metadata": {},
     "output_type": "execute_result"
    }
   ],
   "source": [
    "grid.fit(X_train,Y_train) # fit the \"grid\" object to the oversampled training feature values \"X_train\" and training target values \"Y_train\" using the \"fit\" method\n",
    "# this step performs the grid search to find the best hyperparameter values for the Random Forest Classifier model"
   ]
  },
  {
   "cell_type": "code",
   "execution_count": 49,
   "id": "95ddcca7-83b1-475d-983b-ef9e6e20c8ec",
   "metadata": {},
   "outputs": [
    {
     "data": {
      "text/plain": [
       "{'criterion': 'entropy',\n",
       " 'max_depth': 8,\n",
       " 'max_features': 'sqrt',\n",
       " 'n_estimators': 500}"
      ]
     },
     "execution_count": 49,
     "metadata": {},
     "output_type": "execute_result"
    }
   ],
   "source": [
    "grid.best_params_ # display the best hyperparameter values found by the grid search, as stored in the \"best_params_\" attribute of the \"grid\" object"
   ]
  },
  {
   "cell_type": "code",
   "execution_count": 50,
   "id": "f12198df-1984-4c6a-8c12-da535db06e06",
   "metadata": {},
   "outputs": [
    {
     "data": {
      "text/plain": [
       "RandomForestClassifier(criterion='entropy', max_depth=8, max_features='sqrt',\n",
       "                       n_estimators=500)"
      ]
     },
     "execution_count": 50,
     "metadata": {},
     "output_type": "execute_result"
    }
   ],
   "source": [
    "grid.best_estimator_ # display the best estimator found by the grid search, as stored in the \"best_estimator_\" attribute of the \"grid\" object\n",
    "# the best estimator is the Random Forest Classifier model with the hyperparameter values that performed the best on the training data, as determined by the grid search"
   ]
  },
  {
   "cell_type": "code",
   "execution_count": 51,
   "id": "1c6564aa-5262-4eb6-9625-c20f0baf9da1",
   "metadata": {},
   "outputs": [
    {
     "data": {
      "text/plain": [
       "RandomForestClassifier(criterion='entropy', max_depth=8, max_features='sqrt',\n",
       "                       n_estimators=500)"
      ]
     },
     "execution_count": 51,
     "metadata": {},
     "output_type": "execute_result"
    }
   ],
   "source": [
    "rfc = RandomForestClassifier(criterion= 'entropy', max_depth= 8, max_features= 'sqrt', n_estimators= 500)# create an object \"rfc\" that is an instance of the RandomForestClassifier class\n",
    "# the hyperparameters specified in the constructor are the best values found by the grid search\n",
    "# these hyperparameters will be used to initialize the random forest model\n",
    "rfc.fit(X_train, Y_train)# fit the \"rfc\" object to the oversampled training feature values \"X_train\" and training target values \"Y_train\" using the \"fit\" method\n",
    "# this step trains the random forest model using the specified hyperparameters and the training data"
   ]
  },
  {
   "cell_type": "code",
   "execution_count": 52,
   "id": "043507d5-b195-4b18-ae6b-77f00e61f1fb",
   "metadata": {},
   "outputs": [],
   "source": [
    "rfc_pred = rfc.predict(x_tst) # make predictions on the testing feature values \"x_tst\" using the \"predict\" method of the \"rfc\" object\n",
    "# store the predictions in a variable called \"rfc_pred\""
   ]
  },
  {
   "cell_type": "code",
   "execution_count": 53,
   "id": "2be1d4af-7252-4cac-bb58-50e1ce389cca",
   "metadata": {},
   "outputs": [],
   "source": [
    "rfc_Con_matrix = metrics.confusion_matrix(y_tst,rfc_pred) # create a confusion matrix using the \"confusion_matrix\" function from the \"metrics\" module, using the testing target values \"y_tst\" and the model's predictions \"rfc_pred\" as inputs\n",
    "# store the confusion matrix in a variable called \"rfc_Con_matrix\""
   ]
  },
  {
   "cell_type": "markdown",
   "id": "8147c4a2-a252-4da3-b19a-31db07e28ee5",
   "metadata": {},
   "source": [
    "### c - KNN"
   ]
  },
  {
   "cell_type": "code",
   "execution_count": 54,
   "id": "c31c1995-e19e-4175-98ce-3eb8f6cb1748",
   "metadata": {},
   "outputs": [],
   "source": [
    "error_rate = [] # create an empty list called \"error_rate\" to store the error rates of the K-Nearest Neighbors (KNN) model for different values of K\n",
    "for i in range(1,40): # for each integer value of \"i\" in the range 1 to 40:\n",
    "    knn = KNeighborsClassifier(n_neighbors=i) # - create an object \"knn\" that is an instance of the KNeighborsClassifier class\n",
    "    knn.fit(X_train,Y_train) # - set the value of the \"n_neighbors\" hyperparameter to \"i\" # - fit the \"knn\" object to the oversampled training feature values \"X_train\" and training target values \"Y_train\" using the \"fit\" method\n",
    "    pred_i = knn.predict(x_tst) # - make predictions on the testing feature values \"x_tst\" using the \"predict\" method of the \"knn\" object\n",
    "    error_rate.append(np.mean(pred_i != y_tst)) # - store the predictions in a variable called \"pred_i\"\n",
    "# - calculate the mean error rate of the predictions by taking the mean of the number of elements in \"pred_i\" that are not equal to the corresponding elements in \"y_tst\"\n",
    "# - append the error rate to the \"error_rate\" list\n",
    "# the resulting list \"error_rate\" will contain the error rate for each value of K tested"
   ]
  },
  {
   "cell_type": "code",
   "execution_count": 55,
   "id": "e4e17957-8f16-43f6-acaf-6ed192fad7ce",
   "metadata": {},
   "outputs": [
    {
     "data": {
      "text/plain": [
       "Text(0, 0.5, 'Error Rate')"
      ]
     },
     "execution_count": 55,
     "metadata": {},
     "output_type": "execute_result"
    },
    {
     "data": {
      "image/png": "[encoded data removed]",
      "text/plain": [
       "<Figure size 720x432 with 1 Axes>"
      ]
     },
     "metadata": {},
     "output_type": "display_data"
    }
   ],
   "source": [
    "plt.figure(figsize=(10,6)) # create a figure object with a specified width and height\n",
    "plt.plot(range(1,40),error_rate,color='blue', linestyle='dashed', marker='o', # create a line plot using the \"error_rate\" list as the y-values and the range of integers from 1 to 40 as the x-values\n",
    "markerfacecolor='red', markersize=10)# set the color, linestyle, and marker style of the plotted line\n",
    "plt.title('Error Rate vs. K Value')# add a title, x-axis label, and y-axis label to the plot\n",
    "plt.xlabel('K') # set the x axis label to K\n",
    "plt.ylabel('Error Rate')# show the plot"
   ]
  },
  {
   "cell_type": "code",
   "execution_count": 56,
   "id": "cb5f4002-5e62-4765-b9b9-f3194b2e93ea",
   "metadata": {},
   "outputs": [],
   "source": [
    "KNN = KNeighborsClassifier(n_neighbors=17) # create an object \"KNN\" that is an instance of the KNeighborsClassifier class\n",
    "# set the value of the \"n_neighbors\" hyperparameter to 17\n",
    "# this value was chosen based on the plot of error rate vs. K value, which showed that a K value of 17 resulted in a relatively low error rate"
   ]
  },
  {
   "cell_type": "code",
   "execution_count": 57,
   "id": "154391cf-fc40-4ee5-b553-a35a0d3b0a88",
   "metadata": {},
   "outputs": [
    {
     "data": {
      "text/plain": [
       "KNeighborsClassifier(n_neighbors=17)"
      ]
     },
     "execution_count": 57,
     "metadata": {},
     "output_type": "execute_result"
    }
   ],
   "source": [
    "KNN.fit(X_train,Y_train) # fit the \"KNN\" object to the oversampled training feature values \"X_train\" and training target values \"Y_train\" using the \"fit\" method\n",
    "# this step trains the KNN model using the specified hyperparameter value and the training data"
   ]
  },
  {
   "cell_type": "code",
   "execution_count": 58,
   "id": "7e3cc900-6d52-422d-b34e-a86f30baf2bf",
   "metadata": {},
   "outputs": [],
   "source": [
    "KNN_pred=knn.predict(x_tst) # make predictions on the testing feature values \"x_tst\" using the \"predict\" method of the \"KNN\" object\n",
    "# store the predictions in a variable called \"KNN_pred\""
   ]
  },
  {
   "cell_type": "code",
   "execution_count": 59,
   "id": "5490441b-c419-4aae-8ace-ca2b32532fb1",
   "metadata": {},
   "outputs": [],
   "source": [
    "KNN_Con_matrix =metrics.confusion_matrix(y_tst,KNN_pred) # create a confusion matrix using the \"confusion_matrix\" function from the \"metrics\" module, using the testing target values \"y_tst\" and the model's predictions \"KNN_pred\" as inputs\n",
    "# store the confusion matrix in a variable called \"KNN_Con_matrix\""
   ]
  },
  {
   "cell_type": "markdown",
   "id": "9782ccdc-d67d-4607-8e0e-67dc03a20ee6",
   "metadata": {},
   "source": [
    "### 3 - Evaluation of models"
   ]
  },
  {
   "cell_type": "markdown",
   "id": "c6623197-00d2-4ca0-a86a-72cdcd8c9f06",
   "metadata": {},
   "source": [
    "#### a - Decision Tree Classifier evaluation "
   ]
  },
  {
   "cell_type": "code",
   "execution_count": 60,
   "id": "20761062-88ed-4cf3-a39f-0a24faaa0784",
   "metadata": {},
   "outputs": [
    {
     "data": {
      "image/png": "[encoded data removed]",
      "text/plain": [
       "<Figure size 576x432 with 2 Axes>"
      ]
     },
     "metadata": {},
     "output_type": "display_data"
    }
   ],
   "source": [
    "labels = le.classes_ # create a list of class labels called \"labels\" using the \"classes_\" attribute of the \"le\" object (which is a label encoder)\n",
    "class_names = labels # create a variable \"class_names\" that is a copy of \"labels\"\n",
    "\n",
    "# Plot confusion matrix in a beautiful manner\n",
    "fig = plt.figure(figsize=(8, 6)) # create a figure object with a specified width and height\n",
    "ax= plt.subplot() # create a subplot object in the figure\n",
    "sns.heatmap(dtree_Con_matrix, annot=True, ax = ax, fmt = 'g'); # add labels to the cells of the heatmap using the \"annotate\" argument # create a heatmap of the confusion matrix \"dtree_Con_matrix\" using the \"heatmap\" function from the \"seaborn\" library\n",
    "# labels, title and ticks\n",
    "ax.set_xlabel('Predicted', fontsize=20) # set the x-axis label and y-axis label of the plot using the \"set_xlabel\" and \"set_ylabel\" methods, respectively\n",
    "ax.xaxis.set_label_position('bottom') # set the position of the x-axis label using the \"set_label_position\" method\n",
    "plt.xticks(rotation=90) # rotate the x-tick labels 90 degrees using the \"xticks\" method\n",
    "ax.xaxis.set_ticklabels(class_names, fontsize = 10) # set the tick labels for the x-axis using the \"set_ticklabels\" method\n",
    "ax.xaxis.tick_bottom() # move the x-tick labels to the bottom of the plot using the \"tick_bottom\" method\n",
    "\n",
    "ax.set_ylabel('True', fontsize=20) # set the tick labels for the y-axis using the \"set_ticklabels\" method\n",
    "ax.yaxis.set_ticklabels(class_names, fontsize = 10) \n",
    "plt.yticks(rotation=0) # rotate the y-tick labels 0 degrees using the \"yticks\" method\n",
    "\n",
    "plt.title('Decision tree model Confusion Matrix', fontsize=20) # add a title to the plot using the \"title\" method\n",
    "\n",
    "plt.savefig('ConMat24.png') # save the plot as a png file using the \"savefig\" method\n",
    "plt.show() # show the plot using the \"show\" method"
   ]
  },
  {
   "cell_type": "code",
   "execution_count": 61,
   "id": "44fbb79f-e145-4480-94b3-bd4474c0c83f",
   "metadata": {},
   "outputs": [
    {
     "name": "stdout",
     "output_type": "stream",
     "text": [
      "Sensitivity Decision Tree Model: 0.633189780635601\n",
      "Specificity of Decision Tree Model : 0.9321267794136778\n",
      "Area Under the Curve of Decision Tree Model: 0.7889919801289361\n",
      "Loss of model : 10.569091045259094\n",
      "              precision    recall  f1-score   support\n",
      "\n",
      "           P       0.91      0.53      0.67        19\n",
      "           R       0.80      0.67      0.73         6\n",
      "          SO       0.78      0.94      0.85        34\n",
      "          SW       0.57      0.68      0.62        19\n",
      "           T       0.38      0.75      0.50         4\n",
      "           W       0.43      0.23      0.30        13\n",
      "\n",
      "    accuracy                           0.68        95\n",
      "   macro avg       0.64      0.63      0.61        95\n",
      "weighted avg       0.70      0.68      0.67        95\n",
      "\n"
     ]
    }
   ],
   "source": [
    "# extracting the values of False positive, False negative, True positive and true negative from the confusion matrix \n",
    "FP_dtree = np.sum(dtree_Con_matrix, axis=0) - np.diag(dtree_Con_matrix) # create variables \"FP_dtree\", \"FN_dtree\", \"TP_dtree\", and \"TN_dtree\" that store the number of false positives, false negatives, true positives, and true negatives, respectively, in the confusion matrix \"dtree_Con_matrix\"\n",
    "FN_dtree = np.sum(dtree_Con_matrix, axis=1) - np.diag(dtree_Con_matrix) # the false positives are calculated by summing the values in each column of the confusion matrix and subtracting the diagonal elements (which are the true positives)\n",
    "TP_dtree = np.diag(dtree_Con_matrix) # the false negatives are calculated by summing the values in each row of the confusion matrix and subtracting the diagonal elements (which are the true positives)\n",
    "TN_dtree = np.sum(dtree_Con_matrix) - (FP_dtree + FN_dtree + TP_dtree)# the true positives are equal to the diagonal elements of the confusion matrix\n",
    "# the true negatives are calculated by summing all the elements in the confusion matrix and subtracting the false positives, false negatives, and true positives\n",
    "SEN_dtree = TP_dtree/(TP_dtree+FN_dtree) # create a variable \"SEN_dtree\" that stores the sensitivity of the decision tree model, calculated as the mean of the true positives divided by the sum of the true positives and false negatives for each class\n",
    "print(\"Sensitivity Decision Tree Model:\", np.mean(SEN_dtree)) # print the sensitivity of the decision tree model\n",
    "SPF_dtree = TN_dtree/(TN_dtree+FP_dtree) # create a variable \"SPF_dtree\" that stores the specificity of the decision tree model, calculated as the mean of the true negatives divided by the sum of the true negatives and false positives for each class\n",
    "print(\"Specificity of Decision Tree Model :\", np.mean(SPF_dtree)) # print the specificity of the decision tree model\n",
    "AUC_dtree = metrics.roc_auc_score(y_tst, dtree.predict_proba(x_tst), multi_class=\"ovo\",average= \"weighted\") # create a variable \"AUC_dtree\" that stores the area under the curve of the decision tree model, calculated using the \"roc_auc_score\" function from the \"metrics\" module and the testing target values \"y_tst\" and the model's predicted probabilities for the testing feature values \"x_tst\"\n",
    "print(\"Area Under the Curve of Decision Tree Model:\", AUC_dtree) # print the area under the curve of the decision tree model\n",
    "Loss_dtree = metrics.log_loss(y_tst, dtree.predict_proba(x_tst), eps=1e-15) # create a variable \"Loss_dtree\" that stores the log loss of the decision tree model, calculated using the \"log_loss\" function from the \"metrics\" module and the testing target values \"y_tst\" and the model's predicted probabilities for the testing feature values \"x_tst\"\n",
    "print(\"Loss of model :\", Loss_dtree) # print the log loss of the decision tree model\n",
    "print(metrics.classification_report(y_tst, predictions)) # print the classification report for the decision tree model using the \"classification_report\" function from the \"metrics\" module and the testing target values \"y_tst\" and the model"
   ]
  },
  {
   "cell_type": "markdown",
   "id": "0d0540dc-a0fc-49b0-b9a3-79b09317bf23",
   "metadata": {},
   "source": [
    "### b - Random Forest Classifier Evaluation "
   ]
  },
  {
   "cell_type": "code",
   "execution_count": 62,
   "id": "5b802fe0-ea92-4eda-a449-7a8f9ee9fb45",
   "metadata": {},
   "outputs": [
    {
     "data": {
      "image/png": "[encoded data removed]",
      "text/plain": [
       "<Figure size 576x432 with 2 Axes>"
      ]
     },
     "metadata": {},
     "output_type": "display_data"
    }
   ],
   "source": [
    "# Plot confusion matrix in a beautiful manner\n",
    "fig = plt.figure(figsize=(8, 6)) # create a figure object with a specified width and height\n",
    "ax= plt.subplot() # create a subplot object in the figure\n",
    "sns.heatmap(rfc_Con_matrix, annot=True, ax = ax, fmt = 'g'); # add labels to the cells of the heatmap using the \"annotate\" argument # create a heatmap of the confusion matrix \"rfc_Con_matrix\" using the \"heatmap\" function from the \"seaborn\" library\n",
    "# labels, title and ticks\n",
    "ax.set_xlabel('Predicted', fontsize=20) # set the x-axis label and y-axis label of the plot using the \"set_xlabel\" and \"set_ylabel\" methods, respectively\n",
    "ax.xaxis.set_label_position('bottom') # set the position of the x-axis label using the \"set_label_position\" method\n",
    "plt.xticks(rotation=90) # rotate the x-tick labels 90 degrees using the \"xticks\" method\n",
    "ax.xaxis.set_ticklabels(class_names, fontsize = 10) # set the tick labels for the x-axis using the \"set_ticklabels\" method\n",
    "ax.xaxis.tick_bottom() # move the x-tick labels to the bottom of the plot using the \"tick_bottom\" method\n",
    "\n",
    "ax.set_ylabel('True', fontsize=20) # set the tick labels for the y-axis using the \"set_ticklabels\" method\n",
    "ax.yaxis.set_ticklabels(class_names, fontsize = 10) \n",
    "plt.yticks(rotation=0) # rotate the y-tick labels 0 degrees using the \"yticks\" method\n",
    "\n",
    "plt.title('Random Forest Classifier Confusion Matrix', fontsize=20) # add a title to the plot using the \"title\" method\n",
    "\n",
    "plt.savefig('ConMat24.png') # save the plot as a png file using the \"savefig\" method\n",
    "plt.show() # show the plot using the \"show\" method"
   ]
  },
  {
   "cell_type": "code",
   "execution_count": 63,
   "id": "72c8905b-ff54-4f08-9cdc-c34b2ec5ea1d",
   "metadata": {},
   "outputs": [
    {
     "name": "stdout",
     "output_type": "stream",
     "text": [
      "Sensitivity score of Random Forest Classifier : 0.8033526501018762\n",
      "Specificity score of Random Forest Classifier : 0.9589271771530447\n",
      "Loss of Random Forest Classifier: 0.6896569703137172\n",
      "Area Under the Curve score of model : 0.947020949014594\n",
      "              precision    recall  f1-score   support\n",
      "\n",
      "           P       0.94      0.79      0.86        19\n",
      "           R       1.00      0.83      0.91         6\n",
      "          SO       0.80      0.97      0.88        34\n",
      "          SW       0.73      0.84      0.78        19\n",
      "           T       0.80      1.00      0.89         4\n",
      "           W       0.83      0.38      0.53        13\n",
      "\n",
      "    accuracy                           0.82        95\n",
      "   macro avg       0.85      0.80      0.81        95\n",
      "weighted avg       0.83      0.82      0.81        95\n",
      "\n"
     ]
    }
   ],
   "source": [
    "# Calculate the number of false positives, false negatives, true positives, and true negatives for the random forest classifier model\n",
    "FP_rfc = np.sum(rfc_Con_matrix, axis=0) - np.diag(rfc_Con_matrix) # false positives\n",
    "FN_rfc = np.sum(rfc_Con_matrix, axis=1) - np.diag(rfc_Con_matrix) # false negatives\n",
    "TP_rfc = np.diag(rfc_Con_matrix) # true positives\n",
    "TN_rfc = np.sum(rfc_Con_matrix) - (FP_rfc + FN_rfc + TP_rfc) # true negatives\n",
    "\n",
    "# Calculate the sensitivity (true positive rate) of the model\n",
    "SEN_rfc = TP_rfc/(TP_rfc+FN_rfc)\n",
    "print(\"Sensitivity score of Random Forest Classifier :\", np.mean(SEN_rfc))\n",
    "\n",
    "# Calculate the specificity (true negative rate) of the model\n",
    "SPF_rfc = TN_rfc/(TN_rfc+FP_rfc)\n",
    "print(\"Specificity score of Random Forest Classifier :\", np.mean(SPF_rfc))# printing the value of specificity\n",
    "\n",
    "# Calculate the log loss of the model\n",
    "Loss_rfc = metrics.log_loss(y_tst, rfc.predict_proba(x_tst), eps=1e-15)\n",
    "print(\"Loss of Random Forest Classifier:\", Loss_rfc)\n",
    "\n",
    "# Calculate the AUC score of the model\n",
    "AUC_rfc = metrics.roc_auc_score(y_tst, rfc.predict_proba(x_tst), multi_class=\"ovo\",average= \"weighted\")\n",
    "print(\"Area Under the Curve score of model :\", AUC_rfc)\n",
    "\n",
    "# Generate a classification report for the model\n",
    "print(metrics.classification_report(y_tst, rfc_pred))\n"
   ]
  },
  {
   "cell_type": "markdown",
   "id": "6f8085cf-5da3-4b8d-8631-69e54831b485",
   "metadata": {},
   "source": [
    "### c - KNearest Neighbor Classifier Evaluation"
   ]
  },
  {
   "cell_type": "code",
   "execution_count": 64,
   "id": "4d38c216-62e3-4fae-a1ab-cf405624a444",
   "metadata": {},
   "outputs": [
    {
     "data": {
      "image/png": "[encoded data removed]",
      "text/plain": [
       "<Figure size 576x432 with 2 Axes>"
      ]
     },
     "metadata": {},
     "output_type": "display_data"
    }
   ],
   "source": [
    "# Plot confusion matrix in a beautiful manner\n",
    "fig = plt.figure(figsize=(8, 6)) # create a figure object with a specified width and height\n",
    "ax= plt.subplot() # create a subplot object in the figure\n",
    "sns.heatmap(KNN_Con_matrix, annot=True, ax = ax, fmt = 'g'); # add labels to the cells of the heatmap using the \"annotate\" argument # create a heatmap of the confusion matrix \"KNN_Con_matrix\" using the \"heatmap\" function from the \"seaborn\" library\n",
    "# labels, title and ticks\n",
    "ax.set_xlabel('Predicted', fontsize=20) # set the x-axis label and y-axis label of the plot using the \"set_xlabel\" and \"set_ylabel\" methods, respectively\n",
    "ax.xaxis.set_label_position('bottom') # set the position of the x-axis label using the \"set_label_position\" method\n",
    "plt.xticks(rotation=90) # rotate the x-tick labels 90 degrees using the \"xticks\" method\n",
    "ax.xaxis.set_ticklabels(class_names, fontsize = 10) # set the tick labels for the x-axis using the \"set_ticklabels\" method\n",
    "ax.xaxis.tick_bottom() # move the x-tick labels to the bottom of the plot using the \"tick_bottom\" method\n",
    "\n",
    "ax.set_ylabel('True', fontsize=20) # set the tick labels for the y-axis using the \"set_ticklabels\" method\n",
    "ax.yaxis.set_ticklabels(class_names, fontsize = 10) \n",
    "plt.yticks(rotation=0) # rotate the y-tick labels 0 degrees using the \"yticks\" method\n",
    "\n",
    "plt.title('K Nearest Neighbor Classifier Confusion Matrix', fontsize=20) # add a title to the plot using the \"title\" method\n",
    "\n",
    "plt.savefig('ConMat24.png') # save the plot as a png file using the \"savefig\" method\n",
    "plt.show() # show the plot using the \"show\" method"
   ]
  },
  {
   "cell_type": "code",
   "execution_count": 65,
   "id": "ded65373-8ce2-4391-a486-d37e065f33d0",
   "metadata": {},
   "outputs": [
    {
     "name": "stdout",
     "output_type": "stream",
     "text": [
      "Sensitivity score of K-Nearest Neighbour Classifier : 0.6519607843137255\n",
      "Specificity score of K-Nearest Neighbour Classifier : 0.9222838558054205\n",
      "Loss of K-Nearest Neighbour Classifier: 3.075213692275503\n",
      "Area Under the Curve score of K-Nearest Neighbour Classifier : 0.9127324488286686\n",
      "              precision    recall  f1-score   support\n",
      "\n",
      "           P       0.69      0.47      0.56        19\n",
      "           R       0.38      1.00      0.55         6\n",
      "          SO       0.74      0.91      0.82        34\n",
      "          SW       0.71      0.53      0.61        19\n",
      "           T       0.50      1.00      0.67         4\n",
      "           W       0.00      0.00      0.00        13\n",
      "\n",
      "    accuracy                           0.63        95\n",
      "   macro avg       0.50      0.65      0.53        95\n",
      "weighted avg       0.59      0.63      0.59        95\n",
      "\n"
     ]
    }
   ],
   "source": [
    "# Calculate the number of false positives, false negatives, true positives, and true negatives for the KNN classifier model\n",
    "FP_KNN = np.sum(KNN_Con_matrix, axis=0) - np.diag(KNN_Con_matrix) # false positives\n",
    "FN_KNN = np.sum(KNN_Con_matrix, axis=1) - np.diag(KNN_Con_matrix) # false negatives\n",
    "TP_KNN = np.diag(KNN_Con_matrix) # true positives\n",
    "TN_KNN = np.sum(KNN_Con_matrix) - (FP_KNN + FN_KNN + TP_KNN) # true negatives\n",
    "\n",
    "# Calculate the sensitivity (true positive rate) of the model\n",
    "SEN_KNN = TP_KNN/(TP_KNN+FN_KNN)\n",
    "print(\"Sensitivity score of K-Nearest Neighbour Classifier :\", np.mean(SEN_KNN))\n",
    "\n",
    "# Calculate the specificity (true negative rate) of the model\n",
    "SPF_KNN = TN_KNN/(TN_KNN+FP_KNN)\n",
    "print(\"Specificity score of K-Nearest Neighbour Classifier :\", np.mean(SPF_KNN))\n",
    "\n",
    "# Calculate the log loss of the model\n",
    "Loss_KNN = metrics.log_loss(y_tst, KNN.predict_proba(x_tst), eps=1e-15)\n",
    "print(\"Loss of K-Nearest Neighbour Classifier:\", Loss_KNN)\n",
    "\n",
    "AUC_KNN = metrics.roc_auc_score(y_tst, KNN.predict_proba(x_tst), multi_class=\"ovo\",average= \"weighted\") # Calculate the AUC score of the KNN model\n",
    "print(\"Area Under the Curve score of K-Nearest Neighbour Classifier :\", AUC_KNN) # Print the AUC score\n",
    "\n",
    "print(metrics.classification_report(y_tst, KNN_pred)) # Generate a classification report for the KNN model"
   ]
  },
  {
   "cell_type": "markdown",
   "id": "7df014b2-8fd2-4249-9f75-215f3de71ace",
   "metadata": {},
   "source": [
    "### d - Selecting and Justifying the final Classifier selected for our problem"
   ]
  },
  {
   "cell_type": "markdown",
   "id": "94316d26-69c3-460d-aa60-b541bd199369",
   "metadata": {},
   "source": [
    "Three models trained were selected on the basis of their ability to handle multi-class problems hence we selected Decision Tree, Random Forest and KNearest Neighbors as our trainable model whereas our data required us to balance the classes as there was a huge imbalance and the options for balancing were limited as the data we have is not enough for training the model to classify six classes hence the choice made was to use SMOTE to add synthetic data for our dataset. Furthermore, upon checking the data distribution it was clear that the distribution of the data had a right skew and to eliminate this I had touse either standardization or normalization as I already knew that I had to balance the classes hence the normalization was eleminated from the selection as we cannot balance the normalized data. then the data was nearly in gaussean distibution and ready for training the model. Then, I split the data and then increased the number of samples using SMOTE and had the divided into X_train, Y_train, x_tst, y_tst and completely ready to be trained. After training the model I have compared all the evaluation metrics of the models and the deciding factor of the model was mainly the cross entropy loss also know as log_loss in sklearn metrics because it indicates if the trained model is able to classify the right class properly. whreas we'll still compare other metrics such as senstivity, specificity and area un the curve of a roc curve."
   ]
  },
  {
   "cell_type": "markdown",
   "id": "8174a602-6e9a-48dc-98d0-3c94ba6fa6e8",
   "metadata": {},
   "source": [
    "Evaluating the performance of our trained model let's focus on the results of decision tree classifier, KNN and Random Forest Classifier respectively, the senstivity score or the true positive rate of 0.67, 0.65, 0.80 specificty score is 0.94, 0.92, 0.95 AUC is 0.82, 0.91, 0.95 and Loss is 9.2, 3.08, 0.7 the senstivity of the this model indicates that it is only able to detect the right class 67% of the times and specificity indicates that it is able to identify the true negative 94% of the times and for a good model the senstivity should be higher than the specificity the AUC tells us if the model is able to classify any input given to regardless if it is right classification or the wrong classification and the loss tells us if the model is able to make right classification upon analysis of the models train Random Forest Classifier is able to classify the right with the highest amount of senstivity , specificity, AUC and the best loss. "
   ]
  }
 ],
 "metadata": {
  "kernelspec": {
   "display_name": "Python 3 (ipykernel)",
   "language": "python",
   "name": "python3"
  },
  "language_info": {
   "codemirror_mode": {
    "name": "ipython",
    "version": 3
   },
   "file_extension": ".py",
   "mimetype": "text/x-python",
   "name": "python",
   "nbconvert_exporter": "python",
   "pygments_lexer": "ipython3",
   "version": "3.9.7"
  }
 },
 "nbformat": 4,
 "nbformat_minor": 5
}
